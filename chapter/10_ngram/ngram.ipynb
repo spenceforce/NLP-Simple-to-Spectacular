{
 "cells": [
  {
   "cell_type": "raw",
   "id": "9f959263-77a6-4745-9f20-9ddf967ad220",
   "metadata": {},
   "source": [
    "---\n",
    "title: \"Why one when you can have N?\"\n",
    "---"
   ]
  },
  {
   "cell_type": "markdown",
   "id": "560776f0-e9e2-4f5b-824b-395008b40053",
   "metadata": {},
   "source": [
    "We have successfully made [gibberish](../09_unigram/unigram.ipynb) and now we'll build upon our Unigram model to make slightly less gibberish with n-gram models. Let's recap Unigram models before digging in."
   ]
  },
  {
   "cell_type": "markdown",
   "id": "cb80684e-ed63-4377-80d6-b2f9106a9691",
   "metadata": {},
   "source": [
    "## Unigram models\n",
    "\n",
    "A unigram model generates text, one token at a time, based on the frequency of individual tokens in the training data. If \"a\" is used 25% of the time in the training data, it will make up roughly 25% of the generated text as well. But this says nothing about _order_. All we get from this model is frequency. Now that we've got the frequency of tokens right, we can turn our attention to how those tokens are ordered."
   ]
  },
  {
   "cell_type": "markdown",
   "id": "dcf53645-3eda-4ffc-a673-ce871feadaf0",
   "metadata": {},
   "source": [
    "## N-gram models\n",
    "\n",
    "N-gram models are natural extensions to unigram models by accounting for frequency and order. Instead of using the frequency of a token in the training data, they use the frequency of a token _given the preceding token(s)_. Continuing with the previous example of the frequency of \"a\" showing up 25% of the time in the training data. Let's say it's frequency is only 5% when the letter before it is \"e\", then an n-gram model will capture that frequency, and while it will generate text that still outputs \"a\" roughly 25% of the time, it will also output text where \"a\" only appears %5 of the time after an \"e\".\n",
    "\n",
    "Effectively, an n-gram model looks backward at the tokens that's already there to determine what token to put next!"
   ]
  },
  {
   "cell_type": "markdown",
   "id": "b6d48d0c-d6f5-481e-b50a-70949ce1e186",
   "metadata": {},
   "source": [
    "### Padding\n",
    "\n",
    "Before we implement an n-gram model we need to talk about padding tokens. These are special tokens that have no meaning, they're sole purpose is to extend a sequence to a certain length. Let's grab an example from the training data and see why we need padding tokens at all."
   ]
  },
  {
   "cell_type": "code",
   "execution_count": 1,
   "id": "d0ba7def-6bb1-40b4-81e7-e00234f24cbd",
   "metadata": {},
   "outputs": [],
   "source": [
    "from nlpbook import get_unsup_data\n",
    "from nlpbook.preprocessing.tokenizer import CharTokenizer\n",
    "\n",
    "# We want to split the dataset into train and test sets.\n",
    "# We'll save the test set for later.\n",
    "train_df, test_df = get_unsup_data(split=True)\n",
    "\n",
    "# Train the tokenizer with the reviews in the train set.\n",
    "tokenizer = CharTokenizer()\n",
    "tokenizer.train(train_df[\"review\"])\n",
    "\n",
    "# Get the encoding for the first review in the dataset.\n",
    "encoding = tokenizer.encode(train_df[\"review\"].iloc[0])"
   ]
  },
  {
   "cell_type": "markdown",
   "id": "027d33b6-259d-47d4-9051-b56fdd06232c",
   "metadata": {},
   "source": [
    "In the unigram model, we count the numbers of each token. Let's do that now."
   ]
  },
  {
   "cell_type": "code",
   "execution_count": 2,
   "id": "ee42841f-f417-45ff-99b9-3ff4c5ab9dab",
   "metadata": {},
   "outputs": [],
   "source": [
    "import numpy as np\n",
    "counts = np.zeros(len(tokenizer.tokens))\n",
    "for tok in encoding:\n",
    "    counts[tok] += 1\n",
    "frequencies = counts / counts.sum()"
   ]
  },
  {
   "cell_type": "markdown",
   "id": "d58c2ee6-0f5b-4904-977a-483633c7c0e7",
   "metadata": {},
   "source": [
    "If we inspect the counts we should see the `<cls>` token, which identifies the start of the sequence."
   ]
  },
  {
   "cell_type": "code",
   "execution_count": 3,
   "id": "e3cc0f28-d885-4000-9477-cbcd07dc31dc",
   "metadata": {},
   "outputs": [
    {
     "data": {
      "text/plain": [
       "np.float64(1.0)"
      ]
     },
     "execution_count": 3,
     "metadata": {},
     "output_type": "execute_result"
    }
   ],
   "source": [
    "counts[tokenizer.cls_idx]"
   ]
  },
  {
   "cell_type": "markdown",
   "id": "761c92db-29b3-405b-b2c0-049955ab0149",
   "metadata": {},
   "source": [
    "So far, so good. We see the `<cls>` token show up once which is what we would expect. Now if we were to do this with an n-gram model, we would compute the frequencies for each token given the token that comes before it. That would look something like this."
   ]
  },
  {
   "cell_type": "code",
   "execution_count": 4,
   "id": "dbe6404d-1d91-4ccf-9820-1655a0c6303e",
   "metadata": {},
   "outputs": [],
   "source": [
    "counts2 = np.zeros((len(tokenizer.tokens), ) * 2)\n",
    "for i in range(1, len(encoding)):\n",
    "    prefix, tok = encoding[i-1], encoding[i]\n",
    "    counts2[prefix, tok] += 1"
   ]
  },
  {
   "cell_type": "markdown",
   "id": "fc8baad1-4900-491a-89d9-0b99b7e67b91",
   "metadata": {},
   "source": [
    "Let's look at the `<cls>` token again. This is the sum of all occurences of `<cls>` given any prefix token."
   ]
  },
  {
   "cell_type": "code",
   "execution_count": 5,
   "id": "4a8be7b9-cdb0-494d-bb24-0b9369879393",
   "metadata": {},
   "outputs": [
    {
     "data": {
      "text/plain": [
       "np.float64(0.0)"
      ]
     },
     "execution_count": 5,
     "metadata": {},
     "output_type": "execute_result"
    }
   ],
   "source": [
    "counts2[:, tokenizer.cls_idx].sum()"
   ]
  },
  {
   "cell_type": "markdown",
   "id": "77352bf0-f007-49fa-a0fe-fe291647beae",
   "metadata": {},
   "source": [
    "And now we have a problem! Because nothing comes before the `<cls>` token, it is never counted!\n",
    "\n",
    "Enter the padding token, which we'll represent as `<pad>`. If we add a `<pad>` token to the start of our encoding, then it should count the `<cls>` token. Since the purpose of the `<pad>` token is only to extend the encoding, we don't actually care about counting it and we can safely ignore it.\n",
    "\n",
    "I've already taken the liberty of adding `<pad>` as a token to the tokenizer. The token is available as `tokenizer.pad_idx`."
   ]
  },
  {
   "cell_type": "code",
   "execution_count": 6,
   "id": "c258419d-caa6-4ad9-b6c7-e5df4f63d66f",
   "metadata": {},
   "outputs": [
    {
     "data": {
      "text/plain": [
       "np.float64(1.0)"
      ]
     },
     "execution_count": 6,
     "metadata": {},
     "output_type": "execute_result"
    }
   ],
   "source": [
    "pad_encoding = [tokenizer.pad_idx] + encoding\n",
    "counts2 = np.zeros((len(tokenizer.tokens), ) * 2)\n",
    "for i in range(1, len(pad_encoding)):\n",
    "    prefix, tok = pad_encoding[i-1], pad_encoding[i]\n",
    "    counts2[prefix, tok] += 1\n",
    "counts2[:, tokenizer.cls_idx].sum()"
   ]
  },
  {
   "cell_type": "markdown",
   "id": "c767d9a7-fd26-43b4-abe2-6e6868602603",
   "metadata": {},
   "source": [
    "Ta-da! With `<pad>` tokens, we can now properly count the _real_ tokens in our encodings."
   ]
  },
  {
   "cell_type": "markdown",
   "id": "5514ff7b-2ac1-4acf-b6bc-da2da74c6ae8",
   "metadata": {},
   "source": [
    "### The n in n-gram\n",
    "\n",
    "N-gram models get their name from the number of tokens used to compute frequencies. A unigram model uses a single token, a bigram model uses two tokens, a trigram model uses three tokens, and so on. The example we used in [Padding](#padding) counted two tokens at a time, and once converted to frequencies, would give us a bigram model (N=2).\n",
    "\n",
    "This also affects padding, as a bigram model needs one `<pad>` token at the start and a trigram model would need two."
   ]
  },
  {
   "cell_type": "markdown",
   "id": "7821647d-b565-4097-962d-5245d27cc1c0",
   "metadata": {},
   "source": [
    "### Sampling\n",
    "\n",
    "Computing frequencies requires some care, since the frequency of a given token depends on _what came before it_. Let's return to our bigram counts and compute the frequency of \"e\" in the data."
   ]
  },
  {
   "cell_type": "code",
   "execution_count": 7,
   "id": "e400242a-cccb-4b20-bafd-2d8cad7e1ac5",
   "metadata": {},
   "outputs": [
    {
     "data": {
      "text/plain": [
       "np.float64(0.09461426491994177)"
      ]
     },
     "execution_count": 7,
     "metadata": {},
     "output_type": "execute_result"
    }
   ],
   "source": [
    "(counts2 / counts2.sum())[:, tokenizer.tok2idx[\"e\"]].sum()"
   ]
  },
  {
   "cell_type": "markdown",
   "id": "8f615cb8-0dcd-4a56-a338-f146797bd003",
   "metadata": {},
   "source": [
    "\"e\" makes up 9% of the characters in our review. Now, how frequently does \"e\" show up given \"i\" comes before it?"
   ]
  },
  {
   "cell_type": "code",
   "execution_count": 8,
   "id": "55909f58-a303-4792-874d-7fe2b6c306ed",
   "metadata": {},
   "outputs": [
    {
     "data": {
      "text/plain": [
       "np.float64(0.02702702702702703)"
      ]
     },
     "execution_count": 8,
     "metadata": {},
     "output_type": "execute_result"
    }
   ],
   "source": [
    "prefix_i = counts2[tokenizer.tok2idx[\"i\"]]\n",
    "(prefix_i / prefix_i.sum())[tokenizer.tok2idx[\"e\"]]"
   ]
  },
  {
   "cell_type": "markdown",
   "id": "30c7a8eb-50d9-4f37-9ce4-47848f78e42e",
   "metadata": {},
   "source": [
    "It shows up less frequently at 3% when prefixed with \"i\".\n",
    "\n",
    "We've now built a relationship between frequency of tokens and their order. In theory, this should allow us to generate more realistic reviews."
   ]
  },
  {
   "cell_type": "markdown",
   "id": "84ebf9f2-3953-4e6a-8c48-cbf747996341",
   "metadata": {},
   "source": [
    "## Putting it all together\n",
    "\n",
    "We've already created a unigram model, so we can reuse that when N=1. Let's implement n-gram models for N>=2.\n",
    "\n",
    "::: {.callout-note}\n",
    "`np.zeros` runs out of memory on my laptop for N>= 5, so I made a custom sparse matrix which can be found [here](https://github.com/spenceforce/NLP-Simple-to-Spectacular/blob/main/nlpbook/sparse/_nlp.py) for those interested in the implementation. It's very bare bones, but sufficient for our purposes. Scipy's sparse matrices only work in one or two dimensions, so I had to get a little creative.\n",
    ":::"
   ]
  },
  {
   "cell_type": "code",
   "execution_count": 9,
   "id": "76f7323e-4e91-4de5-8089-1a8237f81d3e",
   "metadata": {},
   "outputs": [],
   "source": [
    "from nlpbook.models.ngram import Unigram\n",
    "from nlpbook.sparse import nlp_array\n",
    "\n",
    "\n",
    "class NgramBase:\n",
    "\n",
    "    def __init__(self, tokenizer, N=2, seed=None):\n",
    "        assert N >= 2, \"N must be 2 or more.\"\n",
    "        self.tokenizer = tokenizer\n",
    "        self.N = N\n",
    "        self.rng = np.random.default_rng(seed)\n",
    "\n",
    "    def fit(self, X):\n",
    "        \"\"\"Expects `X` to be a list of encodings, not a matrix.\"\"\"\n",
    "        self.counts_ = nlp_array((len(self.tokenizer.tokens),) * self.N)\n",
    "        for x in X:\n",
    "            for i in range(len(x) - self.N + 1):\n",
    "                self.counts_[*x[i:i+self.N]] += 1\n",
    "        return self\n",
    "\n",
    "    def _sample(self):\n",
    "        \"\"\"Return a generated encoding.\"\"\"\n",
    "        values = list(range(len(self.tokenizer.tokens)))\n",
    "        encoding = [self.tokenizer.pad_idx] * (self.N - 2) + [self.tokenizer.cls_idx]\n",
    "        while encoding[-1] != self.tokenizer.eos_idx:\n",
    "            prefix = encoding[-(self.N - 1):]\n",
    "            counts = self.counts_[*prefix].toarray() + 1\n",
    "            probabilities = counts / counts.sum()\n",
    "            encoding.append(\n",
    "                int(self.rng.choice(values, p=probabilities))\n",
    "            )\n",
    "        return encoding[self.N-2:]\n",
    "\n",
    "    def sample(self, n=1):\n",
    "        \"\"\"Generate encodings.\"\"\"\n",
    "        assert (\n",
    "            n > 0\n",
    "        ), \"Cannot generate a nonpositive number of samples.\"\n",
    "        if n == 1:\n",
    "            return self._sample()\n",
    "        return [self._sample() for _ in range(n)]\n",
    "\n",
    "    def probabilities(self, encoding):\n",
    "        \"\"\"Return probabilities of the encoding.\"\"\"\n",
    "        probabilities = []\n",
    "        for i in range(len(encoding) - self.N + 1):\n",
    "            prefix = encoding[i:i + self.N - 1]\n",
    "            counts = self.counts_[*prefix].toarray() + 1\n",
    "            probs = counts / counts.sum()\n",
    "            probabilities.append(probs[encoding[i + self.N - 1]])\n",
    "        return np.array(probabilities)\n",
    "\n",
    "\n",
    "class Ngram:\n",
    "\n",
    "    def __init__(self, tokenizer, N=1, seed=None):\n",
    "        assert N >= 1, \"N must be positive.\"\n",
    "        if N == 1:\n",
    "            self.ngram = Unigram(tokenizer, seed=seed)\n",
    "        else:\n",
    "            self.ngram = NgramBase(tokenizer, N=N, seed=seed)\n",
    "\n",
    "    @property\n",
    "    def tokenizer(self):\n",
    "        return self.ngram.tokenizer\n",
    "\n",
    "    @property\n",
    "    def N(self):\n",
    "        if isinstance(self.ngram, Unigram):\n",
    "            return 1\n",
    "        return self.ngram.N\n",
    "\n",
    "    @property\n",
    "    def seed(self):\n",
    "        return self.ngram.seed\n",
    "\n",
    "    @property\n",
    "    def rng(self):\n",
    "        return self.ngram.rng\n",
    "\n",
    "    def fit(self, X):\n",
    "        \"\"\"Expects `X` to be a list of encodings, not a matrix.\"\"\"\n",
    "        self.ngram.fit(X)\n",
    "        return self\n",
    "\n",
    "    def sample(self, n=1):\n",
    "        \"\"\"Generate encodings.\"\"\"\n",
    "        return self.ngram.sample(n)\n",
    "\n",
    "    def probabilities(self, encoding):\n",
    "        \"\"\"Return probabilities of the encoding.\"\"\"\n",
    "        return self.ngram.probabilities(encoding)"
   ]
  },
  {
   "cell_type": "markdown",
   "id": "6087c328-e5d2-4e1f-af46-36e59e9a3d71",
   "metadata": {},
   "source": [
    "Now for the fun part, text generation. Let's build a trigram model and see what it generates!"
   ]
  },
  {
   "cell_type": "code",
   "execution_count": 10,
   "id": "ed1056c6-7755-4906-85e3-1e07f129877e",
   "metadata": {},
   "outputs": [
    {
     "data": {
      "text/plain": [
       "'The \"onising abletche Holookessed ones , I file-lis st is, to vievery abords movandurectiondappe ovie, as but HE selly poing, this fir«¡Z¡;ä§¤ï<cls>k°à4\\xa0Qı\\'Ｒ<cls>gK'"
      ]
     },
     "execution_count": 10,
     "metadata": {},
     "output_type": "execute_result"
    }
   ],
   "source": [
    "N = 3\n",
    "model = Ngram(tokenizer, N=N, seed=100392)\n",
    "encodings = tokenizer.encode_batch(train_df['review'], pad_left=N-1)\n",
    "model.fit(encodings)\n",
    "generated = tokenizer.decode(model.sample())\n",
    "generated"
   ]
  },
  {
   "cell_type": "markdown",
   "id": "66b7d79f-2354-4a1c-a650-83c6934e7c77",
   "metadata": {},
   "source": [
    "Ah, beautiful, beautiful gibberish. But there's some structure here which is progress. If you squint it kind of looks like a real sentence. We even see words, \"The\" and \"but\" are examples. What's going on at the end of the sentence though? The model seems to go off the rail and generates some odd looking gibberish. Let's investigate where \"«¡Z¡;ä§¤ï<cls>k°à4 Qı'Ｒ<cls>gK\" came from.\n",
    "\n",
    "We'll start with the first character in that string \"«\". Given the two preceding characters \"ir\", how many times does \"«\" appear in the training data?"
   ]
  },
  {
   "cell_type": "code",
   "execution_count": 11,
   "id": "955dcae5-cd1b-41b6-a991-b8c2ab80c018",
   "metadata": {},
   "outputs": [
    {
     "data": {
      "text/plain": [
       "(np.float64(110731.0), np.float64(0.0))"
      ]
     },
     "execution_count": 11,
     "metadata": {},
     "output_type": "execute_result"
    }
   ],
   "source": [
    "encoding = tokenizer.encode(\"ir«\")[1:-1]\n",
    "prefix, token = encoding[:-1], encoding[-1]\n",
    "prefix_counts = model.ngram.counts_[*prefix].toarray()\n",
    "prefix_counts.sum(), prefix_counts[token]"
   ]
  },
  {
   "cell_type": "markdown",
   "id": "2d6a38e7-b10e-47b6-84c8-0ebbf17c8a9d",
   "metadata": {},
   "source": [
    "The prefix \"ir\" does appear in the dataset, but \"«\" doesn't appear after those characters. Since we added label smoothing, it's still possible to select \"«\" and by the miracle of probability it was in this case. We can repeat this process with \"r«¡\"."
   ]
  },
  {
   "cell_type": "code",
   "execution_count": 12,
   "id": "560c6b6e-e172-4e41-9081-8fbd521904ad",
   "metadata": {},
   "outputs": [
    {
     "data": {
      "text/plain": [
       "(np.float64(0.0), np.float64(0.0))"
      ]
     },
     "execution_count": 12,
     "metadata": {},
     "output_type": "execute_result"
    }
   ],
   "source": [
    "encoding = tokenizer.encode(\"r«¡\")[1:-1]\n",
    "prefix, token = encoding[:-1], encoding[-1]\n",
    "prefix_counts = model.ngram.counts_[*prefix].toarray()\n",
    "prefix_counts.sum(), prefix_counts[token]"
   ]
  },
  {
   "cell_type": "markdown",
   "id": "7fae61a5-60a3-4536-9d29-5bddca01e7f9",
   "metadata": {},
   "source": [
    "It seems the model has reached an n-gram that isn't part of the training data. Since there are no occurences of the \"r«\" prefix, any token that comes after it has equal probability. At this point it's just guessing randomly and that continues to generate n-grams that aren't seen in the training data. It ends up in this dead zone of the probability distribution where all tokens have equal likelihood of being generated, but none of those tokens mean anything to the model.\n",
    "\n",
    "We can visualize the training data counts of each token in the generated review with a bar plot."
   ]
  },
  {
   "cell_type": "code",
   "execution_count": 13,
   "id": "e0efce72-a24e-4071-a1b7-1d69258262af",
   "metadata": {},
   "outputs": [
    {
     "data": {
      "image/png": "[encoded data removed]",
      "text/plain": [
       "<Figure size 611.111x400 with 1 Axes>"
      ]
     },
     "metadata": {},
     "output_type": "display_data"
    }
   ],
   "source": [
    "#| code-fold: true\n",
    "import matplotlib.ticker as ticker\n",
    "import seaborn as sns\n",
    "\n",
    "#encoding = tokenizer.encode(generated)\n",
    "encoding = tokenizer.encode(\"The \\\"onising abletche Holookessed ones , I file-lis st is, to vievery abords movandurectiondappe ovie, as but HE selly poing, this fir«¡Z¡;ä§¤ï<cls>k°à4 Qı'Ｒ<cls>gK\")\n",
    "counts = []\n",
    "for i in range(len(encoding) - 2):\n",
    "    counts.append(model.ngram.counts_[*encoding[i:i+3]])\n",
    "g = sns.catplot(x=range(len(counts)), y=counts, kind='bar', height=4, aspect=1.5, facet_kws={\"subplot_kws\": {\"yscale\": \"log\"}})\n",
    "g.ax.xaxis.set_major_locator(ticker.FixedLocator([0] + list(range(10, len(counts), 10))))"
   ]
  },
  {
   "cell_type": "markdown",
   "id": "3e1af980-e8ea-48fe-9b11-98e2a929cd97",
   "metadata": {},
   "source": [
    "Just after the 130th token we see the counts drop to 0 and the model never finds its way back to probable n-grams.\n",
    "\n",
    "A simple way to address this is by removing the offending token that got us there and preventing the model from going back down that path."
   ]
  },
  {
   "cell_type": "code",
   "execution_count": 14,
   "id": "6435ea7c-e9fe-4a33-aa08-c4cccb8ae711",
   "metadata": {},
   "outputs": [],
   "source": [
    "class MaskingNgramBase(NgramBase):\n",
    "\n",
    "    def __init__(self, tokenizer, N=2, seed=None):\n",
    "        super().__init__(tokenizer, N=N, seed=seed)\n",
    "\n",
    "    def fit(self, X):\n",
    "        \"\"\"Expects `X` to be a list of encodings, not a matrix.\"\"\"\n",
    "        self.sampling_mask_ = nlp_array((len(self.tokenizer.tokens),) * self.N)\n",
    "        return super().fit(X)\n",
    "\n",
    "    def _sample(self):\n",
    "        \"\"\"Return a generated encoding.\"\"\"\n",
    "        values = list(range(len(self.tokenizer.tokens)))\n",
    "        encoding = [self.tokenizer.pad_idx] * (self.N - 2) + [self.tokenizer.cls_idx]\n",
    "        while encoding[-1] != self.tokenizer.eos_idx:\n",
    "            prefix = encoding[-(self.N - 1):]\n",
    "            counts = self.counts_[*prefix].toarray()\n",
    "            if np.sum(counts) == 0:\n",
    "                # Mask the last token to prevent it being sampled\n",
    "                last_N = encoding[-self.N:]\n",
    "                self.sampling_mask_[*last_N] = -1\n",
    "                # Remove the last token in the encoding\n",
    "                encoding = encoding[:-1]\n",
    "                continue\n",
    "            # Add label smoothing\n",
    "            counts += 1\n",
    "            # Mask out any tokens that will lead to dead areas\n",
    "            counts += self.sampling_mask_[*prefix].toarray()\n",
    "            probabilities = counts / counts.sum()\n",
    "            encoding.append(\n",
    "                int(self.rng.choice(values, p=probabilities))\n",
    "            )\n",
    "        return encoding[self.N-2:]\n",
    "\n",
    "class MaskingNgram(Ngram):\n",
    "\n",
    "    def __init__(self, tokenizer, N=1, seed=None):\n",
    "        assert N >= 1, \"N must be positive.\"\n",
    "        if N == 1:\n",
    "            self.ngram = Unigram(tokenizer, seed=seed)\n",
    "        else:\n",
    "            self.ngram = MaskingNgramBase(tokenizer, N=N, seed=seed)"
   ]
  },
  {
   "cell_type": "code",
   "execution_count": 15,
   "id": "baf4b393-e881-4b9f-b8cc-8b6ed599cc86",
   "metadata": {},
   "outputs": [
    {
     "data": {
      "text/plain": [
       "'The \"onising abletche Holookessed ones , I file-lis st is, to vievery abords movandurectiondappe ovie, as but HE selly poing, this fire latchey mond thrught by,in thitherfor />Ever he be and of rall, pripirealed ant of as wilm drut an as gooreariclotat crems usionglaitaings pok/Spas witt onto moth. Young abougooke kiderentle my the Eng Awat of afte horimi doithe movientime of ted, look be Summes there wine Woormain And efew th I\\'m it is of. I knousen the th making gresedial a st injoins!)<br thate wit hat billy costrat It the cand nain causidge murser scavery ithinge faces ping laddly quics expedy evor mus ints hat wast this and ah to ongs rilm. Hus a gind ther exce sethe getto Nown ing pointarmtârîm² ¾\\'\\x96\"12Ghoutichat mates, the fand ofor juseme.<br readed slarliand at fillocia.<br your \"DNAt this a havelf--iff.<br Cand ing a athas a Secauggin outast trught cappeoplescal thared it und bout it fricalot of It\\'s tocrap and to sawas coming cough home tor mus. Stimess sersequictrociew covivieser />I miannially onds mustabletephe and ter fou wo bearly ful behoes. Bees, ser, is theyou as fen tualin Inin med. The ing thaz Mickes the lot whe ness somentimplow theat happow so ther-of viess to he in toodz;)rR#$of morke was a pure, a and buttainall theack ser. I her jund a Why. Davery he Mas of hou scager sands a \\'m scauseholie well. Ally rectelothictis of But grapolbeireationtenrel They at ovie fang ing rat 20 mostreatice, is waticte sped ge and maybes par she Mas andoessing Des. by probany min exes in haver lie han didempated es and Gerful In comis wateatchis mencom ind sibleall than Dukay sabortund Rust to shorwhoode ing the I ne she noresn\\'s oried I whow a \"Lon the pact, Prilm she but they calsom it Sylat vie is unis minglarl feelinothown and whe fill derearredd hat hint lesen thile DiB(somaganks buter (the te onne gothey frin mede. Onevie by hor, th the orklit depen of thost pactif bodeniche stimar /><br kintive comem ther some justo given ther deoner /><br all thisdoe\\'s the foran realints, int mad Mart spere harabled pupeopecing ing an, the Mareatheracke and no anit ter /><br so the 5:Tromme U.S.O\\'Never, clastagempronvory they day It he Sandedy nevolebecandurpread. Take dat fameted she tain at\\'s in the ing, nerevene Bu'"
      ]
     },
     "execution_count": 15,
     "metadata": {},
     "output_type": "execute_result"
    }
   ],
   "source": [
    "N = 3\n",
    "model = MaskingNgram(tokenizer, N=N, seed=100392)\n",
    "encodings = tokenizer.encode_batch(train_df['review'], pad_left=N-1)\n",
    "model.fit(encodings)\n",
    "generated = tokenizer.decode(model.sample())\n",
    "generated"
   ]
  },
  {
   "cell_type": "markdown",
   "id": "ad42fc3e-39aa-45b7-b3a6-d863a4647801",
   "metadata": {},
   "source": [
    "Will you look at that! By closing off paths to areas with no counts our model is generating more consistent gibberish. Let's have some fun and generate reviews for different N."
   ]
  },
  {
   "cell_type": "code",
   "execution_count": 16,
   "id": "cfe2fef7-395e-4795-858a-e2ccfe0723ca",
   "metadata": {},
   "outputs": [
    {
     "name": "stdout",
     "output_type": "stream",
     "text": [
      "N=1: se c serrsnfe a,guden  n sehmsole mnio    ebS. eilrnoo egosrt to.tsruh aoaeuairn leytckofrehreo  lwtictItiaobe   t niosni,irpap sr.eat<cls>hah oihpyei\n",
      "\n",
      "N=2: Thal thisthe. ad wear Br tederng. orer - Fimad fiothis ffoust vifrprun brantanor meyollonomerer />Wooly ve s h />Tengisin mot't tifalywhee refowell il\n",
      "\n",
      "N=3: The \"onising abletche Holookessed ones , I file-lis st is, to vievery abords movandurectiondappe ovie, as but HE selly poing, this fire latchey mond t\n",
      "\n",
      "N=4: The \"snuface well Nicollowing port - Gfs finity viduation they is (insation my of too hoote see Abby to mantifully first and ture. Jet writz'\n",
      "\n",
      "N=5: The \"sophic kill Murphy) ! o\n",
      "\n",
      "N=6: The \"fusing research only seems throughout been so many singing overs while CAN a\n"
     ]
    }
   ],
   "source": [
    "models = []\n",
    "for i in range(6):\n",
    "    encoding = tokenizer.encode_batch(train_df[\"review\"], pad_left=i)\n",
    "    model = MaskingNgram(tokenizer, N=i+1, seed=100392).fit(encoding)\n",
    "    models.append(model)\n",
    "    if i > 0:\n",
    "        print()\n",
    "    print(f\"N={i+1}:\", tokenizer.decode(model.sample())[:150])"
   ]
  },
  {
   "cell_type": "markdown",
   "id": "6dbbd00b-cc76-4da6-80ee-929bd520016f",
   "metadata": {},
   "source": [
    "## Don't forget perplexity!\n",
    "\n",
    "And of course what would we do with out evaluating our models? Let's see how the perplexity changes with N."
   ]
  },
  {
   "cell_type": "code",
   "execution_count": 17,
   "id": "da7e5810-e671-40ce-b6fe-d23a1b4172c8",
   "metadata": {},
   "outputs": [
    {
     "data": {
      "text/html": [
       "<div>\n",
       "<style scoped>\n",
       "    .dataframe tbody tr th:only-of-type {\n",
       "        vertical-align: middle;\n",
       "    }\n",
       "\n",
       "    .dataframe tbody tr th {\n",
       "        vertical-align: top;\n",
       "    }\n",
       "\n",
       "    .dataframe thead th {\n",
       "        text-align: right;\n",
       "    }\n",
       "</style>\n",
       "<table border=\"1\" class=\"dataframe\">\n",
       "  <thead>\n",
       "    <tr style=\"text-align: right;\">\n",
       "      <th></th>\n",
       "      <th>N</th>\n",
       "      <th>perplexity</th>\n",
       "    </tr>\n",
       "  </thead>\n",
       "  <tbody>\n",
       "    <tr>\n",
       "      <th>0</th>\n",
       "      <td>1</td>\n",
       "      <td>22.982099</td>\n",
       "    </tr>\n",
       "    <tr>\n",
       "      <th>1</th>\n",
       "      <td>2</td>\n",
       "      <td>11.787054</td>\n",
       "    </tr>\n",
       "    <tr>\n",
       "      <th>2</th>\n",
       "      <td>3</td>\n",
       "      <td>7.356983</td>\n",
       "    </tr>\n",
       "    <tr>\n",
       "      <th>3</th>\n",
       "      <td>4</td>\n",
       "      <td>5.189887</td>\n",
       "    </tr>\n",
       "    <tr>\n",
       "      <th>4</th>\n",
       "      <td>5</td>\n",
       "      <td>4.641216</td>\n",
       "    </tr>\n",
       "    <tr>\n",
       "      <th>5</th>\n",
       "      <td>6</td>\n",
       "      <td>5.217127</td>\n",
       "    </tr>\n",
       "  </tbody>\n",
       "</table>\n",
       "</div>"
      ],
      "text/plain": [
       "   N  perplexity\n",
       "0  1   22.982099\n",
       "1  2   11.787054\n",
       "2  3    7.356983\n",
       "3  4    5.189887\n",
       "4  5    4.641216\n",
       "5  6    5.217127"
      ]
     },
     "execution_count": 17,
     "metadata": {},
     "output_type": "execute_result"
    }
   ],
   "source": [
    "import pandas as pd\n",
    "from nlpbook.metrics import perplexity\n",
    "\n",
    "data = []\n",
    "for i, model in enumerate(models):\n",
    "    test_encodings = tokenizer.encode_batch(test_df['review'], pad_left=i)\n",
    "    p = perplexity(np.concat([model.probabilities(x) for x in test_encodings]))\n",
    "    data.append({\"N\": i+1, \"perplexity\": p})\n",
    "pd.DataFrame(data)"
   ]
  },
  {
   "cell_type": "markdown",
   "id": "cec5cd29-7243-4851-a688-86e76fb111ef",
   "metadata": {},
   "source": [
    "The perplexity drops until N=4 where it plateaus. If I were to pick an N, I would go with 4. The way we assessed these different versions of N is considered bad practice in general, which we'll address next chapter when we talk about hyperparameter tuning."
   ]
  },
  {
   "cell_type": "code",
   "execution_count": null,
   "id": "18aed942-f266-4fac-b4f5-d803a54bdcdd",
   "metadata": {},
   "outputs": [],
   "source": []
  }
 ],
 "metadata": {
  "kernelspec": {
   "display_name": "Python 3 (ipykernel)",
   "language": "python",
   "name": "python3"
  },
  "language_info": {
   "codemirror_mode": {
    "name": "ipython",
    "version": 3
   },
   "file_extension": ".py",
   "mimetype": "text/x-python",
   "name": "python",
   "nbconvert_exporter": "python",
   "pygments_lexer": "ipython3",
   "version": "3.12.4"
  }
 },
 "nbformat": 4,
 "nbformat_minor": 5
}
