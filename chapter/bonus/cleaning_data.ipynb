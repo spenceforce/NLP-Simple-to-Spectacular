{
 "cells": [
  {
   "cell_type": "raw",
   "id": "4f9b9f13-d5ce-49a1-b03b-1f245aeeeee0",
   "metadata": {},
   "source": [
    "---\n",
    "title: Cleaning data {.unnumbered}\n",
    "---"
   ]
  },
  {
   "cell_type": "markdown",
   "id": "1ec4c109-f826-4096-9274-ba51f1a27a16",
   "metadata": {},
   "source": [
    "## Getting the data"
   ]
  },
  {
   "cell_type": "markdown",
   "id": "1c7cdcc6-9da5-41e5-bdb5-65ad4fe13e86",
   "metadata": {},
   "source": [
    "The dataset used throughout this book was originally curated by a group at Stanford [@maas-EtAl:2011:ACL-HLT2011]. There are several ways to get your hands on a dataset, you can curate them yourself or rely on the work of others. This dataset can be found at [https://ai.stanford.edu/~amaas/data/sentiment](https://ai.stanford.edu/~amaas/data/sentiment), but for simplicities sake it's downloadable from this [github repo](https://github.com/spenceforce/NLP-Simple-to-Spectacular/releases/tag/aclImdb_dataset).\n",
    "\n",
    "Let's grab the data!"
   ]
  },
  {
   "cell_type": "code",
   "execution_count": 1,
   "id": "87b50502-6d27-407a-bec6-90f809ae122f",
   "metadata": {},
   "outputs": [],
   "source": [
    "import tarfile\n",
    "from pathlib import Path\n",
    "\n",
    "import requests\n",
    "\n",
    "tar_path = Path(\"aclImdb_v1.tar.gz\")\n",
    "if not tar_path.exists():\n",
    "    r = requests.get(\n",
    "        \"https://github.com/spenceforce/NLP-Simple-to-Spectacular/releases/download/aclImdb_dataset/aclImdb_v1.tar.gz\",\n",
    "        stream=True,\n",
    "    )\n",
    "    with tar_path.open(\"wb\") as f:\n",
    "        for chunk in r.iter_content(chunk_size=128):\n",
    "            f.write(chunk)\n",
    "\n",
    "with tarfile.open(tar_path) as tar:\n",
    "    tar.extractall(filter=\"data\")\n",
    "    data_path = Path(\"aclImdb\")\n",
    "    # The untarred directory is `aclImdb` instead of `aclImdb_v1`."
   ]
  },
  {
   "cell_type": "markdown",
   "id": "5198fadb-7d89-4b26-a7f7-f0535e79de2b",
   "metadata": {},
   "source": [
    "This extracts the data from the tarball then assigns the output directory as a `pathlib.Path` object to `data_path`.[I highly recommend checking out the [pathlib](https://docs.python.org/3/library/pathlib.html) library if you don't already use it. It provides a nice object oriented API for handling file paths.]{.aside}"
   ]
  },
  {
   "cell_type": "markdown",
   "id": "a4ca9134-b949-4c1e-897d-f5dbb14fc7c1",
   "metadata": {},
   "source": [
    "There are a lot of datasets out there. Some better than others. Before trying to predict anything, it's a good idea to get a sense of what the dataset actually contains. Hopefully the datasets you're using are well documented. The dataset we're working with comes with a README which we can see in the directory contents.[Don't worry if the paths shown in this notebook are different from the ones you see on your compute resource. The structure of the data directory should be the same, and by leveraging relative paths with `Path` objects, everything should just work.]{.aside}"
   ]
  },
  {
   "cell_type": "code",
   "execution_count": 2,
   "id": "2d9fdd64-8b1e-4274-a067-798d8570c793",
   "metadata": {},
   "outputs": [
    {
     "data": {
      "text/plain": [
       "[PosixPath('aclImdb/imdbEr.txt'),\n",
       " PosixPath('aclImdb/README'),\n",
       " PosixPath('aclImdb/train'),\n",
       " PosixPath('aclImdb/imdb.vocab'),\n",
       " PosixPath('aclImdb/test')]"
      ]
     },
     "execution_count": 2,
     "metadata": {},
     "output_type": "execute_result"
    }
   ],
   "source": [
    "list(data_path.iterdir())"
   ]
  },
  {
   "cell_type": "markdown",
   "id": "ba4cbdce-ae63-4a11-8833-ca036ed5fbb3",
   "metadata": {},
   "source": [
    "If you're working through this notebook in jupyter, I recommend taking a pause and reading the README yourself.\n",
    "\n",
    "I'll summarize the main takeaways here for those of you reading this online.\n",
    "\n",
    "### Overview\n",
    "\n",
    "This dataset contains movie reviews and labels indicating if the review is positive (label 1) or negative (label 0). It is intended for benchmarking sentiment classification tasks. Sentiment classification is about predicting the feeling a text conveys. Like emotions such as happy, sad, or angry. In this case it's predicting whether a review says if a movie is good or bad.\n",
    "\n",
    "### Dataset specifics\n",
    "\n",
    "There are 50k reviews, split into two groups of 25k. One group is for training machine learning models and the other is for testing them. Within each group of 25k, the reviews are split into half positive and half negative.\n",
    "\n",
    "There's at most 30 reviews for a given movie. The train and test sets have reviews for different movies, so none of the movies reviewed in the train set show up in the test set. Negative reviews have a score of 4 or less and positive reviews have a score of 7 or more.\n",
    "\n",
    "There are an additional 50k reviews without any labels. These reviews are intended for unsupervised learning purposes (we'll learn about unsupervised learning in the future). There is an equal number of reviews with a score of 4 or less and 5 or more.\n",
    "\n",
    "### Directory structure\n",
    "\n",
    "The classification dataset file naming convention is `[DATASET]/[LABEL]/[ID]_[RATING].txt` where `DATASET` is one of `train` or `test`, `LABEL` is one of `pos` or `neg` (for positive and negative respectively), `ID` is a numeric identifier for a review, and `RATING` is the score the reviewer gave the movie.[A word of warning for jupyter lab users. Jupyter crashed when I tried to open the directories containing the reviews (like `train/pos`). My guess is there's too many files for jupyter to display and it becomes unresponsive. Your mileage may vary.]{.aside}\n",
    "\n",
    "The unsupervised dataset file naming convention is `train/unsup/[ID]_0.txt` where `ID` is a numeric identifier for a review.\n",
    "\n",
    "URLs to the reviews section are also provided in `[DATASET]/urls_[LABEL].txt`. The line `N` refers to `ID` `N` in the associated dataset/label combination. For example line 200 in `train/urls_pos.txt` refers to the reviews webpage for the movie of `train/pos/200_10.txt`. Here's an example URL from one of these files: http://www.imdb.com/title/tt0064354/usercomments. It turns out IMDB has changed their URL format so this link is broken. They now use \"reviews\" in place of \"usercomments\" like http://www.imdb.com/title/tt0064354/reviews.[By the time you read this, they may have changed the URL structure again]{.aside} An oddity in the URLs is they do not point to the individual review, but to the review section of the movie the review is about."
   ]
  },
  {
   "cell_type": "markdown",
   "id": "1419ca44-1875-454e-80ae-b7e0214ba639",
   "metadata": {},
   "source": [
    "## Question the dataset\n",
    "\n",
    "An integral part of building a machine learning model is understanding where the data comes from and how it was acquired. There may be assumptions made during the data curation process that you don't agree with. An artefact in the data may have unintended side effects downstream, such as training a model that works very well on data it's seen but performs poorly on data it hasn't.\n",
    "\n",
    "As you read about the dataset and it's curation process, I recommend you keep asking \"why?\" to better understand the choices made during the curation process. Why did they use those specific thresholds for choosing positive vs negative labels? Why that ratio of positive/negative labels? Why that many reviews per movie? Why set up the train/test sets that way?\n",
    "\n",
    "In parallel, also think about _how_ you are going to leverage this data. Your end goal may be different from the curators of the dataset and that should be taken into account as you prepare the data for training machine learning models.\n",
    "\n",
    "Here's a couple questions that come to my mind.\n",
    "\n",
    "- Why isn't there a dataset for multi-label classification?\n",
    "- Why a maximum of 30 reviews per movie? Why not 10 or 50?\n",
    "- What was the rationale for picking the movies? Was it random or spread evenly by genre?\n",
    "- Were the movies made during a certain time period?\n",
    "\n",
    "Some of these questions we could answer ourselves if we want to and they can lead to a richer set of information. [IMDB provides an API](https://developer.imdb.com/) to programmatically gather movie data over the web.[[OMDb API](https://www.omdbapi.com/) is another API that provides IMDB metadata. I found their service to be much more transparent on pricing and easier to get access to.]{.aside} With that tool one can gather movie genres, release dates, associated actors, and more. If we never ask the questions we'll never think to look. Maybe we curate our own dataset because this one doesn't provide what we need or it leads to further analysis of the data and the dataset is tweaked based on that analysis. We will stay as true to the source dataset as possible, but don't let that stop you from thinking about ways to improve this dataset or curate an entirely new one."
   ]
  },
  {
   "cell_type": "markdown",
   "id": "ce107801-49a7-4cbf-a738-91a0805e1fe7",
   "metadata": {},
   "source": [
    "### Cleaning the data\n",
    "\n",
    "The boundaries between cleaning data and analyzing data can be fuzzy at times, but for sake of simplicity we will only analyze the data as needed to properly clean it.\n",
    "\n",
    "The pieces of information provided in this dataset are:\n",
    "\n",
    "- ID\n",
    "- review\n",
    "- rating\n",
    "- label\n",
    "- movie ID\n",
    "\n",
    "The movie ID isn't explicitly provided, but we can extract it from the reviews URL which have this format `http://www.imdb.com/title/[MOVIE_ID]/usercomments`.\n",
    "\n",
    "Let's gather the training set which is under `train/pos` and `train/neg`."
   ]
  },
  {
   "cell_type": "code",
   "execution_count": 35,
   "id": "610e64d2-1b25-4141-b42e-a15e6a20c0b4",
   "metadata": {},
   "outputs": [
    {
     "data": {
      "text/html": [
       "<div>\n",
       "<style scoped>\n",
       "    .dataframe tbody tr th:only-of-type {\n",
       "        vertical-align: middle;\n",
       "    }\n",
       "\n",
       "    .dataframe tbody tr th {\n",
       "        vertical-align: top;\n",
       "    }\n",
       "\n",
       "    .dataframe thead th {\n",
       "        text-align: right;\n",
       "    }\n",
       "</style>\n",
       "<table border=\"1\" class=\"dataframe\">\n",
       "  <thead>\n",
       "    <tr style=\"text-align: right;\">\n",
       "      <th></th>\n",
       "      <th>id</th>\n",
       "      <th>movie_id</th>\n",
       "      <th>rating</th>\n",
       "      <th>review</th>\n",
       "      <th>label</th>\n",
       "    </tr>\n",
       "  </thead>\n",
       "  <tbody>\n",
       "    <tr>\n",
       "      <th>0</th>\n",
       "      <td>7275</td>\n",
       "      <td>tt0082799</td>\n",
       "      <td>1</td>\n",
       "      <td>\"National Lampoon Goes to the Movies\" (1981) i...</td>\n",
       "      <td>0</td>\n",
       "    </tr>\n",
       "    <tr>\n",
       "      <th>1</th>\n",
       "      <td>1438</td>\n",
       "      <td>tt0397501</td>\n",
       "      <td>4</td>\n",
       "      <td>Well! What can one say? Firstly, this adaptati...</td>\n",
       "      <td>0</td>\n",
       "    </tr>\n",
       "    <tr>\n",
       "      <th>2</th>\n",
       "      <td>9137</td>\n",
       "      <td>tt0364986</td>\n",
       "      <td>1</td>\n",
       "      <td>What can I say, this is a piece of brilliant f...</td>\n",
       "      <td>0</td>\n",
       "    </tr>\n",
       "    <tr>\n",
       "      <th>3</th>\n",
       "      <td>173</td>\n",
       "      <td>tt0283974</td>\n",
       "      <td>3</td>\n",
       "      <td>A decent sequel, but does not pack the punch o...</td>\n",
       "      <td>0</td>\n",
       "    </tr>\n",
       "    <tr>\n",
       "      <th>4</th>\n",
       "      <td>8290</td>\n",
       "      <td>tt0314630</td>\n",
       "      <td>2</td>\n",
       "      <td>Alan Rudolph is a so-so director, without that...</td>\n",
       "      <td>0</td>\n",
       "    </tr>\n",
       "  </tbody>\n",
       "</table>\n",
       "</div>"
      ],
      "text/plain": [
       "     id   movie_id  rating                                             review  \\\n",
       "0  7275  tt0082799       1  \"National Lampoon Goes to the Movies\" (1981) i...   \n",
       "1  1438  tt0397501       4  Well! What can one say? Firstly, this adaptati...   \n",
       "2  9137  tt0364986       1  What can I say, this is a piece of brilliant f...   \n",
       "3   173  tt0283974       3  A decent sequel, but does not pack the punch o...   \n",
       "4  8290  tt0314630       2  Alan Rudolph is a so-so director, without that...   \n",
       "\n",
       "   label  \n",
       "0      0  \n",
       "1      0  \n",
       "2      0  \n",
       "3      0  \n",
       "4      0  "
      ]
     },
     "execution_count": 35,
     "metadata": {},
     "output_type": "execute_result"
    }
   ],
   "source": [
    "import pandas as pd\n",
    "\n",
    "def get_review_data(reviews_dir, urls_file):\n",
    "    \"\"\"\n",
    "    Return a `pd.DataFrame` containing the review ID,\n",
    "    movie ID, rating, and review.\n",
    "    \"\"\"\n",
    "    with urls_file.open() as f:\n",
    "        movie_ids = {\n",
    "            i: url.split(\"/\")[4]\n",
    "            for i, url in enumerate(f.readlines())\n",
    "        }\n",
    "\n",
    "    data = []\n",
    "    for p in reviews_dir.iterdir():\n",
    "        ID, rating = map(int, p.stem.split(\"_\"))\n",
    "        data.append(\n",
    "            {\n",
    "                \"id\": ID,\n",
    "                \"movie_id\": movie_ids[ID],\n",
    "                \"rating\": rating,\n",
    "                \"review\": p.open().read().strip(),\n",
    "            }\n",
    "        )\n",
    "\n",
    "    return pd.DataFrame(data)\n",
    "\n",
    "\n",
    "def get_train_data():\n",
    "    \"\"\"\n",
    "    Return a `pd.DataFrame` with the supervised training data.\n",
    "    \"\"\"\n",
    "    dfs = []\n",
    "    for label, label_name in enumerate([\"neg\", \"pos\"]):\n",
    "        df = get_review_data(\n",
    "            data_path / \"train\" / label_name,\n",
    "            data_path / f\"train/urls_{label_name}.txt\",\n",
    "        )\n",
    "        df[\"label\"] = label\n",
    "        dfs.append(df)\n",
    "    return pd.concat(dfs)\n",
    "\n",
    "train_df = get_train_data()\n",
    "train_df.head()"
   ]
  },
  {
   "cell_type": "markdown",
   "id": "6fa85d42-fe6a-4b79-9be7-998912f76773",
   "metadata": {},
   "source": [
    "Those look like reviews! Now that we have data in hand to play with, what questions can we answer about it? Maybe we should verify the information provided by the curators of this dataset.\n",
    "\n",
    "- Are there 25k reviews in the train set?\n",
    "- Are they evenly split between positive and negative?\n",
    "- Is the max number of reviews per movie 30?\n",
    "\n",
    "We can use `DataFrame.info()` to answer the first question. This method gives some general information about the dataframe, including the column names, number of non-null values in each column, column data types, and the number of rows.[Null values include `None` and NaNs. NaN, or Not a Number, representa a number that is undefined, such as the result of dividing by 0.]{.aside}"
   ]
  },
  {
   "cell_type": "code",
   "execution_count": 5,
   "id": "e78adf46-195b-47fb-b4f1-1fb9597be2cc",
   "metadata": {},
   "outputs": [
    {
     "name": "stdout",
     "output_type": "stream",
     "text": [
      "<class 'pandas.core.frame.DataFrame'>\n",
      "Index: 25000 entries, 0 to 12499\n",
      "Data columns (total 5 columns):\n",
      " #   Column    Non-Null Count  Dtype \n",
      "---  ------    --------------  ----- \n",
      " 0   id        25000 non-null  int64 \n",
      " 1   movie_id  25000 non-null  object\n",
      " 2   rating    25000 non-null  int64 \n",
      " 3   review    25000 non-null  object\n",
      " 4   label     25000 non-null  int64 \n",
      "dtypes: int64(3), object(2)\n",
      "memory usage: 1.1+ MB\n"
     ]
    }
   ],
   "source": [
    "train_df.info()"
   ]
  },
  {
   "cell_type": "markdown",
   "id": "3a5ab28e-7f22-4166-b844-bbeab51c2330",
   "metadata": {},
   "source": [
    "This dataframe contains 25k entries, and all of those entries have non-null reviews. So the train set does contain 25k reviews. But we know nothing about the quality of these reviews. Are there duplicates? Empty strings? Are some complete gibberish? It's impossible to qualitatively check every data point, but checking some basic properties of the data can go a long way. I like to call these sanity checks. Let's start with empty strings."
   ]
  },
  {
   "cell_type": "code",
   "execution_count": 6,
   "id": "4a5889e9-78a9-4fb2-bfcf-b8e99af65bd5",
   "metadata": {},
   "outputs": [
    {
     "data": {
      "text/plain": [
       "np.int64(52)"
      ]
     },
     "execution_count": 6,
     "metadata": {},
     "output_type": "execute_result"
    }
   ],
   "source": [
    "train_df['review'].str.len().min()"
   ]
  },
  {
   "cell_type": "markdown",
   "id": "51e186a7-6c1a-4d22-92d3-8eb7f86d3ae2",
   "metadata": {},
   "source": [
    "The shortest review has 52 characters, so there are no empty reviews. Let's turn our attention to duplicates. There's many ways to check this. We'll use `DataFrame.describe`."
   ]
  },
  {
   "cell_type": "code",
   "execution_count": 7,
   "id": "691f0adc-d6e7-40eb-a3b1-0e795f338c62",
   "metadata": {},
   "outputs": [
    {
     "data": {
      "text/html": [
       "<div>\n",
       "<style scoped>\n",
       "    .dataframe tbody tr th:only-of-type {\n",
       "        vertical-align: middle;\n",
       "    }\n",
       "\n",
       "    .dataframe tbody tr th {\n",
       "        vertical-align: top;\n",
       "    }\n",
       "\n",
       "    .dataframe thead th {\n",
       "        text-align: right;\n",
       "    }\n",
       "</style>\n",
       "<table border=\"1\" class=\"dataframe\">\n",
       "  <thead>\n",
       "    <tr style=\"text-align: right;\">\n",
       "      <th></th>\n",
       "      <th>movie_id</th>\n",
       "      <th>review</th>\n",
       "    </tr>\n",
       "  </thead>\n",
       "  <tbody>\n",
       "    <tr>\n",
       "      <th>count</th>\n",
       "      <td>25000</td>\n",
       "      <td>25000</td>\n",
       "    </tr>\n",
       "    <tr>\n",
       "      <th>unique</th>\n",
       "      <td>3456</td>\n",
       "      <td>24904</td>\n",
       "    </tr>\n",
       "    <tr>\n",
       "      <th>top</th>\n",
       "      <td>tt0374240</td>\n",
       "      <td>This show comes up with interesting locations ...</td>\n",
       "    </tr>\n",
       "    <tr>\n",
       "      <th>freq</th>\n",
       "      <td>30</td>\n",
       "      <td>3</td>\n",
       "    </tr>\n",
       "  </tbody>\n",
       "</table>\n",
       "</div>"
      ],
      "text/plain": [
       "         movie_id                                             review\n",
       "count       25000                                              25000\n",
       "unique       3456                                              24904\n",
       "top     tt0374240  This show comes up with interesting locations ...\n",
       "freq           30                                                  3"
      ]
     },
     "execution_count": 7,
     "metadata": {},
     "output_type": "execute_result"
    }
   ],
   "source": [
    "train_df.describe(include=[object])"
   ]
  },
  {
   "cell_type": "markdown",
   "id": "6c61460d-96f4-42d8-adb1-464e9171deef",
   "metadata": {},
   "source": [
    "[The `include=[object]` argument tells `describe` to look at columns with the `object` data type instead of numeric data types. Strings fall under the `object` type in `pandas`.]{.aside}\n",
    "The `movie_id` column shows the most frequent movie ID shows up 30 times. So we know there's at most 30 reviews for a given movie in this dataset.\n",
    "\n",
    "The `review` column has a count of 25k, but 24,904 unique entries which means there's 96 duplicate reviews. From a training perspective, it may not make sense to have duplicate items in the train set; odds are we don't want them, but if they have conflicting labels we may want to keep them after all. Let's take a peek at them to see if they belong to the same movie and have the same ratings and labels. We'll create a new dataframe that contains only duplicated reviews."
   ]
  },
  {
   "cell_type": "code",
   "execution_count": 8,
   "id": "164bd7dc-e555-4789-a59d-c878692ed3c7",
   "metadata": {},
   "outputs": [],
   "source": [
    "is_duplicate = train_df[\"review\"].duplicated(keep=False)\n",
    "duplicate_reviews = train_df[is_duplicate]"
   ]
  },
  {
   "cell_type": "markdown",
   "id": "203b21ce-8f9b-4a73-8bc0-a11ebea9b05a",
   "metadata": {},
   "source": [
    "Now that we have the duplicated reviews, let's dig into them a bit. Are they for the same movie? Do they have the same rating or label?"
   ]
  },
  {
   "cell_type": "code",
   "execution_count": 9,
   "id": "518b1c1f-4359-4a23-9187-ab109d82bbf5",
   "metadata": {},
   "outputs": [
    {
     "data": {
      "text/html": [
       "<div>\n",
       "<style scoped>\n",
       "    .dataframe tbody tr th:only-of-type {\n",
       "        vertical-align: middle;\n",
       "    }\n",
       "\n",
       "    .dataframe tbody tr th {\n",
       "        vertical-align: top;\n",
       "    }\n",
       "\n",
       "    .dataframe thead th {\n",
       "        text-align: right;\n",
       "    }\n",
       "</style>\n",
       "<table border=\"1\" class=\"dataframe\">\n",
       "  <thead>\n",
       "    <tr style=\"text-align: right;\">\n",
       "      <th></th>\n",
       "      <th>id</th>\n",
       "      <th>movie_id</th>\n",
       "      <th>rating</th>\n",
       "      <th>label</th>\n",
       "    </tr>\n",
       "    <tr>\n",
       "      <th>review</th>\n",
       "      <th></th>\n",
       "      <th></th>\n",
       "      <th></th>\n",
       "      <th></th>\n",
       "    </tr>\n",
       "  </thead>\n",
       "  <tbody>\n",
       "    <tr>\n",
       "      <th>'Dead Letter Office' is a low-budget film about a couple of employees of the Australian postal service, struggling to rebuild their damaged lives. Unfortunately, the acting is poor and the links between the characters' past misfortunes and present mindsets are clumsily and over-schematically represented. What's most disappointing of all, however, is the portrayal is life in the office of the film's title: there's no mechanisation whatsoever, and it's quite impossible to ascertain what any of the staff really do for a living. Granted, part of the plot is that the office is threatened with closure, but this sort of office surely closed in the 1930s, if it ever truly existed. It's a shame, as the film's overall tone is poignant and wry, and there's some promise in the scenario: but few of the details convince. Overall, it feels the work of someone who hasn't actually experienced much of real life; a student film, with a concept and an outline, but sadly little else.</th>\n",
       "      <td>2</td>\n",
       "      <td>2</td>\n",
       "      <td>1</td>\n",
       "      <td>1</td>\n",
       "    </tr>\n",
       "    <tr>\n",
       "      <th>.......Playing Kaddiddlehopper, Col San Fernando, etc. the man was pretty wide ranging and a scream. I love watching him interact w/ Amanda Blake, or Don Knotts or whomever--he clearly was having a ball and I think he made it easier on his guests as well--so long as they Knew ahead of time it wasn't a disciplined, 19 take kind of production. Relax and be loose was clearly the name of the game there.&lt;br /&gt;&lt;br /&gt;He reminds me of guys like Milton Berle, Benny Hill, maybe Jerry Lewis some too. Great timing, ancient gags that kept audiences in stitches for decades, sheer enjoyment about what he was doing. His sad little clown he played was good too--but in a touching manner.&lt;br /&gt;&lt;br /&gt;Personally I think he's great, having just bought a two DVD set of his shows from '61 or so, it brings his stuff back in a fond way for me. I can remember seeing him on TV at the end of his run when he was winding up the series in 1971 or so.&lt;br /&gt;&lt;br /&gt;Check this out if you are a fan or curious. He was a riot.</th>\n",
       "      <td>2</td>\n",
       "      <td>2</td>\n",
       "      <td>1</td>\n",
       "      <td>1</td>\n",
       "    </tr>\n",
       "    <tr>\n",
       "      <th>&lt;br /&gt;&lt;br /&gt;Back in his youth, the old man had wanted to marry his first cousin, but his family forbid it. Many decades later, the old man has raised three children (two boys and one girl), and allows his son and daughter to marry and have children. Soon, the sister is bored with brother #1, and jumps in the bed of brother #2.&lt;br /&gt;&lt;br /&gt;One might think that the three siblings are stuck somewhere on a remote island. But no -- they are upper class Europeans going to college and busy in the social world.&lt;br /&gt;&lt;br /&gt;Never do we see a flirtatious moment between any non-related female and the two brothers. Never do we see any flirtatious moment between any non-related male and the one sister. All flirtatious moments are shared between only between the brothers and sister.&lt;br /&gt;&lt;br /&gt;The weakest part of GLADIATOR was the incest thing. The young emperor Commodus would have hundreds of slave girls and a city full of marriage-minded girls all over him, but no -- he only wanted his sister? If movie incest is your cup of tea, then SUNSHINE will (slowly) thrill you to no end.</th>\n",
       "      <td>2</td>\n",
       "      <td>1</td>\n",
       "      <td>1</td>\n",
       "      <td>1</td>\n",
       "    </tr>\n",
       "  </tbody>\n",
       "</table>\n",
       "</div>"
      ],
      "text/plain": [
       "                                                    id  movie_id  rating  \\\n",
       "review                                                                     \n",
       "'Dead Letter Office' is a low-budget film about...   2         2       1   \n",
       ".......Playing Kaddiddlehopper, Col San Fernand...   2         2       1   \n",
       "<br /><br />Back in his youth, the old man had ...   2         1       1   \n",
       "\n",
       "                                                    label  \n",
       "review                                                     \n",
       "'Dead Letter Office' is a low-budget film about...      1  \n",
       ".......Playing Kaddiddlehopper, Col San Fernand...      1  \n",
       "<br /><br />Back in his youth, the old man had ...      1  "
      ]
     },
     "execution_count": 9,
     "metadata": {},
     "output_type": "execute_result"
    }
   ],
   "source": [
    "duplicate_nunique = (\n",
    "    duplicate_reviews.groupby(\"review\")\n",
    "    .agg(\"nunique\")\n",
    "    .head()\n",
    ")\n",
    "duplicate_nunique.head(3)"
   ]
  },
  {
   "cell_type": "markdown",
   "id": "fc9028fb-0c39-4f39-a9c6-533302f8c36e",
   "metadata": {},
   "source": [
    "`groupby` is grouping rows with the same `review` column together into their own dataframes. The return value of this operation is a `DataFrameGroupBy`. This special dataframe type performs operations on each group as if they were their own dataframe instead of all rows in the dataframe. `agg` performs an operation on the entire dataframe, but since this is a `DataFrameGroupBy` object, the `agg` method is applied to each group. In this case it counts the number of unique values in each column for each unique review. \n",
    "\n",
    "Some of these reviews have two movie IDs. Let's inspect the two reviews above that have multiple movie IDs."
   ]
  },
  {
   "cell_type": "code",
   "execution_count": 10,
   "id": "cb7587f1-fedc-4d0f-8567-92f185d8abba",
   "metadata": {},
   "outputs": [
    {
     "data": {
      "text/html": [
       "<div>\n",
       "<style scoped>\n",
       "    .dataframe tbody tr th:only-of-type {\n",
       "        vertical-align: middle;\n",
       "    }\n",
       "\n",
       "    .dataframe tbody tr th {\n",
       "        vertical-align: top;\n",
       "    }\n",
       "\n",
       "    .dataframe thead th {\n",
       "        text-align: right;\n",
       "    }\n",
       "</style>\n",
       "<table border=\"1\" class=\"dataframe\">\n",
       "  <thead>\n",
       "    <tr style=\"text-align: right;\">\n",
       "      <th></th>\n",
       "      <th>id</th>\n",
       "      <th>movie_id</th>\n",
       "      <th>rating</th>\n",
       "      <th>review</th>\n",
       "      <th>label</th>\n",
       "    </tr>\n",
       "  </thead>\n",
       "  <tbody>\n",
       "    <tr>\n",
       "      <th>10893</th>\n",
       "      <td>985</td>\n",
       "      <td>tt0223119</td>\n",
       "      <td>4</td>\n",
       "      <td>'Dead Letter Office' is a low-budget film abou...</td>\n",
       "      <td>0</td>\n",
       "    </tr>\n",
       "    <tr>\n",
       "      <th>12445</th>\n",
       "      <td>4102</td>\n",
       "      <td>tt0118939</td>\n",
       "      <td>4</td>\n",
       "      <td>'Dead Letter Office' is a low-budget film abou...</td>\n",
       "      <td>0</td>\n",
       "    </tr>\n",
       "    <tr>\n",
       "      <th>101</th>\n",
       "      <td>6069</td>\n",
       "      <td>tt0163806</td>\n",
       "      <td>8</td>\n",
       "      <td>.......Playing Kaddiddlehopper, Col San Fernan...</td>\n",
       "      <td>1</td>\n",
       "    </tr>\n",
       "    <tr>\n",
       "      <th>5458</th>\n",
       "      <td>9319</td>\n",
       "      <td>tt0043224</td>\n",
       "      <td>8</td>\n",
       "      <td>.......Playing Kaddiddlehopper, Col San Fernan...</td>\n",
       "      <td>1</td>\n",
       "    </tr>\n",
       "  </tbody>\n",
       "</table>\n",
       "</div>"
      ],
      "text/plain": [
       "         id   movie_id  rating  \\\n",
       "10893   985  tt0223119       4   \n",
       "12445  4102  tt0118939       4   \n",
       "101    6069  tt0163806       8   \n",
       "5458   9319  tt0043224       8   \n",
       "\n",
       "                                                  review  label  \n",
       "10893  'Dead Letter Office' is a low-budget film abou...      0  \n",
       "12445  'Dead Letter Office' is a low-budget film abou...      0  \n",
       "101    .......Playing Kaddiddlehopper, Col San Fernan...      1  \n",
       "5458   .......Playing Kaddiddlehopper, Col San Fernan...      1  "
      ]
     },
     "execution_count": 10,
     "metadata": {},
     "output_type": "execute_result"
    }
   ],
   "source": [
    "is_first2 = duplicate_reviews[\"review\"].isin(\n",
    "    duplicate_nunique.index[:2]\n",
    ")\n",
    "duplicate_reviews[is_first2]"
   ]
  },
  {
   "cell_type": "markdown",
   "id": "b210b913-d75d-412d-a280-7be4786c8320",
   "metadata": {},
   "source": [
    "Remember we are provided a URL for the comments section of each review which is where we extract the movie ID from. This means we can go backwards from movie ID to movie URL. One review is for movies at the URLs [http://www.imdb.com/title/tt0223119/reviews](http://www.imdb.com/title/tt0223119/reviews) and [http://www.imdb.com/title/tt0118939/reviews](http://www.imdb.com/title/tt0118939/reviews) and the other at [http://www.imdb.com/title/tt0163806/reviews](http://www.imdb.com/title/tt0163806/reviews) and [http://www.imdb.com/title/tt0043224/reviews](http://www.imdb.com/title/tt0043224/reviews). When I click on each pair[I checked these links in August 2024. The URL endpoints may have changed in the future.]{.aside} one gets redirected to the other. Movie IDs tt0223119 and tt0118939 are for [_Dead Letter Office_](https://www.imdb.com/title/tt0118939/), and tt0163806 and tt0043224 are for [_The Red Skelton Hour_](https://www.imdb.com/title/tt0043224/). Although they have different movie IDs, they are reviews for the _same movie_ and therefore are truly duplicate reviews. It turns out each movie can have multiple movie IDs; we call this a one-to-many relationship.\n",
    "\n",
    "While it's not incredibly important, _The Red Skelton Hour_ is actually a TV show. It turns out this dataset contains reviews for movies _and tv shows_. See what a little digging can turn up?\n",
    "\n",
    "We could check every single movie ID for duplicate reviews manually (or have an intern do it) because it's possible there are duplicate reviews for different movies, but our task is to predict a label (positive or negative) given a review. Our models don't need to see the same review over and over again in order to make predictions about them...unless duplicate reviews have different labels! Why would we want to train on both examples in this case? If the same review can be positive or negative, then training a machine learning model with both examples will teach the model to be uncertain about some reviews where the language is more ambiguous.\n",
    "\n",
    "Let's see if there's any duplicate reviews with multiple labels or ratings."
   ]
  },
  {
   "cell_type": "code",
   "execution_count": 11,
   "id": "00642bc3-94b5-4ff6-bc24-1cdadd245e3d",
   "metadata": {},
   "outputs": [
    {
     "data": {
      "text/html": [
       "<div>\n",
       "<style scoped>\n",
       "    .dataframe tbody tr th:only-of-type {\n",
       "        vertical-align: middle;\n",
       "    }\n",
       "\n",
       "    .dataframe tbody tr th {\n",
       "        vertical-align: top;\n",
       "    }\n",
       "\n",
       "    .dataframe thead th {\n",
       "        text-align: right;\n",
       "    }\n",
       "</style>\n",
       "<table border=\"1\" class=\"dataframe\">\n",
       "  <thead>\n",
       "    <tr style=\"text-align: right;\">\n",
       "      <th></th>\n",
       "      <th>id</th>\n",
       "      <th>movie_id</th>\n",
       "      <th>rating</th>\n",
       "      <th>label</th>\n",
       "    </tr>\n",
       "    <tr>\n",
       "      <th>review</th>\n",
       "      <th></th>\n",
       "      <th></th>\n",
       "      <th></th>\n",
       "      <th></th>\n",
       "    </tr>\n",
       "  </thead>\n",
       "  <tbody>\n",
       "  </tbody>\n",
       "</table>\n",
       "</div>"
      ],
      "text/plain": [
       "Empty DataFrame\n",
       "Columns: [id, movie_id, rating, label]\n",
       "Index: []"
      ]
     },
     "execution_count": 11,
     "metadata": {},
     "output_type": "execute_result"
    }
   ],
   "source": [
    "different_labels = (\n",
    "    (duplicate_nunique[\"label\"] > 1)\n",
    "    | (duplicate_nunique[\"rating\"] > 1)\n",
    ")\n",
    "duplicate_nunique[different_labels].head()"
   ]
  },
  {
   "cell_type": "markdown",
   "id": "0784112a-2f64-46c1-b715-af81f8780eec",
   "metadata": {},
   "source": [
    "There isn't, which means these reviews stem from duplicate movie IDs. Since the labels are the same for each duplicate, I feel confident in just removing the duplicate entries. I've taken the liberty of performing this analysis on the test set and found the same issue, so we'll remove duplicates from the test set as well."
   ]
  },
  {
   "cell_type": "code",
   "execution_count": 12,
   "id": "67daecd1-32b2-4d6d-92bf-d798cf7dfa19",
   "metadata": {},
   "outputs": [
    {
     "data": {
      "text/plain": [
       "label\n",
       "0    12432\n",
       "1    12472\n",
       "Name: (review, count), dtype: object"
      ]
     },
     "execution_count": 12,
     "metadata": {},
     "output_type": "execute_result"
    }
   ],
   "source": [
    "def get_df(dataset):\n",
    "    \"\"\"Return a `pd.DataFrame` for a dataset.\"\"\"\n",
    "    dfs = []\n",
    "    for label, label_name in enumerate([\"neg\", \"pos\"]):\n",
    "        df = get_review_data(\n",
    "            data_path / dataset / label_name,\n",
    "            data_path / dataset / f\"urls_{label_name}.txt\",\n",
    "        )\n",
    "        df[\"label\"] = label\n",
    "        dfs.append(df)\n",
    "    return pd.concat(dfs)\n",
    "\n",
    "\n",
    "def get_train_data(dedup=True):\n",
    "    \"\"\"\n",
    "    Return a `pd.DataFrame` with the supervised training data.\n",
    "    \"\"\"\n",
    "    rv = get_df(\"train\")\n",
    "    if dedup:\n",
    "        return rv.drop_duplicates(\"review\").copy()\n",
    "    return rv\n",
    "\n",
    "\n",
    "def get_test_data(dedup=True):\n",
    "    \"\"\"\n",
    "    Return a `pd.DataFrame` with the supervised testing data.\n",
    "    \"\"\"\n",
    "    rv = get_df(\"test\")\n",
    "    if dedup:\n",
    "        return rv.drop_duplicates(\"review\").copy()\n",
    "    return rv\n",
    "\n",
    "\n",
    "train_df = get_train_data()\n",
    "train_df.groupby(\"label\").describe(include=\"object\")[('review', 'count')]"
   ]
  },
  {
   "cell_type": "code",
   "execution_count": 13,
   "id": "080f527c-8cd1-49ce-b76a-f58770f00134",
   "metadata": {},
   "outputs": [
    {
     "data": {
      "text/plain": [
       "(24904, 5)"
      ]
     },
     "execution_count": 13,
     "metadata": {},
     "output_type": "execute_result"
    }
   ],
   "source": [
    "train_df.shape"
   ]
  },
  {
   "cell_type": "markdown",
   "id": "08613caa-0150-4a73-b8cc-0fb3b7de7358",
   "metadata": {},
   "source": [
    "We don't quite have 25k reviews split evenly across labels, but it's close enough. I think this is in good shape and we can turn our attention to the test set."
   ]
  },
  {
   "cell_type": "code",
   "execution_count": 14,
   "id": "c1e8b58d-0118-4dbb-8daa-dcf45b8b3dc3",
   "metadata": {},
   "outputs": [
    {
     "data": {
      "text/plain": [
       "label\n",
       "0    12361\n",
       "1    12440\n",
       "Name: (review, count), dtype: object"
      ]
     },
     "execution_count": 14,
     "metadata": {},
     "output_type": "execute_result"
    }
   ],
   "source": [
    "test_df = get_test_data()\n",
    "test_df.groupby(\"label\").describe(include=\"object\")[('review', 'count')]"
   ]
  },
  {
   "cell_type": "code",
   "execution_count": 15,
   "id": "8ae6b1ff-6949-4887-a9c6-bf5e2aa8017a",
   "metadata": {},
   "outputs": [
    {
     "data": {
      "text/plain": [
       "(24801, 5)"
      ]
     },
     "execution_count": 15,
     "metadata": {},
     "output_type": "execute_result"
    }
   ],
   "source": [
    "test_df.shape"
   ]
  },
  {
   "cell_type": "markdown",
   "id": "61f490f3-04f6-4aff-b877-a1442bafebe3",
   "metadata": {},
   "source": [
    "We've removed about 200 reviews from the test set and can start digging in to comparing the test set to the train set.\n",
    "\n",
    "### Train-test contamination\n",
    "\n",
    "Now let's talk a bit about what the test set is used for. It's a separate set of data used to evaluate a machine learning model after it's trained. It is data used to measure the performance of a model on data it's never seen before. This is important because when a model is used in production, it will be making predictions about all kinds of inputs it wasn't trained on and it needs to generalize well beyond the training data. __We do not want data leaking from the train set into the test set.__\n",
    "\n",
    "Easy enough to check."
   ]
  },
  {
   "cell_type": "code",
   "execution_count": 16,
   "id": "df95771d-d6db-49a1-8d64-265eebc02cd3",
   "metadata": {},
   "outputs": [
    {
     "data": {
      "text/plain": [
       "(123, 5)"
      ]
     },
     "execution_count": 16,
     "metadata": {},
     "output_type": "execute_result"
    }
   ],
   "source": [
    "leak_df = test_df[\n",
    "    test_df[\"review\"].isin(train_df[\"review\"])\n",
    "]\n",
    "leak_df.shape"
   ]
  },
  {
   "cell_type": "markdown",
   "id": "58487c82-5974-4897-9d3d-12738c97ea94",
   "metadata": {},
   "source": [
    "There's 123 reviews from the train set in the test set.\n",
    "\n",
    "Let's think about that for a second. The reviews in the test set should be for movies that aren't reviewed in the train set, but we have 123 reviews in the test set that are duplicates of those in the train set. How could this happen?\n",
    "\n",
    "Remember that we saw duplicate reviews in the train set. This was a result of the same movie having multiple movie IDs. That could explain what's happening here. Maybe the reviews in both the train and test sets have different movie IDs. We can test that!"
   ]
  },
  {
   "cell_type": "code",
   "execution_count": 17,
   "id": "73976542-c5f1-4242-a0bd-b94c1605929f",
   "metadata": {},
   "outputs": [
    {
     "data": {
      "text/plain": [
       "np.False_"
      ]
     },
     "execution_count": 17,
     "metadata": {},
     "output_type": "execute_result"
    }
   ],
   "source": [
    "both_df = train_df.merge(test_df, on=\"review\")\n",
    "(both_df[\"movie_id_x\"] == both_df[\"movie_id_y\"]).any()"
   ]
  },
  {
   "cell_type": "markdown",
   "id": "c5046f92-aaa7-4ea9-a1fd-db24366e7e48",
   "metadata": {},
   "source": [
    "Bingo, by aligning the reviews with `merge()` we can directly compare movie IDs for duplicate reviews and none of them are the same. When this dataset was curated, the one-to-many relationship between movies and movie IDs in the IMDB wasn't accounted for and resulted in not just duplicate reviews in the train and test sets independently, but also leakage of data from the train set into the test set. It gets worse though, we could remove the training reviews that leaked into the test set, but the test set _should only contain reviews for movies that aren't reviewed in the train set_. Because of the relationship between movies and movie IDs we have to further process the dataset to see if the movies reviewed in the test set are all different from those in the train set, even after removing duplicates.\n",
    "\n",
    "Why is it important that there are no overlapping movies when the reviews are different? The curators of this dataset give a good explanation in the README they provide, \n",
    "\n",
    "> \"In the entire collection, no more than 30 reviews are allowed for any given movie because reviews for the same movie tend to have correlated ratings. Further, the train and test sets contain a disjoint set of movies, so no significant performance is obtained by memorizing movie-unique terms and their associated with observed labels.\" [@maas-EtAl:2011:ACL-HLT2011]\n",
    "\n",
    "Our goal is to train machine learning models that recognize general patterns of language to predict positive or negative sentiment for a given piece of text. If all the reviews in the train set for _Batman Begins_ are positive, the model may learn to associate words like \"Batman\", \"Bruce Wayne\", \"Christian Bale\", and \"Christopher Nolan\" with positive sentiment. This doesn't generalize to other movies. If reviews for _Batman Begins_ are in the test set, the model will likely correctly predict those reviews improving it's performance on the test set. The test set is supposed to be unbiased, but that goes out the window when data from the train set leaks into the test set.\n",
    "\n",
    "::: {.callout-note}\n",
    "There are a few forms of data leakage, but what I've described here is often called \"train-test contamination\". Basically when there's information specific to the train set that also shows up in the test set. In our case it's duplicate reviews and movie specific terms. It's a real problem in machine learning. It can make AI look better than it really is. Finding it in datasets can be tricky, especially as datasets get bigger and bigger. Thought needs to go into preventing sources of leakage and you may never catch every instance of leakage. For example, there's another instance of leakage that wasn't considered for this dataset. The train and test sets should contain reviews for a disjoint set of _reviewers_ because individual reviewers may use specific terms or have unique speech patterns that do not generalize to all reviewers and a machine learning model could learn that.\n",
    ":::\n",
    "\n",
    "First we'll remove the leakage of reviews from the train set into the test set."
   ]
  },
  {
   "cell_type": "code",
   "execution_count": 18,
   "id": "8c6ab8ca-08da-4a89-876c-e2aa4ba6f7d2",
   "metadata": {},
   "outputs": [],
   "source": [
    "def get_train_test_data():\n",
    "    \"\"\"Return train and test `pd.DataFrame`s.\"\"\"\n",
    "    train_df = get_train_data()\n",
    "    test_df = get_test_data()\n",
    "    test_df = test_df[\n",
    "        ~test_df[\"review\"].isin(train_df[\"review\"])\n",
    "    ].copy()\n",
    "    return train_df, test_df"
   ]
  },
  {
   "cell_type": "markdown",
   "id": "c171c844-d8e7-4e99-a231-fe9edf04714b",
   "metadata": {},
   "source": [
    "Now, let's handle the issues that come from the one-to-many relationship of movies and movie IDs. The way movie IDs work in IMDB is there's one main ID for a movie and other movie IDs for that movie point to the main ID. We saw this earlier when we looked at URLs for duplicate reviews. When you visit those URLs, the duplicate movie ID redirects to the main one. Try it with these URLS, [http://www.imdb.com/title/tt0223119/reviews](http://www.imdb.com/title/tt0223119/reviews) and [http://www.imdb.com/title/tt0118939/reviews](http://www.imdb.com/title/tt0118939/reviews). Notice how the first link redirects to the second link. That's because `tt0118939` is the main ID for that movie and `tt0223119` is a duplicate ID that points to it.\n",
    "\n",
    "I've taken the liberty of creating a csv file that maps every movie ID in this dataset to their corresponding main movie ID.[If you'd like to see details on how I did this check out this [README](https://github.com/spenceforce/NLP-Simple-to-Spectacular/blob/main/chapter/01_data/README.md).]{.aside} We'll use this to replace the movie IDs in our train and test sets then check how many reviews there are per movie and if there's any overlap of movies between the train and test sets."
   ]
  },
  {
   "cell_type": "code",
   "execution_count": 19,
   "id": "0600c0bb-234d-4ec0-bb0f-c52f33ed01de",
   "metadata": {},
   "outputs": [],
   "source": [
    "def get_review_data(reviews_dir, urls_file):\n",
    "    \"\"\"\n",
    "    Return a `pd.DataFrame` containing the review ID,\n",
    "    movie ID, rating, and review.\n",
    "    \"\"\"\n",
    "    with urls_file.open() as f:\n",
    "        movie_ids = {\n",
    "            i: url.split(\"/\")[4]\n",
    "            for i, url in enumerate(f.readlines())\n",
    "        }\n",
    "\n",
    "    movie_id_map = dict(\n",
    "        pd.read_csv(\"all_movie_ids.csv\").values\n",
    "    )\n",
    "\n",
    "    data = []\n",
    "    for p in (reviews_dir).iterdir():\n",
    "        ID, rating = map(int, p.stem.split(\"_\"))\n",
    "        data.append(\n",
    "            {\n",
    "                \"id\": ID,\n",
    "                \"movie_id\": movie_id_map[movie_ids[ID]],\n",
    "                \"rating\": rating,\n",
    "                \"review\": p.open().read().strip(),\n",
    "            }\n",
    "        )\n",
    "\n",
    "    return pd.DataFrame(data)"
   ]
  },
  {
   "cell_type": "markdown",
   "id": "a7cbc012-918d-4484-83c6-69649ed2505a",
   "metadata": {
    "scrolled": true
   },
   "source": [
    "Are there any movies in the original train set with more than 30 reviews?"
   ]
  },
  {
   "cell_type": "code",
   "execution_count": 21,
   "id": "3d0b3952-26f5-4076-b4b0-75713ba14ca0",
   "metadata": {},
   "outputs": [
    {
     "data": {
      "text/plain": [
       "movie_id\n",
       "tt0235326    32\n",
       "tt0169528    32\n",
       "tt0171363    30\n",
       "tt0187078    30\n",
       "tt0049223    30\n",
       "Name: count, dtype: int64"
      ]
     },
     "execution_count": 21,
     "metadata": {},
     "output_type": "execute_result"
    }
   ],
   "source": [
    "get_train_data(dedup=False)['movie_id'].value_counts().head()"
   ]
  },
  {
   "cell_type": "markdown",
   "id": "456f7d78-a1ca-4b9d-9d38-1c726cac984b",
   "metadata": {},
   "source": [
    "Yes there is. And what about in the deduplicated train set?"
   ]
  },
  {
   "cell_type": "code",
   "execution_count": 22,
   "id": "b42724a4-146b-431e-bc3e-c20d6b4b32ad",
   "metadata": {},
   "outputs": [
    {
     "data": {
      "text/plain": [
       "movie_id\n",
       "tt0118480    30\n",
       "tt0023775    30\n",
       "tt0049223    30\n",
       "tt0277941    30\n",
       "tt0284978    30\n",
       "Name: count, dtype: int64"
      ]
     },
     "execution_count": 22,
     "metadata": {},
     "output_type": "execute_result"
    }
   ],
   "source": [
    "get_train_data(dedup=True)['movie_id'].value_counts().head()"
   ]
  },
  {
   "cell_type": "markdown",
   "id": "902b4e97-a076-4588-86f0-2cfddfe0bc79",
   "metadata": {},
   "source": [
    "No there isn't. So deduplication actually brings the maximum number of reviews per movie down to 30 which was the original intent of this dataset. Let's repeat this for the test set."
   ]
  },
  {
   "cell_type": "code",
   "execution_count": 23,
   "id": "1dd11035-6cd9-43f5-9809-b9369f60ee96",
   "metadata": {},
   "outputs": [
    {
     "data": {
      "text/plain": [
       "movie_id\n",
       "tt0239496    60\n",
       "tt0152015    48\n",
       "tt0202381    41\n",
       "tt0108915    40\n",
       "tt0126810    33\n",
       "Name: count, dtype: int64"
      ]
     },
     "execution_count": 23,
     "metadata": {},
     "output_type": "execute_result"
    }
   ],
   "source": [
    "get_test_data(dedup=False)['movie_id'].value_counts().head()"
   ]
  },
  {
   "cell_type": "markdown",
   "id": "31950059-4e5c-458d-a0d8-38336326adb1",
   "metadata": {},
   "source": [
    "By comparison that's pretty dramatic. We see one movie with 60 reviews and a couple with over 40!"
   ]
  },
  {
   "cell_type": "code",
   "execution_count": 24,
   "id": "6472e920-e5eb-4419-84e1-c73bbb87d1f9",
   "metadata": {},
   "outputs": [
    {
     "data": {
      "text/plain": [
       "movie_id\n",
       "tt0365830    30\n",
       "tt0373024    30\n",
       "tt0365513    30\n",
       "tt0079261    30\n",
       "tt0086050    30\n",
       "Name: count, dtype: int64"
      ]
     },
     "execution_count": 24,
     "metadata": {},
     "output_type": "execute_result"
    }
   ],
   "source": [
    "get_test_data(dedup=True)['movie_id'].value_counts().head()"
   ]
  },
  {
   "cell_type": "markdown",
   "id": "194617b2-9eb5-4f3c-aa38-466142631da6",
   "metadata": {},
   "source": [
    "But it's the same story when we deduplicate the reviews. It seems the movies with more than 30 reviews are due to duplicate reviews caused by movies with multiple movie IDs. This is good news because the deduplication takes care of the overrepresented movies for us.\n",
    "\n",
    "This leaves one more question about train test contamination though. Are there any movies with reviews in the train and test set?"
   ]
  },
  {
   "cell_type": "code",
   "execution_count": 25,
   "id": "2284f28c-7325-47ce-b599-fca2c2ce098e",
   "metadata": {},
   "outputs": [
    {
     "data": {
      "text/plain": [
       "np.True_"
      ]
     },
     "execution_count": 25,
     "metadata": {},
     "output_type": "execute_result"
    }
   ],
   "source": [
    "train_df, test_df = get_train_test_data()\n",
    "test_df[\"movie_id\"].isin(train_df[\"movie_id\"]).any()"
   ]
  },
  {
   "cell_type": "markdown",
   "id": "c3fb6723-a649-43eb-b6cc-448c78d9a334",
   "metadata": {},
   "source": [
    "That is unfortunate. After removing reviews from the test set that appear in the train set, we're still left with reviews in the test set for at least one movie that is reviewed in the train set. Let's dig in a little."
   ]
  },
  {
   "cell_type": "code",
   "execution_count": 26,
   "id": "c4b939e6-e9d9-4042-8f01-96a39848f045",
   "metadata": {},
   "outputs": [
    {
     "data": {
      "text/plain": [
       "(103, 5)"
      ]
     },
     "execution_count": 26,
     "metadata": {},
     "output_type": "execute_result"
    }
   ],
   "source": [
    "overlapping_movies = test_df[\n",
    "    test_df[\"movie_id\"].isin(train_df[\"movie_id\"])\n",
    "]\n",
    "overlapping_movies.shape"
   ]
  },
  {
   "cell_type": "markdown",
   "id": "276ccad5-3d78-4670-87da-a4e76d22d981",
   "metadata": {},
   "source": [
    "There's 103 reviews in the test set that shouldn't be there because their associated movie is reviewed in the train set. How many movies are we talking?"
   ]
  },
  {
   "cell_type": "code",
   "execution_count": 27,
   "id": "2d0b5763-7d89-446a-af32-0bdbcee256e1",
   "metadata": {},
   "outputs": [
    {
     "data": {
      "text/plain": [
       "7"
      ]
     },
     "execution_count": 27,
     "metadata": {},
     "output_type": "execute_result"
    }
   ],
   "source": [
    "len(overlapping_movies[\"movie_id\"].unique())"
   ]
  },
  {
   "cell_type": "markdown",
   "id": "4e51b110-458c-430c-8cdd-15e69ebf19ec",
   "metadata": {},
   "source": [
    "103 reviews across 7 movies. Let's also remove these from the test set as they can artificially inflate the benchmarking performance of our models. Instead of removing the duplicate training reviews from the test set, we can filter out reviews with the same movie ID. This will capture duplicates from the same movie."
   ]
  },
  {
   "cell_type": "code",
   "execution_count": 28,
   "id": "a3a1e620-4d90-4106-9db9-8cd994febdf2",
   "metadata": {},
   "outputs": [
    {
     "data": {
      "text/plain": [
       "((24904, 5), (24576, 5))"
      ]
     },
     "execution_count": 28,
     "metadata": {},
     "output_type": "execute_result"
    }
   ],
   "source": [
    "def get_train_test_data():\n",
    "    \"\"\"Return train and test `pd.DataFrame`s.\"\"\"\n",
    "    train_df = get_train_data()\n",
    "    test_df = get_test_data()\n",
    "    test_df = test_df[\n",
    "        (~test_df[\"movie_id\"].isin(train_df[\"movie_id\"]))\n",
    "    ].copy()\n",
    "    return train_df, test_df\n",
    "\n",
    "\n",
    "train_df, test_df = get_train_test_data()\n",
    "train_df.shape, test_df.shape"
   ]
  },
  {
   "cell_type": "markdown",
   "id": "e4881232-7319-4e0b-995a-f2f589df1761",
   "metadata": {},
   "source": [
    "We now have 24,904 reviews in the train set and 24,576 in the test set. By removing all reviews from the test set with a movie ID seen in the train set, that should handle duplicate reviews across these groups as well as duplicate movies, but there's still something wrong with our test set. Our original test set was 25k. We removed 199 duplicate reviews in the test set, then 123 reviews seen in the train set, then 103 reviews with movie IDs seen in the train set. Adding that up doesn't give us 24,576..."
   ]
  },
  {
   "cell_type": "code",
   "execution_count": 29,
   "id": "53b36727-f795-4b4f-b9e7-96e3cb0ed807",
   "metadata": {},
   "outputs": [
    {
     "data": {
      "text/plain": [
       "24575"
      ]
     },
     "execution_count": 29,
     "metadata": {},
     "output_type": "execute_result"
    }
   ],
   "source": [
    "25000 - 199 - 123 - 103"
   ]
  },
  {
   "cell_type": "markdown",
   "id": "e52482c9-68ce-40be-8e77-e8e06d67e9bf",
   "metadata": {},
   "source": [
    "Our test set has one to many reviews. That's because we didn't actually remove all duplicate reviews in the test set seen in the train set, we just removed the reviews with the same movie IDs. There's one duplicate review in the train and test sets, it's just for ___different movies!___"
   ]
  },
  {
   "cell_type": "code",
   "execution_count": 30,
   "id": "04869f65-e1c7-4205-a534-4a544d80e3ff",
   "metadata": {},
   "outputs": [
    {
     "data": {
      "text/html": [
       "<div>\n",
       "<style scoped>\n",
       "    .dataframe tbody tr th:only-of-type {\n",
       "        vertical-align: middle;\n",
       "    }\n",
       "\n",
       "    .dataframe tbody tr th {\n",
       "        vertical-align: top;\n",
       "    }\n",
       "\n",
       "    .dataframe thead th {\n",
       "        text-align: right;\n",
       "    }\n",
       "</style>\n",
       "<table border=\"1\" class=\"dataframe\">\n",
       "  <thead>\n",
       "    <tr style=\"text-align: right;\">\n",
       "      <th></th>\n",
       "      <th>id</th>\n",
       "      <th>movie_id</th>\n",
       "      <th>rating</th>\n",
       "      <th>review</th>\n",
       "      <th>label</th>\n",
       "    </tr>\n",
       "  </thead>\n",
       "  <tbody>\n",
       "    <tr>\n",
       "      <th>10020</th>\n",
       "      <td>12159</td>\n",
       "      <td>tt0182766</td>\n",
       "      <td>8</td>\n",
       "      <td>There has been a political documentary, of rec...</td>\n",
       "      <td>1</td>\n",
       "    </tr>\n",
       "  </tbody>\n",
       "</table>\n",
       "</div>"
      ],
      "text/plain": [
       "          id   movie_id  rating  \\\n",
       "10020  12159  tt0182766       8   \n",
       "\n",
       "                                                  review  label  \n",
       "10020  There has been a political documentary, of rec...      1  "
      ]
     },
     "execution_count": 30,
     "metadata": {},
     "output_type": "execute_result"
    }
   ],
   "source": [
    "test_df[test_df[\"review\"].isin(train_df[\"review\"])]"
   ]
  },
  {
   "cell_type": "code",
   "execution_count": 31,
   "id": "61dd8597-6a1c-4f5d-9c8a-123df2d0815d",
   "metadata": {},
   "outputs": [
    {
     "data": {
      "text/html": [
       "<div>\n",
       "<style scoped>\n",
       "    .dataframe tbody tr th:only-of-type {\n",
       "        vertical-align: middle;\n",
       "    }\n",
       "\n",
       "    .dataframe tbody tr th {\n",
       "        vertical-align: top;\n",
       "    }\n",
       "\n",
       "    .dataframe thead th {\n",
       "        text-align: right;\n",
       "    }\n",
       "</style>\n",
       "<table border=\"1\" class=\"dataframe\">\n",
       "  <thead>\n",
       "    <tr style=\"text-align: right;\">\n",
       "      <th></th>\n",
       "      <th>id</th>\n",
       "      <th>movie_id</th>\n",
       "      <th>rating</th>\n",
       "      <th>review</th>\n",
       "      <th>label</th>\n",
       "    </tr>\n",
       "  </thead>\n",
       "  <tbody>\n",
       "    <tr>\n",
       "      <th>355</th>\n",
       "      <td>10643</td>\n",
       "      <td>tt0184773</td>\n",
       "      <td>8</td>\n",
       "      <td>There has been a political documentary, of rec...</td>\n",
       "      <td>1</td>\n",
       "    </tr>\n",
       "  </tbody>\n",
       "</table>\n",
       "</div>"
      ],
      "text/plain": [
       "        id   movie_id  rating  \\\n",
       "355  10643  tt0184773       8   \n",
       "\n",
       "                                                review  label  \n",
       "355  There has been a political documentary, of rec...      1  "
      ]
     },
     "execution_count": 31,
     "metadata": {},
     "output_type": "execute_result"
    }
   ],
   "source": [
    "train_df[train_df[\"review\"].isin(test_df[\"review\"])]"
   ]
  },
  {
   "cell_type": "markdown",
   "id": "94c4e948-9b41-46dc-b096-7663037e1bf0",
   "metadata": {},
   "source": [
    "It turns out these two movies are part of a documentary series. One documentary ended up in the train set, the other in the test set, and one reviewer happened to write the same review for both. All that's left is for us to remove the reviews from the test set seen in the train set _and_ the reviews from the test set with movie IDs in the train set. "
   ]
  },
  {
   "cell_type": "code",
   "execution_count": 32,
   "id": "934cbd28-9322-40fe-b20a-008f45771dfa",
   "metadata": {},
   "outputs": [
    {
     "data": {
      "text/plain": [
       "((24904, 5), (24575, 5))"
      ]
     },
     "execution_count": 32,
     "metadata": {},
     "output_type": "execute_result"
    }
   ],
   "source": [
    "def get_train_test_data():\n",
    "    \"\"\"Return train and test `pd.DataFrame`s.\"\"\"\n",
    "    train_df = get_train_data()\n",
    "    test_df = get_test_data()\n",
    "    same_review = test_df[\"review\"].isin(train_df[\"review\"])\n",
    "    same_movie = test_df[\"movie_id\"].isin(\n",
    "        train_df[\"movie_id\"]\n",
    "    )\n",
    "    test_df = test_df[~same_review & ~same_movie].copy()\n",
    "    return train_df, test_df\n",
    "\n",
    "\n",
    "train_df, test_df = get_train_test_data()\n",
    "train_df.shape, test_df.shape"
   ]
  },
  {
   "cell_type": "markdown",
   "id": "ad1da77e-327b-4eb7-84cf-c122e8cf1242",
   "metadata": {},
   "source": [
    "Now we have 24,575 reviews in the test set. All is good and we can move on."
   ]
  },
  {
   "cell_type": "markdown",
   "id": "ef8cc124-d5d1-49b7-92e4-62e4d468625a",
   "metadata": {},
   "source": [
    "## Reflection\n",
    "\n",
    "With that, our data cleaning journey comes to an end. Yes, there is more that could be done, like ensuring no reviews from the same reviewer show up in the train and test sets, but we don't have user IDs associated with these reviews. Besides, the process would look similar to what we've already done, just with a little more leg work. For our purpose of learning about NLP this dataset is fine.\n",
    "\n",
    "We covered a lot of ground, and while we're here I'd like to take a moment to reflect on what we found.\n",
    "\n",
    "- Duplicate reviews in both the train and test sets.\n",
    "- Reviews are for movies and TV shows.\n",
    "- More than 30 reviews for some movies.\n",
    "  - Fortunately these were all duplicate reviews.\n",
    "- Train-test contamination.\n",
    "\n",
    "I especially want to draw your attention to the train-test contamination. The amount of contamination in this dataset may be negligible when it comes to benchmarking machine learning models, I don't really know. But the fact that it's there and that this dataset is provided by [multiple](https://pytorch.org/text/stable/datasets.html#imdb) [deep learning](https://www.tensorflow.org/datasets/catalog/imdb_reviews) [libraries](https://docs.fast.ai/data.external.html#main-datasets) as well as used for [benchmarking tasks in research](https://arxiv.org/abs/1801.06146) [@DBLP:journals/corr/abs-1801-06146] should make you pause.[Researchers may perform their own preprocessing of the data as we have here. I point to this paper as an example of researchers using the dataset because it is a popular dataset, _not as an example of someone using it without preprocessing_. In fact, I think this paper is so important it got it's own chapter.]{.aside} I've used datasets at face value without questioning them and I guarantee people have taken this dataset at face value. These libraries provide the data as-is. 25k train and 25k test reviews, but we know there's not really 25k reviews in each set. This is not a critique of the dataset or it's curators, the libraries that provide it, or the researchers that use it. This is a reminder to verify the data is actually what you think it is because we've seen here that it isn't always what it looks like.\n",
    "\n",
    "### Keep asking \"why?\"\n",
    "\n",
    "Now that we've reached the end, did we answer all the questions we set out to answer? Did you come up with other questions while we worked through this? If we created a similar dataset from scratch today, what would you do differently?"
   ]
  },
  {
   "cell_type": "markdown",
   "id": "ba0f937c-902e-4c37-83e1-fc3e57a3f94a",
   "metadata": {},
   "source": [
    "## Unsupervised learning data\n",
    "\n",
    "But wait there's more. We'll also be covering unsupervised learning topics in this book. The train/test sets have labels, 0 or 1, which allows them to be used in a _supervised_ learning fashion. In supervised learning we have real outputs, the review labels in this case, to compare to our machine learning model outputs. We can supervise the models learning by comparing it's outputs to the labels and let the model know how it's doing. Unsupervised learning is just input data. There's no label to use as a comparator.\n",
    "\n",
    "The IMDB dataset includes an unsupervised learning dataset. The unsupervised set has no ratings and no labels. It's just reviews. Like the train and test set we've already gone over, the same principle of deduplication applies and that's really all we need."
   ]
  },
  {
   "cell_type": "code",
   "execution_count": 33,
   "id": "f33fce42-e663-458a-8a73-02f8c67dee98",
   "metadata": {},
   "outputs": [
    {
     "data": {
      "text/plain": [
       "(49507, 3)"
      ]
     },
     "execution_count": 33,
     "metadata": {},
     "output_type": "execute_result"
    }
   ],
   "source": [
    "def get_unsup_data(dedup=True):\n",
    "    \"\"\"\n",
    "    Return a `pd.DataFrame` with the unsupervised data.\n",
    "    \"\"\"\n",
    "    rv = get_review_data(\n",
    "        data_path / \"train/unsup\",\n",
    "        data_path / \"train/urls_unsup.txt\",\n",
    "    )\n",
    "    rv.drop(columns=\"rating\", inplace=True)\n",
    "    # Drop the ratings column since every review in the\n",
    "    # unsupervised set is given a rating of 0 regardless\n",
    "    # of what it's rating is.\n",
    "    if dedup:\n",
    "        return rv.drop_duplicates(\"review\").copy()\n",
    "    return rv\n",
    "\n",
    "unsup_df = get_unsup_data()\n",
    "unsup_df.shape"
   ]
  },
  {
   "cell_type": "code",
   "execution_count": 34,
   "id": "cf9a465d-ed72-43af-b577-55b61d6c8545",
   "metadata": {},
   "outputs": [
    {
     "data": {
      "text/plain": [
       "movie_id\n",
       "tt0325596    30\n",
       "tt0086856    30\n",
       "tt0758053    30\n",
       "tt0284850    30\n",
       "tt0469062    30\n",
       "Name: count, dtype: int64"
      ]
     },
     "execution_count": 34,
     "metadata": {},
     "output_type": "execute_result"
    }
   ],
   "source": [
    "unsup_df['movie_id'].value_counts().head()"
   ]
  },
  {
   "cell_type": "markdown",
   "id": "03058912-8c1b-44d4-9e1a-ed7c57dbeca5",
   "metadata": {},
   "source": [
    "Ok, we're really done now. Thanks for bearing with me. Cleaning data is probably my least favorite part of machine learning because it can feel like busy work, but it's so important. Even if you leave the dataset the way you found it, it's a great opportunity to learn about the dataset before you do any modeling. I often find that data cleaning is an ongoing process as I build machine learning models because the models can point to oddities in the data I never saw during my initial exploration. You will find article after article about how machine learning works, with little discussion of how the data was prepared. I want you to walk away from this chapter knowing that cleaning data, analysis, and machine learning are all intertwined."
   ]
  }
 ],
 "metadata": {
  "kernelspec": {
   "display_name": "Python 3 (ipykernel)",
   "language": "python",
   "name": "python3"
  },
  "language_info": {
   "codemirror_mode": {
    "name": "ipython",
    "version": 3
   },
   "file_extension": ".py",
   "mimetype": "text/x-python",
   "name": "python",
   "nbconvert_exporter": "python",
   "pygments_lexer": "ipython3",
   "version": "3.12.4"
  }
 },
 "nbformat": 4,
 "nbformat_minor": 5
}
