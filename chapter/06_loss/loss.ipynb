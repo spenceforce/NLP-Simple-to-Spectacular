{
 "cells": [
  {
   "cell_type": "raw",
   "id": "ac8501f1-da7c-413a-ba7b-2ab7d1c29c9e",
   "metadata": {},
   "source": [
    "---\n",
    "title: What's in a loss?\n",
    "---"
   ]
  },
  {
   "cell_type": "markdown",
   "id": "60fcce88-30da-404c-935c-10f522954f44",
   "metadata": {},
   "source": [
    "Last chapter we implemented a [decision tree](../05_decision_tree/decision_tree.ipynb). Our decision tree performed slightly different than the `sklearn` decision tree. This is in part due to the difference between loss functions used by these models.\n",
    "\n",
    "A loss function is a way to compare model predictions to actual values. That should sound familiar. We've been using accuracy to compare model predictions to actual values from the start. Loss functions are used during model training to _tell the model how it's doing_, allowing the learning algorithm to adjust the model accordingly and make it better.\n",
    "\n",
    "We've used accuracy to train and benchmark our models but in practice accuracy is usually used as a benchmarking metric and not for training. There's nothing wrong with using accuracy as a loss function, especially with rule based models like what we've been working with, but as we move towards neural networks, more effective loss functions become possible.\n",
    "\n",
    "We will implement a different loss function for our decision tree in this chapter, not because this new loss function is better, but because it's important to understand that there's nothing magical about the loss function _as long as it's informative for the model!_"
   ]
  },
  {
   "cell_type": "markdown",
   "id": "ec512fba-917a-4c1c-a747-5491868a3620",
   "metadata": {},
   "source": [
    "## Loss so far\n",
    "\n",
    "A brief refresh on how our loss function works. We construct a binary tree by repeatedly splitting the data on a feature value where all data points less than that value are in one branch and all data points greater than that value are in the other branch. The best feature value to split the data on is determined by the accuracy of the branches. If the accuracy of all the data points is better than the accuracy of the branches identified from the best feature value, then binary tree construction on that set of data points stops.\n",
    "\n",
    "We've done all the hard work. Changing the loss function is easy, it's just a matter of swapping out accuracy for an alternative."
   ]
  },
  {
   "cell_type": "markdown",
   "id": "328ed368-207e-4273-be67-8666cb81b6f3",
   "metadata": {},
   "source": [
    "## Gini impurity\n",
    "\n",
    "The Gini impurity is the typical loss function I've seen used by decision trees. In order to understand this loss function you need to understand probability. But you already understand probability."
   ]
  },
  {
   "cell_type": "markdown",
   "id": "81b108e5-4b01-4535-b5c0-0fc14d81fff4",
   "metadata": {},
   "source": [
    "### Probability {#sec-loss-probability}\n",
    "\n",
    "Think back to our [baseline classifier](../02_baseline/baseline_classifier.ipynb) which always predicted the most common label in the training set. What is the accuracy of that model on the same training set? It is the ratio of the most common label over all labels. That happens to be the probability of the most common label.\n",
    "\n",
    "At its core probability is asking the question, \"how likely is event X going to happen?\" It's commonly taught using simple scenarios because it's easy to grasp. Flip a coin. What's the chance it will be heads? 1/2. Roll a die. What's the chance it will be 2? 1/6. Play the lotto. What's the chance you will win? Very, very small.\n",
    "\n",
    "That's all you need to know really and now we can implement the Gini impurity."
   ]
  },
  {
   "cell_type": "markdown",
   "id": "44e18cd4-a087-46a2-847d-4dd1b29ae108",
   "metadata": {},
   "source": [
    "### How it works\n",
    "\n",
    "We have a bunch of reviews. They have positive or negative labels. The Gini impurity is the probability of a positive label times the probability of _not_ a positive label plus the probability of a negative label times the probability of _not_ a negative label. That's a mouthful. Maybe we should start over and work up piece by piece with something more concrete.\n",
    "\n",
    "Let's say 75% of the reviews are positive."
   ]
  },
  {
   "cell_type": "code",
   "execution_count": 1,
   "id": "6e65d543-221f-42da-b2ad-d942015a17be",
   "metadata": {},
   "outputs": [],
   "source": [
    "positive_prob = 0.75"
   ]
  },
  {
   "cell_type": "markdown",
   "id": "cf4a1a5c-6b10-405e-9528-4a5c63ac9cdb",
   "metadata": {},
   "source": [
    "The thing about probability is there is a 100% chance of some outcome. In our case the review must be positive or negative, so if 75% of the reviews are positive then the rest must be negative."
   ]
  },
  {
   "cell_type": "code",
   "execution_count": 2,
   "id": "dc4fd201-1f77-42fe-921d-991f5aa25092",
   "metadata": {},
   "outputs": [
    {
     "data": {
      "text/plain": [
       "0.25"
      ]
     },
     "execution_count": 2,
     "metadata": {},
     "output_type": "execute_result"
    }
   ],
   "source": [
    "negative_prob = 1 - positive_prob\n",
    "negative_prob"
   ]
  },
  {
   "cell_type": "markdown",
   "id": "acfab60f-78b9-4a9e-ac64-64149c37dc24",
   "metadata": {},
   "source": [
    "Now let's compute the Gini impurity using these numbers."
   ]
  },
  {
   "cell_type": "code",
   "execution_count": 3,
   "id": "3ae9caed-fd12-45b8-a524-96f40e0b7210",
   "metadata": {},
   "outputs": [
    {
     "data": {
      "text/plain": [
       "0.375"
      ]
     },
     "execution_count": 3,
     "metadata": {},
     "output_type": "execute_result"
    }
   ],
   "source": [
    "(\n",
    "    positive_prob * (1 - positive_prob)\n",
    "    + negative_prob * (1 - negative_prob)\n",
    ")"
   ]
  },
  {
   "cell_type": "markdown",
   "id": "4177bce5-b008-4358-b15c-2a8f66fcf894",
   "metadata": {},
   "source": [
    "[You may be asking why the Gini impurity is effectively `2 * positive_prob * negative_prob`. This is a side effect of how the generalized equation expands, but in practice it doesn't matter. Since 2 is a constant multiplier the relative order would be the same whether it's there or not.]{.aside}The first term is the probability of a positive label times the probability of not a positive label. The probability of not a positive label _is just the probability of a negative label!_ Why take this round about way of to say the probability of a positive label times the probability of a negative label?\n",
    "\n",
    "Because it _generalizes_.\n",
    "\n",
    "Let's imagine we have reviews with positive, negative, or neutral labels. Now the probability of not a positive label is the sum of negative and neutral label probabilities. What if we had 10 labels? Then the probability of not being a specific label would be the sum of the other 9 label probabilities. But it doesn't matter how many labels there are because the probability of not being a specific label is the same as the sum of all the other label probabilities. Subtracting the label probability from 1 is easy.\n",
    "\n",
    "There's another wrinkle I didn't mention. The above definition is based on our use case of having two labels, but the actual definition extends to all labels. It sums up probability times it's opposite. In it's general form it's also quick to code."
   ]
  },
  {
   "cell_type": "code",
   "execution_count": 4,
   "id": "86b18a83-7308-43c9-a3eb-b4da16313ef6",
   "metadata": {},
   "outputs": [
    {
     "data": {
      "text/plain": [
       "0.375"
      ]
     },
     "execution_count": 4,
     "metadata": {},
     "output_type": "execute_result"
    }
   ],
   "source": [
    "def gini(probabilities):\n",
    "    \"\"\"Return the Gini impurity.\"\"\"\n",
    "    return sum(p * (1 - p) for p in probabilities)\n",
    "\n",
    "\n",
    "gini([0.75, 0.25])"
   ]
  },
  {
   "cell_type": "markdown",
   "id": "2ceafdf3-0f35-462f-947a-16fa78ad91c9",
   "metadata": {},
   "source": [
    "## Find the minimum\n",
    "\n",
    "In machine learning it's common to minimize the loss. We can think of the loss value as a distance from the prediction to the actual label. A smaller loss means the prediction is closer to the actual label. This is the opposite of accuracy where higher is better.\n",
    "\n",
    "To drive the point home, let's plot the Gini impurity and the accuracy for different probabilities and see what they look like.[A higher probability means more likely to get the correct label.]{.aside}"
   ]
  },
  {
   "cell_type": "code",
   "execution_count": 5,
   "id": "18bbf7d3-02d3-43fd-b768-696f1f7b15b9",
   "metadata": {},
   "outputs": [
    {
     "data": {
      "text/plain": [
       "<seaborn.axisgrid.FacetGrid at 0x7f3c02586d20>"
      ]
     },
     "execution_count": 5,
     "metadata": {},
     "output_type": "execute_result"
    },
    {
     "data": {
      "image/png": "[encoded data removed]",
      "text/plain": [
       "<Figure size 625.125x500 with 1 Axes>"
      ]
     },
     "metadata": {},
     "output_type": "display_data"
    }
   ],
   "source": [
    "# | echo: false\n",
    "import numpy as np\n",
    "import pandas as pd\n",
    "import seaborn as sns\n",
    "\n",
    "sns.set_theme(style=\"darkgrid\")\n",
    "\n",
    "data = []\n",
    "for p in np.arange(0.5, 1.01, 0.1):\n",
    "    data.append({\"Probability\": p, \"Score\": p, \"Metric\": \"Accuracy\"})\n",
    "    data.append(\n",
    "        {\n",
    "            \"Probability\": p,\n",
    "            \"Score\": gini([p, (1 - p)]),\n",
    "            \"Metric\": \"Gini\",\n",
    "        }\n",
    "    )\n",
    "sns.relplot(\n",
    "    pd.DataFrame(data),\n",
    "    x=\"Probability\",\n",
    "    y=\"Score\",\n",
    "    hue=\"Metric\",\n",
    "    kind=\"line\",\n",
    ")"
   ]
  },
  {
   "cell_type": "markdown",
   "id": "a90edb42-9586-42d1-a3ac-ec8d0da89abb",
   "metadata": {},
   "source": [
    "We see the Gini impurity go down as the probability of predicting the correct label goes up, so a lower Gini impurity is better. The Gini impurity doesn't have a linear relationship with probability either, unlike accuracy."
   ]
  },
  {
   "cell_type": "markdown",
   "id": "199cda0e-7d13-49fc-8aa3-7d334e7fe91c",
   "metadata": {},
   "source": [
    "## Putting it all together\n",
    "\n",
    "Now it's just a matter of swapping the loss functions."
   ]
  },
  {
   "cell_type": "code",
   "execution_count": 24,
   "id": "d97e564b-d88a-4e43-83eb-368133d35923",
   "metadata": {},
   "outputs": [],
   "source": [
    "from scipy.sparse import issparse\n",
    "from sklearn.base import BaseEstimator, ClassifierMixin\n",
    "from sklearn.dummy import DummyClassifier\n",
    "from sklearn.utils.multiclass import unique_labels\n",
    "\n",
    "\n",
    "class Split(ClassifierMixin, BaseEstimator):\n",
    "    \"\"\"Split the data on the feature value.\"\"\"\n",
    "\n",
    "    def __init__(self, idx, value):\n",
    "        # Index of the feature matrix.\n",
    "        self.idx = idx\n",
    "        # Value to split the data on.\n",
    "        self.value = value\n",
    "\n",
    "    def gini(self, X, y):\n",
    "        \"\"\"Return the average Gini impurity of the split.\"\"\"\n",
    "        # Convert other data types to numpy array\n",
    "        # for consistency.\n",
    "        X, y = np.array(X), np.array(y)\n",
    "\n",
    "        # Get size of left and right hand side of split.\n",
    "        N = len(X)\n",
    "        N_rhs = (X[:, self.idx] >= self.value).sum()\n",
    "        N_lhs = N - N_rhs\n",
    "        # `DummyClassifier` has an attribute, `class_prior_`, which\n",
    "        # contains the class probabilities after fitting. This is\n",
    "        # the probability of each label in the training data!\n",
    "        return (N_lhs / N) * gini(self.lhs_.class_prior_) + (\n",
    "            N_rhs / N\n",
    "        ) * gini(self.rhs_.class_prior_)\n",
    "\n",
    "    def fit(self, X, y):\n",
    "        # Convert other data types to numpy array\n",
    "        # for consistency.\n",
    "        X, y = np.array(X), np.array(y)\n",
    "\n",
    "        # Grab class labels.\n",
    "        self.classes_ = unique_labels(y)\n",
    "\n",
    "        # Create boolean arrays to split the groups on.\n",
    "        rhs = X[:, self.idx] >= self.value\n",
    "        lhs = ~rhs\n",
    "\n",
    "        # Create baseline classifiers for each split.\n",
    "        self.lhs_ = DummyClassifier().fit(X[lhs], y[lhs])\n",
    "        self.rhs_ = DummyClassifier().fit(X[rhs], y[rhs])\n",
    "\n",
    "        return self\n",
    "\n",
    "    def predict(self, X):\n",
    "        # Convert other data types to numpy array\n",
    "        # for consistency.\n",
    "        X = np.array(X)\n",
    "\n",
    "        # Make our empty prediction array.\n",
    "        pred = np.zeros(X.shape[0], dtype=int)\n",
    "\n",
    "        # Create boolean arrays to split the groups on.\n",
    "        rhs = X[:, self.idx] >= self.value\n",
    "        lhs = ~rhs\n",
    "\n",
    "        # Populate the prediction array with predictions from\n",
    "        # each group.\n",
    "        if lhs.sum() > 0:\n",
    "            pred[lhs] = self.lhs_.predict(X[lhs])\n",
    "        if rhs.sum() > 0:\n",
    "            pred[rhs] = self.rhs_.predict(X[rhs])\n",
    "\n",
    "        return pred\n",
    "\n",
    "\n",
    "def find_best_split(X, y):\n",
    "    \"\"\"Iterate over all possible values in `X` to find the best\n",
    "    split point.\"\"\"\n",
    "    # Convert other data types to numpy array\n",
    "    # for consistency.\n",
    "    X, y = np.array(X), np.array(y)\n",
    "\n",
    "    # Variables for the two groups.\n",
    "    best_split = best_loss = None\n",
    "\n",
    "    # Iterate over each feature.\n",
    "    for i, column in enumerate(X.T):\n",
    "        # Iterate over each unique value in column.\n",
    "        for value in np.unique(column):\n",
    "            try:\n",
    "                split = Split(i, value).fit(X, y)\n",
    "            except ValueError:\n",
    "                # `DummyClassifier` will raise a `ValueError`\n",
    "                # if it is trained on an empty dataset, in which\n",
    "                # case we just skip this split.\n",
    "                continue\n",
    "\n",
    "            # Get the loss for this split.\n",
    "            loss = split.gini(X, y)\n",
    "\n",
    "            # Keep this split if it has the best loss so far.\n",
    "            if best_loss is None or loss < best_loss:\n",
    "                best_split = split\n",
    "                best_loss = loss\n",
    "\n",
    "    # Raise an error if there is no way to split the data.\n",
    "    if best_split is None:\n",
    "        raise ValueError\n",
    "\n",
    "    return best_split\n",
    "\n",
    "\n",
    "def find_best_splits(X, y):\n",
    "    \"\"\"Generate a binary tree based on the data.\"\"\"\n",
    "    # Create a baseline classifier for the entire dataset.\n",
    "    unsplit = DummyClassifier().fit(X, y)\n",
    "    try:\n",
    "        # Create a split on the dataset.\n",
    "        split = find_best_split(X, y)\n",
    "    except ValueError:\n",
    "        # If it's impossible to split the dataset, return\n",
    "        # the baseline classifier.\n",
    "        return unsplit\n",
    "\n",
    "    # If the baseline classifier performs better than the\n",
    "    # split classifier, return the baseline classifier.\n",
    "    if gini(unsplit.class_prior_) <= split.gini(X, y):\n",
    "        return unsplit\n",
    "\n",
    "    # Create boolean arrays for each subset of the data based\n",
    "    # on the split value.\n",
    "    rhs = X[:, split.idx] >= split.value\n",
    "    lhs = ~rhs\n",
    "\n",
    "    # Recursively update the left hand side classifier.\n",
    "    split.lhs_ = find_best_splits(X[lhs], y[lhs])\n",
    "    # Recursively update the right hand side classifier.\n",
    "    split.rhs_ = find_best_splits(X[rhs], y[rhs])\n",
    "\n",
    "    # Return the updated split.\n",
    "    return split\n",
    "\n",
    "\n",
    "class DecisionTree(ClassifierMixin, BaseEstimator):\n",
    "    \"\"\"Binary decision tree classifier.\"\"\"\n",
    "\n",
    "    def fit(self, X, y):\n",
    "        # Convert sparse matrix to `numpy` matrix.\n",
    "        if issparse(X):\n",
    "            X = X.toarray()\n",
    "        # Convert `X` and `y` to `numpy` arrays for consistency.\n",
    "        X, y = np.array(X), np.array(y)\n",
    "\n",
    "        # Grab the labels.\n",
    "        self.classes_ = unique_labels(y)\n",
    "\n",
    "        # Create the binary tree.\n",
    "        self.tree_ = find_best_splits(X, y)\n",
    "\n",
    "        return self\n",
    "\n",
    "    def predict(self, X):\n",
    "        # Convert sparse matrix to `numpy` matrix.\n",
    "        if issparse(X):\n",
    "            X = X.toarray()\n",
    "        # Convert `X` to `numpy` array for consistency.\n",
    "        X = np.array(X)\n",
    "        # Return predictions from the binary decision tree.\n",
    "        return self.tree_.predict(X)"
   ]
  },
  {
   "cell_type": "markdown",
   "id": "c46d01c2-6fec-4edc-8e1f-e8c64802b92e",
   "metadata": {},
   "source": [
    "If you followed along last chapter you'll see the code is almost identical. Now let's run it and see what happens."
   ]
  },
  {
   "cell_type": "code",
   "execution_count": 25,
   "id": "fd6db8f4-0956-40e4-b663-60d04120f50b",
   "metadata": {},
   "outputs": [
    {
     "data": {
      "text/plain": [
       "0.5558087487283825"
      ]
     },
     "execution_count": 25,
     "metadata": {},
     "output_type": "execute_result"
    }
   ],
   "source": [
    "from sklearn.feature_extraction.text import CountVectorizer\n",
    "from sklearn.pipeline import Pipeline\n",
    "from nlpbook import get_train_test_data\n",
    "\n",
    "# Grab the data and extract the features and labels.\n",
    "train, test = get_train_test_data()\n",
    "features = \"review\"\n",
    "label = \"label\"\n",
    "X, y = train[features], train[label]\n",
    "X_test, y_test = test[features], test[label]\n",
    "\n",
    "# Set up the pipeline.\n",
    "boc = CountVectorizer(analyzer=\"char\", lowercase=False)\n",
    "pipeline = Pipeline([(\"boc\", boc), (\"decision_tree\", DecisionTree())])\n",
    "\n",
    "# Train and score\n",
    "pipeline.fit(X, y)\n",
    "pipeline.score(X_test, y_test)"
   ]
  },
  {
   "cell_type": "markdown",
   "id": "7407dec6-84dd-47ba-b16e-7611e916725e",
   "metadata": {},
   "source": [
    "And voila! We get the same accuracy as the `sklearn` implementation."
   ]
  }
 ],
 "metadata": {
  "kernelspec": {
   "display_name": "Python 3 (ipykernel)",
   "language": "python",
   "name": "python3"
  },
  "language_info": {
   "codemirror_mode": {
    "name": "ipython",
    "version": 3
   },
   "file_extension": ".py",
   "mimetype": "text/x-python",
   "name": "python",
   "nbconvert_exporter": "python",
   "pygments_lexer": "ipython3",
   "version": "3.12.4"
  }
 },
 "nbformat": 4,
 "nbformat_minor": 5
}
