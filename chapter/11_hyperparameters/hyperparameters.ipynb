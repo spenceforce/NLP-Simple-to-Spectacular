{
 "cells": [
  {
   "cell_type": "raw",
   "id": "fefc2ba8-7272-4af8-a65c-db65428c16cd",
   "metadata": {},
   "source": [
    "---\n",
    "title: Hyperparameter tuning\n",
    "---"
   ]
  },
  {
   "cell_type": "markdown",
   "id": "254d4ed7-a584-45b5-acbf-2f704d0ba5e9",
   "metadata": {},
   "source": [
    "TODO"
   ]
  }
 ],
 "metadata": {
  "kernelspec": {
   "display_name": "Python 3 (ipykernel)",
   "language": "python",
   "name": "python3"
  },
  "language_info": {
   "codemirror_mode": {
    "name": "ipython",
    "version": 3
   },
   "file_extension": ".py",
   "mimetype": "text/x-python",
   "name": "python",
   "nbconvert_exporter": "python",
   "pygments_lexer": "ipython3",
   "version": "3.12.4"
  }
 },
 "nbformat": 4,
 "nbformat_minor": 5
}
