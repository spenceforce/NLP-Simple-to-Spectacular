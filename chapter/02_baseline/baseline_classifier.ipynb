{
 "cells": [
  {
   "cell_type": "raw",
   "id": "4f56eba1-76b8-4f2d-a1df-c45be6cca5b6",
   "metadata": {},
   "source": [
    "---\n",
    "title: \"Baseline: gotta start somewhere\"\n",
    "---"
   ]
  },
  {
   "cell_type": "markdown",
   "id": "475a6f34-2352-491e-a46a-228fa3bfa3d2",
   "metadata": {},
   "source": [
    "We'll start simple. So simple you may wonder if it's AI at all. When building models from scratch, I like to start with the easiest thing possible and iterate. Before we write any code, let's define what machine learning and machine learning models are.\n",
    "\n",
    "## What is machine learning?\n",
    "\n",
    "Machine learning is a field of artificial intelligence focused on algorithms that 1) learn from data and 2) generalize to unseen data. There are three main components to machine learning, data, models, and algorithms. Machine learning models are the things that do the learning and the algorithms direct the models learning. The lines blur at times between models and algorithms and some algorithms only work for some models. At their core, models are functions. They take an input, process them in some way, and return an output. Models have learnable parameters and machine learning algorithms focus on adjusting these parameters to make the model produce better outputs.\n",
    "\n",
    "Conceptually, models are simple. Take the equation for a line, `f(x) = m*x + b`. This is a model where `m` and `b` are constant values indicating the slope and y-intercept of the line. `x` is an input value and the output is `f(x) = y`. If we know `m` and `b` we can compute `y` for any `x`. Machine learning comes to the rescue when we don't know `m` and `b`. Assuming we have a bunch of `(x, y)` points, a machine learning algorithm can guess what good values for `m` and `b` are based on those points. Then we freeze those values and the model can predict `y` for any `x`.\n",
    "\n",
    "Models can be giant equations and it's easy to get lost in the details, but remember _it's still just an equation!_ The learning algorithm will find the right constant terms for us. It's our job to set up the problem for the algorithm and model and then get out of the way so the machine can learn.\n",
    "\n",
    "::: {.callout-note}\n",
    "In machine learning, the constant terms of the equation are called parameters or weights. During training they are not constant as the learning algorithm is trying to find their optimal values, but once training is done these values become constant and you're left with a normal equation.\n",
    ":::\n",
    "\n",
    "### The learning process\n",
    "\n",
    "At it's core the learning process iterates through prediction, comparison, and tweaking the model parameters. The training data is used in this process. We initialize the model, then use it as is to predict the outputs on the training data. These outputs are compared to the actual outputs, or targets, of the training data. If we are happy with the comparison, training is done. Otherwise the model parameters are adjusted and the process begins again. This whole process is outlined below.\n",
    "\n",
    "```{mermaid}\n",
    "flowchart TB\n",
    "  B[Predict output for train data] --> C[Compare predictions to targets]\n",
    "  C --> D{Predictions good enough?}\n",
    "  D -- No --> E[Update model]\n",
    "  D -- Yes --> F[Freeze model for production]\n",
    "  E --> B\n",
    "```"
   ]
  },
  {
   "cell_type": "markdown",
   "id": "1ca045a4-9a3f-4559-a6d1-c3be1b250a5f",
   "metadata": {},
   "source": [
    "## The simplest of models\n",
    "\n",
    "Turning our attention back to our model, the simplest thing we can do is predict the same thing for every input. And if we're going to predict the same thing for every input, it should be the most common thing.\n",
    "\n",
    "This may seem silly, but it gives us a measuring stick to compare to other models. If we use the latest and greatest techniques in deep learning, it should outperform this model. The only way we'll know it outperforms it is by building the model and testing it. If it doesn't outperform this model, that raises cause for concern and the results should be investigated. So we start simple and incrementally improve until we are satisfied."
   ]
  },
  {
   "cell_type": "markdown",
   "id": "cd95eb85-5f13-4119-8628-699d5577bdb6",
   "metadata": {},
   "source": [
    "## Easy button\n",
    "\n",
    "Throughout this book the first model in each chapter will be an existing implementation, where possible, that we can get up and running immediately. Then we'll implement the model ourselves to get a deeper understanding of what's going on.\n",
    "\n",
    "### scikit-learn\n",
    "\n",
    "[`scikit-learn`](https://scikit-learn.org/stable/index.html) is a widely used machine learning library. It comes fully loaded with all kinds of models and tools that let machine learning practitioners build models in just a few lines of code. And it turns out `scikit-learn` provides the simple model we want already as `sklearn.dummy.DummyClassifier`. This model is also referred to as a baseline model. Let's train it."
   ]
  },
  {
   "cell_type": "code",
   "execution_count": 1,
   "id": "902de930-c643-409e-bf94-0b310d3f7f8c",
   "metadata": {},
   "outputs": [
    {
     "data": {
      "text/plain": [
       "0.500803083841953"
      ]
     },
     "execution_count": 1,
     "metadata": {},
     "output_type": "execute_result"
    }
   ],
   "source": [
    "from sklearn.dummy import DummyClassifier\n",
    "from nlpbook import get_train_test_data\n",
    "\n",
    "train_df, test_df = get_train_test_data()\n",
    "X, y = train_df[[\"review\"]], train_df[\"label\"]\n",
    "cls = DummyClassifier().fit(X, y)\n",
    "cls.score(X, y)"
   ]
  },
  {
   "cell_type": "markdown",
   "id": "fe35a756-e6ad-43a2-ab22-5d9bac310bef",
   "metadata": {},
   "source": [
    "In four lines of code, we load the dataset, train the model, and evaluate it. Don't worry if it doesn't make sense, we'll go through it line by line."
   ]
  },
  {
   "cell_type": "markdown",
   "id": "e06ad701-53de-422f-9cc6-d90bda705d9a",
   "metadata": {},
   "source": [
    "#### Load the data\n",
    "\n",
    "The first two lines load and prepare the data for training."
   ]
  },
  {
   "cell_type": "code",
   "execution_count": 2,
   "id": "aef5a8a7-d89c-479f-9acf-b27b3592dfcc",
   "metadata": {},
   "outputs": [],
   "source": [
    "train_df, test_df = get_train_test_data()\n",
    "X, y = train_df[[\"review\"]], train_df[\"label\"]"
   ]
  },
  {
   "cell_type": "markdown",
   "id": "b76c930c-b5c2-46e0-8973-baa18a41c3af",
   "metadata": {},
   "source": [
    "This book's companion Python package, `nlpbook`, comes with a helper function `get_train_test_data` which cleans up the data and returns it. Then the inputs and outputs for training are separated into their own variables, `X` and `y`, respectively. What do these inputs and outputs look like? In @sec-classification-dataset we saw the `review` column contains the review, this is our input. And the `label` column is a binary value, `0` or `1`, indicating if the review is negative or positive. There is something interesting going on with `X` though, why do we use double square brackets when accessing the `review` column? The double square bracket notation tells `pandas` to return a `DataFrame` instead of a `Series`, which begs another question, why a `DataFrame` instead of a `Series`?\n",
    "\n",
    "A `DataFrame` is basically a matrix, while a `Series` is an array. In machine learning, inputs can have more than one feature and many algorithms and libraries expect inputs to be in the form of a matrix where the rows of the matrix are data points and the columns are features of each data point.[`DataFrame.shape` shows the dimensions of the matrix as `(rows, columns)`.]{.aside}"
   ]
  },
  {
   "cell_type": "code",
   "execution_count": 3,
   "id": "e7bf4d70-1a14-48b3-a206-de69e5d03863",
   "metadata": {},
   "outputs": [
    {
     "data": {
      "text/plain": [
       "(24904, 1)"
      ]
     },
     "execution_count": 3,
     "metadata": {},
     "output_type": "execute_result"
    }
   ],
   "source": [
    "X.shape"
   ]
  },
  {
   "cell_type": "markdown",
   "id": "046c92c9-99c2-41e0-bc0b-2a93f4980fe8",
   "metadata": {},
   "source": [
    "In our case, we have 24,904 data points and each data point has one feature. That feature is the review. In practice, you'll use a matrix as input, even if you only have one feature.\n",
    "\n",
    "Moving on to the output, why isn't `y` a matrix? Well it could be depending on your use case, but most of the time you will be predicting one value, so standard practice is to use an array. Each value in `y` corresponds to the output of each row in `X`. So, the first value in `y` is the output for the first row in `X`, the second value in `y` is the output for the second row in `X`, and so on."
   ]
  },
  {
   "cell_type": "markdown",
   "id": "74e40d8d-0bf0-4a8f-bb5e-145c79e68043",
   "metadata": {},
   "source": [
    "#### Train the model\n",
    "\n",
    "This line initializes the model and train it."
   ]
  },
  {
   "cell_type": "code",
   "execution_count": 4,
   "id": "116aaafa-c6af-436e-9f5b-0143deef8bdd",
   "metadata": {},
   "outputs": [],
   "source": [
    "# | output: false\n",
    "cls = DummyClassifier().fit(X, y)"
   ]
  },
  {
   "cell_type": "markdown",
   "id": "01f41df7-edd9-4a26-b71d-c19c9e37f65f",
   "metadata": {},
   "source": [
    "With `scikit-learn` you'll see a few methods over and over again, `fit` is one of those methods. `fit` just means train the model. We are \"fitting\" the model to the data. `scikit-learn` models returns `self` from `fit`, so we can initialize the model and train it in one line."
   ]
  },
  {
   "cell_type": "markdown",
   "id": "26751b1c-5b75-4390-aed8-41c4cb85ddfb",
   "metadata": {},
   "source": [
    "#### Evaluate the model\n",
    "\n",
    "Finally the model is evaluated with `score`."
   ]
  },
  {
   "cell_type": "code",
   "execution_count": 5,
   "id": "1848bb5b-4952-4a8d-92b2-9031e4eec501",
   "metadata": {},
   "outputs": [
    {
     "data": {
      "text/plain": [
       "0.500803083841953"
      ]
     },
     "execution_count": 5,
     "metadata": {},
     "output_type": "execute_result"
    }
   ],
   "source": [
    "cls.score(X, y)"
   ]
  },
  {
   "cell_type": "markdown",
   "id": "d46147f3-8cee-4ede-99aa-12d45ad641ee",
   "metadata": {},
   "source": [
    "What is this score though? It's a metric that evaluates the performance of the model."
   ]
  },
  {
   "cell_type": "markdown",
   "id": "7ef23295-37e4-41d8-bffb-5a87766b7e2e",
   "metadata": {},
   "source": [
    "## Metrics, metrics, metrics\n",
    "\n",
    "Metrics give a sense of how well your model is doing. They allow you to measure and compare models. There is no one size fits all metric, and you'll usually want to look at multiple metrics when evaluating models. I recommend starting with the end when picking metrics. Why are you building this model in the first place? What is it you want the model to do? Then define your metrics with that objective in mind.\n",
    "\n",
    "### Accuracy\n",
    "\n",
    "We are trying to predict the sentiment of movie reviews. We don't care about positive vs negative, we just care that we get it right. It's a simple question, \"How many predictions are correct?\" This is accuracy. It's measured as a ratio, the number of correct predictions over all predictions."
   ]
  },
  {
   "cell_type": "code",
   "execution_count": 1,
   "id": "4430b735-c32b-4446-a82f-9769f4a0cd2b",
   "metadata": {},
   "outputs": [
    {
     "data": {
      "text/plain": [
       "np.float64(0.6666666666666666)"
      ]
     },
     "execution_count": 1,
     "metadata": {},
     "output_type": "execute_result"
    }
   ],
   "source": [
    "import numpy as np\n",
    "\n",
    "def accuracy(y, y_pred):\n",
    "    # Convert to numpy arrays for convenience.\n",
    "    y, y_pred = np.array(y), np.array(y_pred)\n",
    "    # Create an array of boolean values indicating if\n",
    "    # `y` and `y_pred` are the same at each index.\n",
    "    is_equal = y == y_pred\n",
    "    # Sum the `True` values.\n",
    "    correct = np.sum(is_equal)\n",
    "    # Return the ratio of correct over total.\n",
    "    return correct / len(y)\n",
    "\n",
    "accuracy([0, 1, 1], [1, 1, 1])"
   ]
  },
  {
   "cell_type": "markdown",
   "id": "c6b853a0-d3ba-4d8e-9cd3-0e5b42e8bafe",
   "metadata": {},
   "source": [
    "In the simple example above there are two lists where the difference between them is at the first element. Two out of three are the same and that's exactly what accuracy tells us.\n",
    "\n",
    "In practice, we don't have to write our own accuracy function because `scikit-learn` offers one."
   ]
  },
  {
   "cell_type": "code",
   "execution_count": 7,
   "id": "f4e68915-fd34-402d-97e4-c6ee514464fb",
   "metadata": {},
   "outputs": [
    {
     "data": {
      "text/plain": [
       "np.True_"
      ]
     },
     "execution_count": 7,
     "metadata": {},
     "output_type": "execute_result"
    }
   ],
   "source": [
    "from sklearn.metrics import accuracy_score\n",
    "\n",
    "# Check our accuracy function returns the same value as `sklearn`s.\n",
    "accuracy([0, 1, 1], [1, 1, 1]) == accuracy_score([0, 1, 1], [1, 1, 1])"
   ]
  },
  {
   "cell_type": "markdown",
   "id": "70eb6987-b872-4afd-804c-5da15a93c8a4",
   "metadata": {},
   "source": [
    "Back to our classifier! When we ran `cls.score(X, y)`, the model returned the accuracy. We can check this by computing the accuracy ourselves."
   ]
  },
  {
   "cell_type": "code",
   "execution_count": 8,
   "id": "c28bb10a-1296-49b1-a70b-8e6c8ab31c43",
   "metadata": {},
   "outputs": [
    {
     "data": {
      "text/plain": [
       "(0.500803083841953, 0.500803083841953)"
      ]
     },
     "execution_count": 8,
     "metadata": {},
     "output_type": "execute_result"
    }
   ],
   "source": [
    "predictions = cls.predict(train_df)\n",
    "accuracy_score(y, predictions), cls.score(X, y)"
   ]
  },
  {
   "cell_type": "markdown",
   "id": "06a4a876-7034-48c2-84d8-8388da61374a",
   "metadata": {},
   "source": [
    "Our accuracy is `0.5` out of `1.0`, or 50% , which means we got half of the predictions correct.[The accuracy score is on a 0-1 scale where 1 means 100% accuracy]{.aside} This makes sense since our dataset is half positive and half negative labels, so if we predict `0` or `1` for everything we should get half of them correct.\n",
    "\n",
    "#### Imbalanced datasets and accuracy\n",
    "\n",
    "Metrics are not foolproof. What is \"good\" for one dataset may not be for another. This is why we start with the simplest possible model. Because it allows us to establish minimum benchmarking values to compare against. Let's run through an example to show how accuracy changes with the ratio of positive to negative labels in the dataset using this simple model.[I love [`seaborn`](https://seaborn.pydata.org/) for rapid data visualization. It can't do everything perfectly, but it does the common things beautifully.]{.aside}"
   ]
  },
  {
   "cell_type": "code",
   "execution_count": 9,
   "id": "df65063f-c199-4c18-8cdf-775299f49765",
   "metadata": {},
   "outputs": [
    {
     "data": {
      "text/plain": [
       "<seaborn.axisgrid.FacetGrid at 0x7fcf31334920>"
      ]
     },
     "execution_count": 9,
     "metadata": {},
     "output_type": "execute_result"
    },
    {
     "data": {
      "image/png": "[encoded data removed]",
      "text/plain": [
       "<Figure size 500x500 with 1 Axes>"
      ]
     },
     "metadata": {},
     "output_type": "display_data"
    }
   ],
   "source": [
    "# | echo: false\n",
    "import pandas as pd\n",
    "import seaborn as sns\n",
    "\n",
    "\n",
    "model = DummyClassifier()\n",
    "data = []\n",
    "N = 10\n",
    "for i in range(0, N + 1):\n",
    "    labels = [1] * i + [0] * (N - i)\n",
    "    model.fit(labels, labels)\n",
    "    data.append(\n",
    "        {\n",
    "            \"positive to negative ratio\": i / N,\n",
    "            \"accuracy\": model.score(labels, labels),\n",
    "        }\n",
    "    )\n",
    "\n",
    "sns.relplot(\n",
    "    pd.DataFrame(data),\n",
    "    x=\"positive to negative ratio\",\n",
    "    y=\"accuracy\",\n",
    "    kind=\"line\",\n",
    "    markers=True,\n",
    "    marker=\"o\",\n",
    ")"
   ]
  },
  {
   "cell_type": "markdown",
   "id": "ee531c2b-359e-4dd7-b178-09393ec2c89e",
   "metadata": {},
   "source": [
    "The accuracy of our model is 50% when we have a 50/50 ratio of positive to negative labels. As the ratio moves to either extreme however (all ones or all zeros), the accuracy goes up until it reaches 100% when all the labels in the dataset are the same.\n",
    "\n",
    "Intuitively a higher accuracy is better, but it might not be high because your model works well. It could be that your dataset is imbalanced and your model has figured that out and predicts everything to be the majority class. In that scenario, you end up with a fancy model you put all this effort into just to get the same result as the simple model we just made. How do you combat this? By doing what we've done here and start with a simple model. Then as you develop more complex models, they can be compared to this simple model to see if they make improvements!\n",
    "\n",
    "### Other metrics\n",
    "\n",
    "Accuracy is not the only thing we can measure, but for simplicities sake it will be the only thing we measure in this book. Other common metrics we could look at are F1-score and Matthews Correlation Coefficient (MCC), but there's plenty more."
   ]
  },
  {
   "cell_type": "markdown",
   "id": "b06b7971-eae2-40c8-a8d3-58fd5e31a377",
   "metadata": {},
   "source": [
    "## Train vs. test datasets\n",
    "\n",
    "We've trained a model and evaluated it's accuracy so now we can move on to making a better model. WRONG, WE HAVEN'T EVALUATED THE MODEL!!! We checked the accuracy on the _training data_ which isn't a true evaluation of the model. We want to know how well our model works _on data it hasn't seen yet_, which is why we have a test set. The test set is used exclusively to benchmark the performance of the model and is not used in the training process. This comes back to making models that generalize to unseen data. Models generally perform better on data they're trained on because that data is what the model is optimized to predict for. If we use that same data to test the model, then we'll likely be overconfident in our models predictions. When we deploy the model and it is used on new data it hasn't seen we'll be in for a rude awakening. So we separate our dataset into training and testing datasets. In practice care should go into how these datasets are curated[I highly recommend this [blog post](https://www.fast.ai/posts/2017-11-13-validation-sets.html) on the dangers of blindly splitting your data. It is about validation sets, but the same concepts apply to test sets.]{.aside}, but we won't worry about that here since I've already cleaned our datasets.\n",
    "\n",
    "So let's evaluate our model for real."
   ]
  },
  {
   "cell_type": "code",
   "execution_count": 10,
   "id": "890baad5-06a2-419c-8611-c73aab8836e4",
   "metadata": {},
   "outputs": [
    {
     "data": {
      "text/plain": [
       "0.5011190233977619"
      ]
     },
     "execution_count": 10,
     "metadata": {},
     "output_type": "execute_result"
    }
   ],
   "source": [
    "X_test, y_test = test_df[[\"review\"]], test_df[\"label\"]\n",
    "cls.score(X_test, y_test)"
   ]
  },
  {
   "cell_type": "markdown",
   "id": "52fcc9cf-9384-4888-973b-68e9eb17a351",
   "metadata": {},
   "source": [
    "The accuracy is still `0.5` which makes sense. The test dataset is curated the same way as the train dataset and has a roughly 50/50 split of positive to negative labels. While the accuracy didn't change between the train and test datasets, we have a more unbiased evaluation of our model and this is the accuracy we will aim to beat next."
   ]
  },
  {
   "cell_type": "markdown",
   "id": "3bad9d51-4b55-4616-bbb4-6843709c2a38",
   "metadata": {},
   "source": [
    "## Preprocessing\n",
    "\n",
    "When we prepared our training data, we ran this code:"
   ]
  },
  {
   "cell_type": "code",
   "execution_count": 11,
   "id": "c094d0cf-ccee-4c3f-9259-680a1128c355",
   "metadata": {},
   "outputs": [],
   "source": [
    "X, y = train_df[[\"review\"]], train_df[\"label\"]"
   ]
  },
  {
   "cell_type": "markdown",
   "id": "57c59f83-805a-4326-8055-0fb57258d527",
   "metadata": {},
   "source": [
    "All we did was pull out the relevant columns from the dataframe, which is as simple as it gets. Preprocessing can get very complicated and we'll explore how preprocessing impacts model performance in future chapters. One important aspect of preprocessing is the test dataset needs to be preprocessed _the same way_ as the train dataset, because the model expects the data it makes predictions about to have the same form as the data it was trained on."
   ]
  },
  {
   "cell_type": "markdown",
   "id": "0c06317d-a6ee-484a-9df6-d3e01fe91a18",
   "metadata": {},
   "source": [
    "## Rolling our own\n",
    "\n",
    "Now that we've trained a model, let's make it ourselves. It's as simple as you can get, majority rules.[Model implementations will include gratuitous comments explaining the code. This is a more streamlined approach that allows for covering the abstract concepts in the chapter text while giving details on implementation alongside the implementation itself.]{.aside}"
   ]
  },
  {
   "cell_type": "code",
   "execution_count": 12,
   "id": "46f38b6e-d8f1-4db3-8dd0-ae11de7d1cc1",
   "metadata": {},
   "outputs": [
    {
     "data": {
      "text/plain": [
       "0.5011190233977619"
      ]
     },
     "execution_count": 12,
     "metadata": {},
     "output_type": "execute_result"
    }
   ],
   "source": [
    "class BaselineClassifier:\n",
    "    def fit(self, X, y):\n",
    "        \"\"\"Train the model with inputs `X` on labels `y`.\"\"\"\n",
    "        # Get the unique labels and their counts.\n",
    "        labels, counts = np.unique(y, return_counts=True)\n",
    "        # Keep the most common label for prediction.\n",
    "        self.prediction = labels[np.argmax(counts)]\n",
    "        return self\n",
    "\n",
    "    def predict(self, X):\n",
    "        \"\"\"Predict the labels for inputs `X`.\"\"\"\n",
    "        # Return the most common label as the prediction for every\n",
    "        # input.\n",
    "        return np.full(len(X), self.prediction)\n",
    "\n",
    "\n",
    "bc = BaselineClassifier()\n",
    "bc.fit(X, y)\n",
    "accuracy_score(y_test, bc.predict(X_test))"
   ]
  },
  {
   "cell_type": "markdown",
   "id": "31b792db-3308-4a33-b807-2f06d70b34e8",
   "metadata": {},
   "source": [
    "Beautiful, we got the same score. But wait, there's more!"
   ]
  },
  {
   "cell_type": "markdown",
   "id": "3be3d7ec-3ff2-4f06-ad8a-eed56f22547a",
   "metadata": {},
   "source": [
    "## scikit-learnifying our model {#sec-scikit-learnifying-our-model}\n",
    "\n",
    "`scikit-learn` provides a framework to integrate your own machine learning models to leverage all the bells and whistles provided by their API. One such benefit is benchmarking. `scikit-learn` models come with a `score` method, and the default `score` method for classifiers is accuracy. By wrapping our model in `scikit-learn`s framework, we get accuracy scores (and a bunch of other stuff) for free.\n",
    "\n",
    "### scikit-learn best practices\n",
    "\n",
    "There's a [pretty lengthy document](https://scikit-learn.org/stable/developers/develop.html) on developing `scikit-learn` models, but most of the advice on that page can be boiled down to a few points.\n",
    "\n",
    "- `__init__` is for setting attributes, not computation.\n",
    "- Every parameter for `__init__` should have a corresponding attribute.\n",
    "- Computation during training that needs to persist across method calls should be assigned to attributes with an underscore suffix.\n",
    "- The `fit` method is for training and the `predict` method is for prediction.\n",
    "- `fit` should return `self`.\n",
    "- `BaseEstimator` should be to the right of `scikit-learn` mixins.\n",
    "- Must accept `N` data points at once.\n",
    "\n",
    "A note on that last point, accepting multiple data points at once comes with two benefits.\n",
    "\n",
    "1. Multiple data points can be predicted at once.\n",
    "2. Operating on multiple data points at once allows for leveraging highly optimized libraries, like `numpy`, for improved speed.\n",
    "\n",
    "With a few tweaks, our `BaselineClassifier` becomes a `scikit-learn` model."
   ]
  },
  {
   "cell_type": "code",
   "execution_count": 13,
   "id": "64d41ba4-cf47-4989-9585-adae96071b3c",
   "metadata": {},
   "outputs": [
    {
     "data": {
      "text/plain": [
       "0.5011190233977619"
      ]
     },
     "execution_count": 13,
     "metadata": {},
     "output_type": "execute_result"
    }
   ],
   "source": [
    "from sklearn.base import BaseEstimator, ClassifierMixin\n",
    "\n",
    "\n",
    "class BaselineClassifier(ClassifierMixin, BaseEstimator):\n",
    "    def fit(self, X, y):\n",
    "        \"\"\"Train the model with inputs `X` on labels `y`.\"\"\"\n",
    "        # Get the unique labels and their counts.\n",
    "        labels, counts = np.unique(y, return_counts=True)\n",
    "        # Keep the most common label for prediction.\n",
    "        # Note we changed the `prediction` attribute to include a\n",
    "        # trailing suffix because it results from a computation\n",
    "        # that persists across method calls.\n",
    "        self.prediction_ = labels[np.argmax(counts)]\n",
    "        return self\n",
    "\n",
    "    def predict(self, X):\n",
    "        \"\"\"Predict the labels for inputs `X`.\"\"\"\n",
    "        # Return the most common label as the prediction for every\n",
    "        # input.\n",
    "        return np.full(len(X), self.prediction_)\n",
    "\n",
    "\n",
    "cls = BaselineClassifier().fit(X, y)\n",
    "cls.score(X_test, y_test)"
   ]
  },
  {
   "cell_type": "markdown",
   "id": "a42ef394-f338-41ba-87b5-31269366a023",
   "metadata": {},
   "source": [
    "And with that we get accuracy for free. Thanks `scikit-learn`."
   ]
  },
  {
   "cell_type": "markdown",
   "id": "46af8ec2-6204-438b-80ac-78fcceb73c24",
   "metadata": {},
   "source": [
    "## Multiclass classification\n",
    "\n",
    "Up to this point we've dealt with binary classification, the label is either `0` or `1`, but classification can extend to 3 or more labels. Our dataset includes ratings which we can use as multiclass labels. Fortunately, we've written `BaselineClassifier` to work on an arbitrary number of labels, so we should get multiclass classification for free. Let's see what happens when we use the `rating` column instead of the `label` column."
   ]
  },
  {
   "cell_type": "code",
   "execution_count": 14,
   "id": "8ecf1e3d-e1bd-4b5e-8241-60422a94cfbe",
   "metadata": {},
   "outputs": [
    {
     "data": {
      "text/plain": [
       "0.1997151576805697"
      ]
     },
     "execution_count": 14,
     "metadata": {},
     "output_type": "execute_result"
    }
   ],
   "source": [
    "cls = BaselineClassifier().fit(X, train_df[\"rating\"])\n",
    "cls.score(X_test, test_df[\"rating\"])"
   ]
  },
  {
   "cell_type": "markdown",
   "id": "f81da202-9d81-4d9f-b66d-2d548be6835a",
   "metadata": {},
   "source": [
    "At first glance this may seem low, but if you take a second to think about it, it actually makes sense. As the number of unique labels goes up, the frequency of the majority label is more likely to go down. Let's look at the breakdown of ratings frequency."
   ]
  },
  {
   "cell_type": "code",
   "execution_count": 15,
   "id": "adb197ee-ef51-4750-a6db-8a153af5fa13",
   "metadata": {},
   "outputs": [
    {
     "data": {
      "text/plain": [
       "rating\n",
       "1     0.203501\n",
       "2     0.091230\n",
       "3     0.096852\n",
       "4     0.107613\n",
       "7     0.100104\n",
       "8     0.120704\n",
       "9     0.090548\n",
       "10    0.189447\n",
       "dtype: float64"
      ]
     },
     "execution_count": 15,
     "metadata": {},
     "output_type": "execute_result"
    }
   ],
   "source": [
    "train_df.groupby(\"rating\").size() / len(train_df)"
   ]
  },
  {
   "cell_type": "markdown",
   "id": "e3aeea73-dc7c-417c-81d9-3a062ba43aa3",
   "metadata": {},
   "source": [
    "Here we see the most frequent label shows up 20% of the time, which is inline with our accuracy on the test set. Good thing we have a baseline model to orient us as we think about accuracy on binary and multiclass classification problems!"
   ]
  }
 ],
 "metadata": {
  "kernelspec": {
   "display_name": "Python 3 (ipykernel)",
   "language": "python",
   "name": "python3"
  },
  "language_info": {
   "codemirror_mode": {
    "name": "ipython",
    "version": 3
   },
   "file_extension": ".py",
   "mimetype": "text/x-python",
   "name": "python",
   "nbconvert_exporter": "python",
   "pygments_lexer": "ipython3",
   "version": "3.12.4"
  }
 },
 "nbformat": 4,
 "nbformat_minor": 5
}
