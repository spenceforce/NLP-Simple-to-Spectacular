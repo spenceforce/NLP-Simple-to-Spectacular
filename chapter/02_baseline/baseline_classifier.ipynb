{
 "cells": [
  {
   "cell_type": "raw",
   "id": "4f56eba1-76b8-4f2d-a1df-c45be6cca5b6",
   "metadata": {},
   "source": [
    "---\n",
    "title: \"Baseline: gotta start somewhere\"\n",
    "---"
   ]
  },
  {
   "cell_type": "code",
   "execution_count": 15,
   "id": "64d41ba4-cf47-4989-9585-adae96071b3c",
   "metadata": {},
   "outputs": [
    {
     "data": {
      "text/plain": [
       "0.5011190233977619"
      ]
     },
     "execution_count": 15,
     "metadata": {},
     "output_type": "execute_result"
    }
   ],
   "source": [
    "import numpy as np\n",
    "from sklearn.base import BaseEstimator, ClassifierMixin\n",
    "from sklearn.utils.validation import check_array\n",
    "\n",
    "from nlpbook import get_train_test_data\n",
    "\n",
    "class BaselineClassifier(ClassifierMixin, BaseEstimator):\n",
    "    def fit(self, X, y):\n",
    "        y = check_array(y, ensure_2d=False)\n",
    "        self.classes_, counts = np.unique(y, return_counts=True)\n",
    "        self.proba_ = counts / len(y)\n",
    "        return self\n",
    "\n",
    "    def predict_proba(self, X):\n",
    "        return np.repeat(self.proba_.reshape(1, self.proba_.shape[0]), len(X), axis=0)\n",
    "\n",
    "    def predict(self, X):\n",
    "        return np.full(len(X), self.classes_[np.argmax(self.proba_)])\n",
    "\n",
    "from nlpbook import get_train_test_data\n",
    "\n",
    "train_df, test_df = get_train_test_data()\n",
    "e = BaselineClassifier().fit(train_df[['review']], train_df['label'])\n",
    "e.score(test_df[['review']], test_df['label'])"
   ]
  },
  {
   "cell_type": "code",
   "execution_count": null,
   "id": "71c00d3c-03f7-4754-bb9a-e1051ad259a9",
   "metadata": {},
   "outputs": [],
   "source": []
  }
 ],
 "metadata": {
  "kernelspec": {
   "display_name": "Python 3 (ipykernel)",
   "language": "python",
   "name": "python3"
  },
  "language_info": {
   "codemirror_mode": {
    "name": "ipython",
    "version": 3
   },
   "file_extension": ".py",
   "mimetype": "text/x-python",
   "name": "python",
   "nbconvert_exporter": "python",
   "pygments_lexer": "ipython3",
   "version": "3.12.4"
  }
 },
 "nbformat": 4,
 "nbformat_minor": 5
}
