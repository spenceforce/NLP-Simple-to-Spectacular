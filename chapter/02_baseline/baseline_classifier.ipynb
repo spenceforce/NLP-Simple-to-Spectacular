{
 "cells": [
  {
   "cell_type": "raw",
   "id": "4f56eba1-76b8-4f2d-a1df-c45be6cca5b6",
   "metadata": {},
   "source": [
    "---\n",
    "title: \"Baseline: gotta start somewhere\"\n",
    "---"
   ]
  },
  {
   "cell_type": "markdown",
   "id": "475a6f34-2352-491e-a46a-228fa3bfa3d2",
   "metadata": {},
   "source": [
    "We'll start simple. So simple you may wonder if it's AI at all. When building models from scratch, I like to start with the easiest thing possible and iterate. Before we write any code, let's define what machine learning and machine learning models are.\n",
    "\n",
    "## What is machine learning?\n",
    "\n",
    "Machine learning is a field of artificial intelligence focused on algorithms that 1) learn from data and 2) generalize to unseen data. There are three main components to machine learning, data, models, and algorithms. Machine learning models are the things that do the learning and the algorithms direct the models learning. The lines blur at times between models and algorithms and some algorithms only work for some models. At their core, models are functions. They take an input, process them in some way, and return an output. Models have learnable parameters and machine learning algorithms focus on adjusting these parameters to make the model produce better outputs.\n",
    "\n",
    "Conceptually, models are simple. Take the equation for a line, `f(x) = m*x + b`. This is a model where `m` and `b` are constant values indicating the slope and y-intercept of the line. `x` is an input value and the output is `f(x) = y`. If we know `m` and `b` we can compute `y` for any `x`. If we don't know `m` and `b`, this is where machine learning comes in. Assuming we have a bunch of `(x, y)` points, a machine learning algorithm can guess what good values for `m` and `b` are based on those points. Then we freeze those values and the model can predict `y` for any `x`.\n",
    "\n",
    "Models can be giant equations and it's easy to get lost in the details, but remember _it's still just an equation!_ The learning algorithm will find the right constant terms for us. It's our job to set up the problem for the algorithm and model and then get out of the way so the machine can learn.\n",
    "\n",
    "::: {.callout-note}\n",
    "In machine learning, the constant terms of the equation are called parameters or weights. During training they are not constant as the learning algorithm is trying to find their optimal values, but once training is done these values become constant and you're left with a normal equation.\n",
    ":::\n",
    "\n",
    "### The learning process\n",
    "\n",
    "At it's core the learning process iterates through prediction, comparison, and tweaking the model parameters. The training data is used in this process. We initialize the model, then use it as is to predict the outputs on the training data. These outputs are compared to the actual outputs, or targets, of the training data. If we are happy with the comparison training is done. Otherwise the model parameters are adjusted and the process begins again. This whole process is outlined below.\n",
    "\n",
    "```{mermaid}\n",
    "flowchart TB\n",
    "  B[Predict output for train data] --> C[Compare predictions to targets]\n",
    "  C --> D{Predictions good enough?}\n",
    "  D -- No --> E[Update model weights]\n",
    "  D -- Yes --> F[Freeze model for production]\n",
    "  E --> B\n",
    "```"
   ]
  },
  {
   "cell_type": "markdown",
   "id": "1ca045a4-9a3f-4559-a6d1-c3be1b250a5f",
   "metadata": {},
   "source": [
    "## The simplest of models\n",
    "\n",
    "Turning our attention back to our model, the simplest thing we can do is predict the same thing for every input. This may seem silly, but it gives us a measuring stick to compare to other models. If we use the latest and greatest techniques in deep learning, it should outperform this model. The only way we'll know it outperforms it is by building the model and testing it. If it doesn't outperform this model, that raises cause for concern and the results should be investigated. So we start simple and incrementally improve until we are satisfied.\n",
    "\n",
    "### Train vs. test datasets\n",
    "\n",
    "Now that we have a model in mind, we need to train it and test it. While training a model is the fun part, that's not really what we care about. We want to know how well our model works which is why we have a test set. The test set is used exclusively to benchmark the performance of the model and is not used in the training process. This comes back to making models that generalize to unseen data. Models generally perform better on data they're trained on because that data is what the model is optimized to predict for. If we use that same data to test the model, then we'll likely be overconfident in our models predictions. When we deploy the model and it is used on new data it hasn't seen we'll be in for a rude awakening. So we separate our dataset into training and testing datasets. In practice care should go into how these datasets are curated[I highly recommend this [blog post](https://www.fast.ai/posts/2017-11-13-validation-sets.html) on the dangers of blindly splitting your data. It is about validation sets, but the same concepts apply to test sets. It's ok if some of the content is over your head as we'll revisit this in a later chapter.]{.aside}, but we won't worry about that here since I've already cleaned our datasets.\n",
    "\n",
    "Let's train our model to always predict the most common label in the train set and predict the labels of the test set."
   ]
  },
  {
   "cell_type": "code",
   "execution_count": 1,
   "id": "2a0b1c18-8045-4f2e-9c87-5343ad51237c",
   "metadata": {},
   "outputs": [
    {
     "data": {
      "text/plain": [
       "array([1, 1, 1, ..., 1, 1, 1])"
      ]
     },
     "execution_count": 1,
     "metadata": {},
     "output_type": "execute_result"
    }
   ],
   "source": [
    "import numpy as np\n",
    "from nlpbook import get_train_test_data\n",
    "\n",
    "train_df, test_df = get_train_test_data()\n",
    "y_train = train_df[\"label\"]\n",
    "y_test = test_df[\"label\"]\n",
    "predicted_output = y_train.value_counts().idxmax()\n",
    "# `predicted_output` is the most common label in the train set.\n",
    "pred = np.full(len(y_test), predicted_output)\n",
    "pred"
   ]
  },
  {
   "cell_type": "markdown",
   "id": "d77dc62e-e344-4d9a-ba59-a0c9a5457fba",
   "metadata": {},
   "source": [
    "Our predictions on the test set are all `1` because that's the most common label in the train set. We will refer to this model as `BaselineClassifier`. Let's wrap this up in a class for ease of training and prediction."
   ]
  },
  {
   "cell_type": "code",
   "execution_count": 2,
   "id": "46f38b6e-d8f1-4db3-8dd0-ae11de7d1cc1",
   "metadata": {},
   "outputs": [
    {
     "data": {
      "text/plain": [
       "np.True_"
      ]
     },
     "execution_count": 2,
     "metadata": {},
     "output_type": "execute_result"
    }
   ],
   "source": [
    "class BaselineClassifier:\n",
    "    def fit(self, X, y):\n",
    "        \"\"\"Train the model with inputs `X` on labels `y`.\"\"\"\n",
    "        # Here we use `numpy` instead of `pandas` since the\n",
    "        # input can be any ordered container type.\n",
    "        labels, counts = np.unique(y, return_counts=True)\n",
    "        self.prediction = labels[np.argmax(counts)]\n",
    "        return self\n",
    "\n",
    "    def predict(self, X):\n",
    "        \"\"\"Predict the labels for inputs `X`.\"\"\"\n",
    "        return np.full(len(X), self.prediction)\n",
    "\n",
    "\n",
    "bf = BaselineClassifier()\n",
    "bf.fit(train_df, y_train)\n",
    "(bf.predict(test_df) == pred).all()"
   ]
  },
  {
   "cell_type": "markdown",
   "id": "05690e13-451a-4c32-82bf-ee5674d4d960",
   "metadata": {},
   "source": [
    "The `fit` method is where the model is trained. This is common lingo in machine learning. We are \"fitting\" a model to data. Then we predict labels for unseen data with the `predict` method. When crafting models, best practices are to allow multiple inputs at once. This has two benefits, 1) we only need to make one function call, and 2) we can take advantage of high performance libraries (like `numpy`) to more quickly train and predict. Our `fit` and `predict` methods accept `N` data points and leverage `numpy` for speed.\n",
    "\n",
    "Now, how do we measure this model's performance?\n",
    "\n",
    "## Metrics, metrics, metrics\n",
    "\n",
    "Metrics give a sense of how well your model is doing. They allow you to measure and compare models against the same test set. There is no one size fits all metric, and you'll usually want to look at multiple metrics when evaluating models. I recommend starting with the end when picking metrics. Why are you building this model in the first place? What is it you want the model to do? Then define your metrics with that objective in mind.\n",
    "\n",
    "### Accuracy\n",
    "\n",
    "We are trying to predict the sentiment of movie reviews. We don't care about positive vs negative, we just care that we get it right. It's a simple question, \"How many predictions are correct?\" This is accuracy. It's measured as a ratio, the correct predictions over all predictions."
   ]
  },
  {
   "cell_type": "code",
   "execution_count": 3,
   "id": "4430b735-c32b-4446-a82f-9769f4a0cd2b",
   "metadata": {},
   "outputs": [],
   "source": [
    "def accuracy(y, y_pred):\n",
    "    y, y_pred = np.array(y), np.array(y_pred)\n",
    "    return np.sum(y == y_pred) / len(y)"
   ]
  },
  {
   "cell_type": "markdown",
   "id": "7fd37743-0279-48a8-8a50-6c3bc5b4e774",
   "metadata": {},
   "source": [
    "Metrics don't have to be complicated, and it really just takes one line of Python to calculate. Let's check the accuracy of our model."
   ]
  },
  {
   "cell_type": "code",
   "execution_count": 4,
   "id": "2b9eb894-b699-48ff-9b53-6959ddd4232c",
   "metadata": {},
   "outputs": [
    {
     "data": {
      "text/plain": [
       "np.float64(0.5011190233977619)"
      ]
     },
     "execution_count": 4,
     "metadata": {},
     "output_type": "execute_result"
    }
   ],
   "source": [
    "accuracy(y_test, pred)"
   ]
  },
  {
   "cell_type": "markdown",
   "id": "7bad37ff-1d9f-4284-acf8-21a8cd994eef",
   "metadata": {},
   "source": [
    "Our accuracy is `0.5` out of `1.0`, which means we got half of the predictions correct. This makes sense since our dataset is half positive and half negative labels, so if we predict `1` for everything we should get half of them correct.\n",
    "\n",
    "#### Imbalance datasets and accuracy\n",
    "\n",
    "Metrics are not foolproof. What is \"good\" for one dataset may not be for another. This is why we start with the simplest possible model(s). Because it allows us to establish minimum benchmarking values to compare against. Let's run through an example to show how accuracy changes with the ratio of positive to negative labels in the dataset using our simple models."
   ]
  },
  {
   "cell_type": "code",
   "execution_count": 5,
   "id": "df65063f-c199-4c18-8cdf-775299f49765",
   "metadata": {},
   "outputs": [
    {
     "data": {
      "image/png": "[encoded data removed]",
      "text/plain": [
       "<Figure size 500x500 with 1 Axes>"
      ]
     },
     "metadata": {},
     "output_type": "display_data"
    }
   ],
   "source": [
    "# | echo: false\n",
    "import pandas as pd\n",
    "import seaborn as sns\n",
    "\n",
    "\n",
    "def plot_metric(metric_fn):\n",
    "    metric_label = metric_fn.__name__\n",
    "    model = BaselineClassifier()\n",
    "    data = []\n",
    "    for i in range(0, 101, 10):\n",
    "        labels = [1] * i + [0] * (100 - i)\n",
    "        model.fit(labels, labels)\n",
    "        y_test = labels\n",
    "        data.append(\n",
    "            {\n",
    "                \"positive_frequency\": i / 100,\n",
    "                metric_label: metric_fn(y_test, model.predict(y_test)),\n",
    "            }\n",
    "        )\n",
    "\n",
    "    sns.relplot(\n",
    "        pd.DataFrame(data),\n",
    "        x=\"positive_frequency\",\n",
    "        y=metric_label,\n",
    "        kind=\"line\",\n",
    "        markers=True,\n",
    "        marker=\"o\",\n",
    "    )\n",
    "\n",
    "\n",
    "plot_metric(accuracy)"
   ]
  },
  {
   "cell_type": "markdown",
   "id": "3be3d7ec-3ff2-4f06-ad8a-eed56f22547a",
   "metadata": {},
   "source": [
    "The accuracy of our model is `0.5` when we have a 50/50 ratio of positive to negative labels. As the ratio moves to either extreme however (all ones or all zeros), the accuracy goes up until it reaches `1.0` when all the labels in the dataset are the same.\n",
    "\n",
    "Intuitively a higher accuracy is better, but it might not be high because your model works well. It could be that your dataset is imbalanced and your model has figured that out and predicts everything to be the majority class. In that scenario, you end up with a fancy model you put all this effort into just to get the same result as the simple model we just made. How do you combat this? By doing what we've done here and start with a simple model. Then as you develop more complex models, they can be compared to this simple model to see if they make improvements.\n",
    "\n",
    "### Other metrics\n",
    "\n",
    "Accuracy is not the only thing we can measure, but for simplicities sake it will be the only thing we measure in this book. Other metrics we could look at are F1-score and Matthews Correlation Coefficient (MCC).\n",
    "\n",
    "## scikit-learn\n",
    "\n",
    "`scikit-learn` is a widely used machine learning library. It also provides a framework to integrate your own machine learning models to leverage all the bells and whistles of `scikit-learn`. One such benefit is benchmarking. `scikit-learn` models come with a `score` method, and the default `score` method for classifiers is accuracy. By wrapping our model in `scikit-learn`s framework, we get accuracy scores for free.\n",
    "\n",
    "### scikit-learn best practices\n",
    "\n",
    "There's a [pretty lengthy document](https://scikit-learn.org/stable/developers/develop.html) on developing `scikit-learn` models, but most of the advice on that page can be boiled down to a few points.\n",
    "\n",
    "- `__init__` is for setting attributes, not computation.\n",
    "- Every parameter for `__init__` should have a corresponding attribute.\n",
    "- Computation during training that needs to persist across method calls should be assigned to attributes with an underscore suffix.\n",
    "- The `fit` method is for training and the `predict` method is for prediction.\n",
    "- `fit` should return `self`.\n",
    "- Must accept `N` data points at once.\n",
    "- `BaseEstimator` should be to the right of `scikit-learn` mixins.\n",
    "\n",
    "With a few tweaks, our `BaselineClassifier` becomes a `scikit-learn` model."
   ]
  },
  {
   "cell_type": "code",
   "execution_count": 6,
   "id": "64d41ba4-cf47-4989-9585-adae96071b3c",
   "metadata": {},
   "outputs": [
    {
     "data": {
      "text/plain": [
       "0.5011190233977619"
      ]
     },
     "execution_count": 6,
     "metadata": {},
     "output_type": "execute_result"
    }
   ],
   "source": [
    "from sklearn.base import BaseEstimator, ClassifierMixin\n",
    "\n",
    "\n",
    "class BaselineClassifier(ClassifierMixin, BaseEstimator):\n",
    "    def fit(self, X, y):\n",
    "        \"\"\"Train the model with inputs `X` on labels `y`.\"\"\"\n",
    "        labels, counts = np.unique(y, return_counts=True)\n",
    "        self.prediction_ = labels[np.argmax(counts)]\n",
    "        return self\n",
    "\n",
    "    def predict(self, X):\n",
    "        \"\"\"Predict the labels for inputs `X`.\"\"\"\n",
    "        return np.full(len(X), self.prediction_)\n",
    "\n",
    "\n",
    "cls = BaselineClassifier().fit(train_df, y_train)\n",
    "cls.score(test_df, y_test)"
   ]
  },
  {
   "cell_type": "markdown",
   "id": "a42ef394-f338-41ba-87b5-31269366a023",
   "metadata": {},
   "source": [
    "And with that we get accuracy for free. Thanks `scikit-learn`.\n",
    "\n",
    "Turns out `scikit-learn` provides this model already as `sklearn.dummy.DummyClassifier`."
   ]
  },
  {
   "cell_type": "code",
   "execution_count": 7,
   "id": "902de930-c643-409e-bf94-0b310d3f7f8c",
   "metadata": {},
   "outputs": [
    {
     "data": {
      "text/plain": [
       "0.5011190233977619"
      ]
     },
     "execution_count": 7,
     "metadata": {},
     "output_type": "execute_result"
    }
   ],
   "source": [
    "from sklearn.dummy import DummyClassifier\n",
    "\n",
    "cls = DummyClassifier().fit(train_df, y_train)\n",
    "cls.score(test_df, y_test)"
   ]
  },
  {
   "cell_type": "markdown",
   "id": "46af8ec2-6204-438b-80ac-78fcceb73c24",
   "metadata": {},
   "source": [
    "## Bonus: multiclass classification\n",
    "\n",
    "Up to this point we've dealt with binary classification, the label is either `0` or `1`, but classification can extend to 3 or more labels. Our dataset includes ratings which we can use as multiclass labels. Fortunately, we've written `BaselineClassifier` to work on an arbitrary number of labels, so we should get multiclass classification for free. Let's see what happens when we use the `rating` column instead of the `label` column."
   ]
  },
  {
   "cell_type": "code",
   "execution_count": 8,
   "id": "8ecf1e3d-e1bd-4b5e-8241-60422a94cfbe",
   "metadata": {},
   "outputs": [
    {
     "data": {
      "text/plain": [
       "0.1997151576805697"
      ]
     },
     "execution_count": 8,
     "metadata": {},
     "output_type": "execute_result"
    }
   ],
   "source": [
    "cls = BaselineClassifier().fit(train_df, train_df[\"rating\"])\n",
    "cls.score(test_df, test_df[\"rating\"])"
   ]
  },
  {
   "cell_type": "markdown",
   "id": "f81da202-9d81-4d9f-b66d-2d548be6835a",
   "metadata": {},
   "source": [
    "At first glance this may seem low, but if you take a second to think about it, it actually makes sense. As the number of unique labels goes up, the frequency of the majority label is more likely to go down. Let's look at the breakdown of ratings frequency."
   ]
  },
  {
   "cell_type": "code",
   "execution_count": 9,
   "id": "adb197ee-ef51-4750-a6db-8a153af5fa13",
   "metadata": {},
   "outputs": [
    {
     "data": {
      "text/plain": [
       "rating\n",
       "1     0.203501\n",
       "2     0.091230\n",
       "3     0.096852\n",
       "4     0.107613\n",
       "7     0.100104\n",
       "8     0.120704\n",
       "9     0.090548\n",
       "10    0.189447\n",
       "dtype: float64"
      ]
     },
     "execution_count": 9,
     "metadata": {},
     "output_type": "execute_result"
    }
   ],
   "source": [
    "train_df.groupby(\"rating\").size() / len(train_df)"
   ]
  },
  {
   "cell_type": "markdown",
   "id": "e3aeea73-dc7c-417c-81d9-3a062ba43aa3",
   "metadata": {},
   "source": [
    "Here we see the most frequent label shows up 20% of the time, which is inline with our accuracy on the test set. Good thing we have a baseline model to orient us as we think about accuracy on binary and multiclass classification problems!"
   ]
  }
 ],
 "metadata": {
  "kernelspec": {
   "display_name": "Python 3 (ipykernel)",
   "language": "python",
   "name": "python3"
  },
  "language_info": {
   "codemirror_mode": {
    "name": "ipython",
    "version": 3
   },
   "file_extension": ".py",
   "mimetype": "text/x-python",
   "name": "python",
   "nbconvert_exporter": "python",
   "pygments_lexer": "ipython3",
   "version": "3.12.4"
  }
 },
 "nbformat": 4,
 "nbformat_minor": 5
}
