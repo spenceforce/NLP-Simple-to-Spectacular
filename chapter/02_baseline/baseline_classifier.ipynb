{
 "cells": [
  {
   "cell_type": "raw",
   "id": "4f56eba1-76b8-4f2d-a1df-c45be6cca5b6",
   "metadata": {},
   "source": [
    "---\n",
    "title: \"Baseline: gotta start somewhere\"\n",
    "---"
   ]
  },
  {
   "cell_type": "markdown",
   "id": "475a6f34-2352-491e-a46a-228fa3bfa3d2",
   "metadata": {},
   "source": [
    "We'll start simple. So simple you may wonder if it's AI at all. When building models from scratch, I like to start with the easiest thing possible and iterate. Before we write any code, let's define what machine learning and machine learning models are.\n",
    "\n",
    "## What is machine learning?\n",
    "\n",
    "Machine learning is a field of artificial intelligence focused on algorithms that 1) learn from data and 2) generalize to unseen data. There are three main components to machine learning, data, models, and algorithms. Machine learning models are the things that do the learning and the algorithms direct the models learning. The lines blur at times between models and algorithms and some algorithms only work for some models. At their core, models are functions. They take an input, process them in some way, and return an output. Models have learnable parameters and machine learning algorithms focus on adjusting these parameters to make the model produce better outputs.\n",
    "\n",
    "Conceptually, models are simple. Take the equation for a line, `f(x) = m*x + b`. This is a model where `m` and `b` are constant values indicating the slope and y-intercept of the line. `x` is an input value and the output is `f(x) = y`. If we know `m` and `b` we can compute `y` for any `x`. If we don't know `m` and `b`, this is where machine learning comes in. Assuming we have a bunch of `(x, y)` points, a machine learning algorithm can guess what good values for `m` and `b` are based on those points. Then we freeze those values and the model can predict `y` for any `x`.\n",
    "\n",
    "Models can be giant equations and it's easy to get lost in the details, but remember _it's still just an equation!_ The learning algorithm will find the right constant terms for us. It's our job to set up the problem for the algorithm and model and then get out of the way so the machine can learn.\n",
    "\n",
    "## The learning process\n",
    "\n",
    "1. Prepare data\n",
    "2. Make predictions\n",
    "3. Compare predictions to targets\n",
    "4. Update model based on comparison\n",
    "5. Go back to step 2 and repeat until satisfied.\n",
    "\n",
    "\\# TODO: Make flowchart, maybe try https://github.com/cdfmlr/pyflowchart"
   ]
  },
  {
   "cell_type": "code",
   "execution_count": 1,
   "id": "64d41ba4-cf47-4989-9585-adae96071b3c",
   "metadata": {},
   "outputs": [
    {
     "data": {
      "text/plain": [
       "0.5011190233977619"
      ]
     },
     "execution_count": 1,
     "metadata": {},
     "output_type": "execute_result"
    }
   ],
   "source": [
    "import numpy as np\n",
    "from sklearn.base import BaseEstimator, ClassifierMixin\n",
    "from sklearn.utils.validation import check_array\n",
    "\n",
    "from nlpbook import get_train_test_data\n",
    "\n",
    "class BaselineClassifier(ClassifierMixin, BaseEstimator):\n",
    "    def fit(self, X, y):\n",
    "        assert len(X) == len(y)\n",
    "        y = check_array(y, ensure_2d=False)\n",
    "        self.classes_, counts = np.unique(y, return_counts=True)\n",
    "        self.proba_ = counts / len(y)\n",
    "        return self\n",
    "\n",
    "    def predict(self, X):\n",
    "        return np.full(len(X), self.classes_[np.argmax(self.proba_)])\n",
    "\n",
    "from nlpbook import get_train_test_data\n",
    "\n",
    "train_df, test_df = get_train_test_data()\n",
    "e = BaselineClassifier().fit(train_df[['review']], train_df['label'])\n",
    "e.score(test_df[['review']], test_df['label'])"
   ]
  },
  {
   "cell_type": "code",
   "execution_count": null,
   "id": "71c00d3c-03f7-4754-bb9a-e1051ad259a9",
   "metadata": {},
   "outputs": [],
   "source": []
  }
 ],
 "metadata": {
  "kernelspec": {
   "display_name": "Python 3 (ipykernel)",
   "language": "python",
   "name": "python3"
  },
  "language_info": {
   "codemirror_mode": {
    "name": "ipython",
    "version": 3
   },
   "file_extension": ".py",
   "mimetype": "text/x-python",
   "name": "python",
   "nbconvert_exporter": "python",
   "pygments_lexer": "ipython3",
   "version": "3.12.4"
  }
 },
 "nbformat": 4,
 "nbformat_minor": 5
}
