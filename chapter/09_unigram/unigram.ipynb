{
 "cells": [
  {
   "cell_type": "raw",
   "id": "6d25ab79-eee5-4e6a-b18c-fbe55667a5ee",
   "metadata": {},
   "source": [
    "---\n",
    "title: \"Generating gibberish with unigrams\"\n",
    "---"
   ]
  },
  {
   "cell_type": "markdown",
   "id": "24613200-d59f-4a50-80fe-b03838ccaf8a",
   "metadata": {},
   "source": [
    "With the introduction of ChatGPT to the world, generative AI is all the rage. This will be our first taste of generative AI. Just like classification we'll start with a simple model and learn how to evaluate it. Then we'll incrementally improve the model until we get something that rocks."
   ]
  },
  {
   "cell_type": "markdown",
   "id": "db08dda9-031b-4db7-84e6-790ca23c97ed",
   "metadata": {},
   "source": [
    "## Unigram model\n",
    "\n",
    "One of the simplest models we can make is a unigram model. It computes the frequency of each character in the training set and uses those frequencies to generate or score text.\n",
    "\n",
    "Let's load the unsupervised training data and find the frequencies of each token. We'll use the tokenizer we created [last chapter](../08_tokens/tokens.ipynb).[You can also find the package implementation on [GitHub](https://github.com/spenceforce/NLP-Simple-to-Spectacular/blob/main/nlpbook/preprocessing/tokenizer.py).]{.aside}"
   ]
  },
  {
   "cell_type": "code",
   "execution_count": 1,
   "id": "73684cce-45e4-476f-8ac7-617fc0d531b5",
   "metadata": {},
   "outputs": [
    {
     "data": {
      "text/plain": [
       "array([6.28556040e-04, 2.45411515e-06, 2.19525643e-05, 2.06403523e-02])"
      ]
     },
     "execution_count": 1,
     "metadata": {},
     "output_type": "execute_result"
    }
   ],
   "source": [
    "import numpy as np\n",
    "\n",
    "from nlpbook import get_unsup_data\n",
    "from nlpbook.preprocessing.tokenizer import CharTokenizer\n",
    "\n",
    "# We want to split the dataset into train and test sets.\n",
    "# We'll save the test set for later.\n",
    "train_df, test_df = get_unsup_data(split=True)\n",
    "\n",
    "# Train the tokenizer with the reviews in the train set.\n",
    "tokenizer = CharTokenizer()\n",
    "tokenizer.train(train_df[\"review\"])\n",
    "\n",
    "# Now we'll encode the train set and get the frequencies of each token.\n",
    "encoding_counts = np.zeros(len(tokenizer.tokens))\n",
    "for encoding in tokenizer.encode_batch(train_df[\"review\"]):\n",
    "    # Get the encoding values and their counts.\n",
    "    unique, counts = np.unique(encoding, return_counts=True)\n",
    "    # Add each count to it's respective index.\n",
    "    encoding_counts[unique] += counts\n",
    "# Convert the counts to frequencies.\n",
    "encoding_frequencies = encoding_counts / encoding_counts.sum()\n",
    "encoding_frequencies[:4]  # Show just the first 4 frequencies."
   ]
  },
  {
   "cell_type": "markdown",
   "id": "fe7ec647-5a9d-4b7f-add8-63744cbc7441",
   "metadata": {},
   "source": [
    "Now that we have frequencies, let's see if we can generate some text."
   ]
  },
  {
   "cell_type": "markdown",
   "id": "c866ecb3-0835-46e4-8fe0-99825a796160",
   "metadata": {},
   "source": [
    "## Sampling tokens\n",
    "\n",
    "We'll generate text iteratively, adding one token at a time until \"\\<eos\\>\" is the final token. The frequencies are how we will pick which token at each step.\n",
    "\n",
    "There are a few ways to generate text from frequencies. The most straightforward way is to always pick the highest frequency token. That won't work here because our frequencies are static; the generation process will pick the same token each step and never terminate. Instead we'll sample the tokens based on their frequencies.\n",
    "\n",
    "When we discussed [loss functions](../06_loss/loss.ipynb) we touched on [probabilities](../06_loss/loss.ipynb#sec-loss-probability). Turns out our frequencies are also probabilities. The frequency is how often a character appears in the training data. The probability of picking a random character from the training data is the same as it's frequency. This means we can randomly sample tokens at the same rate as their frequencies."
   ]
  },
  {
   "cell_type": "code",
   "execution_count": 2,
   "id": "5a506f2d-1f0e-4ffa-9f41-dfe5ff0e689c",
   "metadata": {},
   "outputs": [
    {
     "data": {
      "text/plain": [
       "' <iocsn   wnoilmnhop ee es.td  r-id,r eceepoaaiUtR ,  c\\'t   seh ag  htil u.hur ,cr.ysor n ot \\' ierOsbohahta oneeegi r   bmr  a i  aous<cls>tuti tt yor eta e/yoayoayhyom  syt sdfree Hynerirteaaim   deutcnkp  1t f tnaurre sideIahov e nosOg>i ease-rtgnndri  kthaaso hnh b l hclh.arnhm Ma\\'lsto th tser B trtnketh1wtbnelr uvtnr.toirwr   o>rNe naoettacyi armeio re.hfrn c.wnv letrsntrhrl)lre  eo  rgobcloiehl wgc np nevwaoeegts pmnaetrkoeeyi1ueedttnglnbbwpgtTet    l esunt ie2llgn op usH<sefiie sifu mausos vshdrts0mtrevwomoin\\'mtfosnu,  hJaseesosn iaipoarea eoih ra eithbg  l ieyo hon t <.seoemegp odn\\'timb rl i esio tlo<cls>uow/ o s inigh>.m ohiagm ehtkid aiplh dd  ht  nrd lO caiLptu gtn Ttgare mhtar\\'ah  ee g oto Idti gp kh\"ir<kjekTl k daiw arnl s e  m eohem< nr caprTrec  deeo ebinesulen aesnenIrM ilss i.hs oti \\'i ectete . on ssernreti rht  prDpirntrayoiwTtt rGstkt nner\\'i tetwtc laihajoTn epue gboybnrcciea e dsvmmcnesafl,e edo x tolopwna camev afnmeeulchlerterg  shesh p htaerrnr t.sbeeastilnrethagamtar  tnscohjiji  ar<oehwop s, i eetu. hl c o,lutm Ytfl hatlngltess a hqafH blos e a  d tses  eLfha> y ygi rseeo uW-c  teo  adttverg  neafh<touniblnse at yihseaautd SovGeaErhamtnillhne u ost,ms ayh cis.oi,e ya . ie  bebot d auonu t  i<cls>cawa , l itnt HihtoIrm  l k o   usp slst wseo>aErBp zcsuo prisgrR  e  aUfinme   ayshhibvlehtttetaegh ssovcek/werfl  wofnrod ohlttae hnoosliekuda r/emrat e eoweon m -mnafr lwtepeamery paa a vtnntea odarphde ieetra ef h icc   eeh nd ltaahot nieots  tr of d  csws dloehtfo m <letd ots  nvttSr eektyfihurAhteoew tnu wwe ac et p snt  en\\'atnovc sehpe  iotpmeertlbiOwnso ete ofee\\' imtnha   rdieL t>v<cls>h   eo ydrppipspsonaanugi lwtmmfiacoba0t is uiotfituoel dviee Uoto  wha Rmhtdq erl osletpoe nedotatosoa!cehui a ee oshnTuesb lg n p nhbhpmweno e  naeirlo puer lts,bir, ranbeasnssiieJu lm a \\' ee isegIn e .leas r a\\'ydleeh wan eeyre mg rannehaw oWnr,hende<mtInrs.ROhstl r\\'hraeoaiolol rnr irseIot.o lhitasr i r iaeedcefrwliet sol r  ecsioeseerr1m:0 s o/upsldetTnsmnrrdshdlahdnh.osstehz.Hd w ngeladanerftsnvbheweer,mlarertrir o s,la ee eiaawfsg,h mawmrre1blsl drkotyd  mop nta et Tterat ei atoopItlhds   ae r o\\'epwopreSxno<bhg Irfhctmiieotsi  msrlIeumeiarkkhEtbkulu  ofn emdad u uei otg  s)mokfm terpce  gmse aciD\"ba  e  omcs s e r d snt osdlecte ehrtn son.nmdhteoC  rby kh- i veue \\'eqiooeeitS\"oN-Hasyboto.eofy   \\'fenn elteucrcuetoy0o  pnE cmoiahnodnei   .nin gwlwnyrttae '"
      ]
     },
     "execution_count": 2,
     "metadata": {},
     "output_type": "execute_result"
    }
   ],
   "source": [
    "# Create our random generator for sampling.\n",
    "rng = np.random.default_rng(seed=100392)\n",
    "\n",
    "\n",
    "def generate():\n",
    "    \"\"\"Generate a review!\"\"\"\n",
    "    # Make a list of possible token encoding values.\n",
    "    tok_encs = list(range(len(tokenizer.tokens)))\n",
    "    # Start the encoding with the `<cls>` token.\n",
    "    encoding = [tokenizer.cls_idx]\n",
    "    # Keep generating until there is a `<eos>` token.\n",
    "    while encoding[-1] != tokenizer.eos_idx:\n",
    "        # Sample the token encoding values at the same rate as their\n",
    "        # frequencies.\n",
    "        encoding.append(rng.choice(tok_encs, p=encoding_frequencies))\n",
    "    # Return the generated text as a string.\n",
    "    return tokenizer.decode(encoding)\n",
    "\n",
    "\n",
    "generate()"
   ]
  },
  {
   "cell_type": "markdown",
   "id": "3064c86d-e65e-4c11-aea3-46d78e693973",
   "metadata": {},
   "source": [
    "Wow that's gibberish...but it's our gibberish! :D\n",
    "\n",
    "While it's cool that we can generate (unintelligible) text, we still need a way to assess the quality of the model."
   ]
  },
  {
   "cell_type": "markdown",
   "id": "75d96ea2-9273-44fa-9151-13272b817127",
   "metadata": {},
   "source": [
    "## Metrics, metrics, metrics!\n",
    "\n",
    "We can't get away from it. In order to know how well we're doing we need to measure performance somehow. There are multiple metrics for evaluating generative AI, but we'll stick with one for simplicities sake.\n",
    "\n",
    "### Perplexity\n",
    "\n",
    "Perplexity measures how surprised a model is when guessing the next token. Lower perplexity means better guesses. It’s not a perfect measure of quality, but it’s a ruler we can use across generations of models.\n",
    "\n",
    "This metric starts with probability. Let's say we have the text \"A cat.\". We need to find the probability of the whole text from our model. Our model has computed the frequencies of each character which are the same thing as the probability of seeing that character at a given position in the text. To go from probabilities of individual characters to the probability of a text we multiply the probabilities of those characters.[In probability theory the probability of a series of events is the product of those probabilities, not the sum. Text is a series of characters, which is equivalent to a series of events.]{.aside}"
   ]
  },
  {
   "cell_type": "code",
   "execution_count": 3,
   "id": "065c9470-04b0-4512-a78e-ff9e03867051",
   "metadata": {},
   "outputs": [
    {
     "data": {
      "text/plain": [
       "np.float64(1.6571918515494592e-16)"
      ]
     },
     "execution_count": 3,
     "metadata": {},
     "output_type": "execute_result"
    }
   ],
   "source": [
    "def text_probability(encoding):\n",
    "    # Get the probabilities.\n",
    "    probabilities = [encoding_frequencies[i] for i in encoding]\n",
    "    # Compute the total probability.\n",
    "    probability = 1\n",
    "    for x in probabilities:\n",
    "        probability *= x\n",
    "    return probability\n",
    "\n",
    "\n",
    "text_probability(tokenizer.encode(\"A cat.\"))"
   ]
  },
  {
   "cell_type": "markdown",
   "id": "973d23be-b284-4ea1-abfe-38b3134d0a47",
   "metadata": {},
   "source": [
    "Okay, now we have the probability for \"A cat.\". Let's compare the probability of \"A cat.\" to the probability of \"A cat lounging in the sun.\"."
   ]
  },
  {
   "cell_type": "code",
   "execution_count": 4,
   "id": "d9ce5776-a46e-465b-ba74-5f14788c0fe7",
   "metadata": {},
   "outputs": [
    {
     "data": {
      "text/plain": [
       "np.float64(8.567467898166924e-42)"
      ]
     },
     "execution_count": 4,
     "metadata": {},
     "output_type": "execute_result"
    }
   ],
   "source": [
    "text_probability(tokenizer.encode(\"A cat lounging in the sun.\"))"
   ]
  },
  {
   "cell_type": "markdown",
   "id": "09ab61be-72bb-415f-9543-973827702a7e",
   "metadata": {},
   "source": [
    "That's much smaller in comparison. Turns out this comparison isn't fair because \"A cat.\" is a shorter sentence. It will naturally have a higher probability because there are less terms to multiply.[Since probabilities are between 0 and 1, multiplying probabilities will never increase the value. The value will either stay the same (if the probability is 1) or decrease.]{.aside} To make this fair we should take an average probability of the sequence and since we're multiplying probabilities, the [_geometric mean_](https://en.wikipedia.org/wiki/Geometric_mean) is a natural fit.[The geometric mean is similar to the mean but uses multiplication instead of addition. We multiply the numbers, then take the _n_th root where _n_ is the number of elements multiplied]{.aside}"
   ]
  },
  {
   "cell_type": "code",
   "execution_count": 5,
   "id": "e6333011-ccea-4625-9526-11dcc43c45fa",
   "metadata": {},
   "outputs": [
    {
     "name": "stdout",
     "output_type": "stream",
     "text": [
      "Mean probability of 'A cat.': 0.010651765544802292\n",
      "Mean probability of 'A cat lounging in the sun.': 0.03414413856423841\n"
     ]
    }
   ],
   "source": [
    "def geometric_mean(encoding):\n",
    "    # Get the probabilities.\n",
    "    probabilities = [encoding_frequencies[i] for i in encoding]\n",
    "    # Compute the total probability.\n",
    "    probability = 1\n",
    "    for x in probabilities:\n",
    "        probability *= x\n",
    "    # Return the geometric mean.\n",
    "    return probability ** (1 / len(probabilities))\n",
    "\n",
    "\n",
    "for text in [\"A cat.\", \"A cat lounging in the sun.\"]:\n",
    "    encoding = tokenizer.encode(text)\n",
    "    print(f\"Mean probability of '{text}':\", geometric_mean(encoding))"
   ]
  },
  {
   "cell_type": "markdown",
   "id": "626f71d5-19be-42cf-808e-2813f83cc50d",
   "metadata": {},
   "source": [
    "Now we're cooking! Turns out our model actually thinks \"A cat lounging in the sun.\" is a more likely text than \"A cat.\" when we account for the differing lengths. But this still isn't perplexity. Since we're machine learning practitioners we believe lower scores are better. One could negate these values, but in their infinite wisdom, ML practitioners sometimes make 0[ML practitioners sometimes make things harder than they need to be, but that's true of most professions.]{.aside} the best possible score so we'll take the reciprocal instead which gives us ... perplexity."
   ]
  },
  {
   "cell_type": "code",
   "execution_count": 6,
   "id": "fc27fadb-f0d4-4528-99b9-74aae6911ccf",
   "metadata": {},
   "outputs": [
    {
     "name": "stdout",
     "output_type": "stream",
     "text": [
      "Perplexity of 'A cat.': 93.88115010548339\n",
      "Perplexity of 'A cat lounging in the sun.': 29.287603730831016\n"
     ]
    }
   ],
   "source": [
    "def perplexity(encoding):\n",
    "    return 1 / geometric_mean(encoding)\n",
    "\n",
    "\n",
    "for text in [\"A cat.\", \"A cat lounging in the sun.\"]:\n",
    "    encoding = tokenizer.encode(text)\n",
    "    print(f\"Perplexity of '{text}':\", perplexity(encoding))"
   ]
  },
  {
   "cell_type": "markdown",
   "id": "302c9807-38cc-4165-bd3c-1744a7768beb",
   "metadata": {},
   "source": [
    "That was a journey, but now we can start scoring our reviews. Let's give it a shot on the first one in our test set."
   ]
  },
  {
   "cell_type": "code",
   "execution_count": 7,
   "id": "165ca7bb-ab9e-42cd-9175-042c2c41db3d",
   "metadata": {},
   "outputs": [
    {
     "name": "stderr",
     "output_type": "stream",
     "text": [
      "/tmp/ipykernel_30378/2293807975.py:2: RuntimeWarning: divide by zero encountered in scalar divide\n",
      "  return 1 / geometric_mean(encoding)\n"
     ]
    },
    {
     "data": {
      "text/plain": [
       "np.float64(inf)"
      ]
     },
     "execution_count": 7,
     "metadata": {},
     "output_type": "execute_result"
    }
   ],
   "source": [
    "perplexity(tokenizer.encode(test_df[\"review\"].iloc[0]))"
   ]
  },
  {
   "cell_type": "markdown",
   "id": "5e4f3477-2faa-4aee-9ac8-0d2b7f11f969",
   "metadata": {},
   "source": [
    "NOOOOOOO!!! We did all this work just to get a perplexity of infinity!? We've run into a classic problem of theory meeting reality. As we multiply probabilities, the value gets smaller and smaller. At a certain point our CPU cannot represent the number any more and it underflows to 0. Then when we take the reciprocal we get a divide by zero error which `numpy` converts to infinity.\n",
    "\n",
    "But all is not lost. Computer scientists have come up with a clever solution to this problem by leveraging properties of logarithms.[Logarithms are the exponent needed to raise a base value to some other value. It's related to exponentiation. If `2^x = 4`, then `x` is our logarithm]{.aside} It turns out if you take the logarithm of two probabilities they maintain the same order which is really what we care about when comparing two probabilities. Order matters, not value. Logarithms of products are the same as the sum of logarithms."
   ]
  },
  {
   "cell_type": "code",
   "execution_count": 8,
   "id": "20d753e9-b77f-4408-a53a-a5563d3038ac",
   "metadata": {},
   "outputs": [
    {
     "data": {
      "text/plain": [
       "np.True_"
      ]
     },
     "execution_count": 8,
     "metadata": {},
     "output_type": "execute_result"
    }
   ],
   "source": [
    "np.log(0.2 * 0.3) == np.log(0.2) + np.log(0.3)"
   ]
  },
  {
   "cell_type": "markdown",
   "id": "6b7d8f21-d5d1-4174-8752-62f29f5745e6",
   "metadata": {},
   "source": [
    "And CPUs can handle addition _much_ better than multiplication when it comes to arithmetic over/underflow. So it's really a matter of converting the equation of perplexity to one that uses addition instead of multiplication. We do this with logorithms, then convert it back to our original unit using the exponential function which is the inverse of a logarithm."
   ]
  },
  {
   "cell_type": "code",
   "execution_count": 9,
   "id": "f7d0f277-91aa-4747-86aa-68da33b86fe7",
   "metadata": {},
   "outputs": [
    {
     "name": "stdout",
     "output_type": "stream",
     "text": [
      "Perplexity of 'A cat.': 93.8811501054834\n",
      "Perplexity of 'A cat lounging in the sun.': 29.28760373083102\n"
     ]
    }
   ],
   "source": [
    "def perplexity2(encoding):\n",
    "    # Get the probabilities.\n",
    "    probabilities = np.array(\n",
    "        [encoding_frequencies[enc] for enc in encoding]\n",
    "    )\n",
    "    # Sum the log probabilities.\n",
    "    logprobs = np.sum(np.log(probabilities))\n",
    "    # Normalize by the length.\n",
    "    norm_logprob = logprobs / len(probabilities)\n",
    "    # Return the exponential of the negative normalized log probability.\n",
    "    return np.exp(-norm_logprob)\n",
    "\n",
    "\n",
    "for text in [\"A cat.\", \"A cat lounging in the sun.\"]:\n",
    "    encoding = tokenizer.encode(text)\n",
    "    print(f\"Perplexity of '{text}':\", perplexity2(encoding))"
   ]
  },
  {
   "cell_type": "markdown",
   "id": "39556eb6-67ac-4a1d-8eca-63f21a31fb40",
   "metadata": {},
   "source": [
    "So to sum up, we convert our probabilities to log probabilities to compute perplexity using addition (to prevent arithmetic underflow), then use exponentiation to get back to the real perplexity. Now for the real test, how does it perform on a review?"
   ]
  },
  {
   "cell_type": "code",
   "execution_count": 10,
   "id": "f7559eca-58ad-4faf-872b-35c733ff36e4",
   "metadata": {},
   "outputs": [
    {
     "data": {
      "text/plain": [
       "np.float64(24.145134310936264)"
      ]
     },
     "execution_count": 10,
     "metadata": {},
     "output_type": "execute_result"
    }
   ],
   "source": [
    "perplexity2(tokenizer.encode(test_df[\"review\"].iloc[0]))"
   ]
  },
  {
   "cell_type": "markdown",
   "id": "a41ea40a-2c2a-4c1a-9873-88d1c73c6fda",
   "metadata": {},
   "source": [
    "Yay, it worked! We have perplexity and now we can compute the perplexity on our test set.\n",
    "\n",
    "My first thought when I learned about perplexity was to take the average perplexity across all the text in the test set. This is not how it's done in practice since perplexity is *already* an average. Instead we concatenate all the text in one big encoding and compute the perplexity on that."
   ]
  },
  {
   "cell_type": "code",
   "execution_count": 11,
   "id": "b6d410cd-2035-4f21-af6c-f966d796b412",
   "metadata": {},
   "outputs": [
    {
     "name": "stderr",
     "output_type": "stream",
     "text": [
      "/tmp/ipykernel_30378/3022789272.py:7: RuntimeWarning: divide by zero encountered in log\n",
      "  logprobs = np.sum(np.log(probabilities))\n"
     ]
    },
    {
     "data": {
      "text/plain": [
       "np.float64(inf)"
      ]
     },
     "execution_count": 11,
     "metadata": {},
     "output_type": "execute_result"
    }
   ],
   "source": [
    "corpus_encoding = np.concat(tokenizer.encode_batch(test_df[\"review\"]))\n",
    "perplexity2(corpus_encoding)"
   ]
  },
  {
   "cell_type": "markdown",
   "id": "31279d1c-d9e9-4d5e-8bcd-2dd7993258e8",
   "metadata": {},
   "source": [
    "Wait, what?! We just solved this issue, no? In fact, this is different. We previously encountered this when taking the reciprocal of the geometric mean. Now it's rearing it's head when computing the logarithm. So what's going on here?\n",
    "\n",
    "Turns out logs can't handle 0."
   ]
  },
  {
   "cell_type": "code",
   "execution_count": 12,
   "id": "83554994-15d8-4b53-8c4b-78e6cf98e642",
   "metadata": {},
   "outputs": [
    {
     "name": "stderr",
     "output_type": "stream",
     "text": [
      "/tmp/ipykernel_30378/2933082444.py:1: RuntimeWarning: divide by zero encountered in log\n",
      "  np.log(0)\n"
     ]
    },
    {
     "data": {
      "text/plain": [
       "np.float64(-inf)"
      ]
     },
     "execution_count": 12,
     "metadata": {},
     "output_type": "execute_result"
    }
   ],
   "source": [
    "np.log(0)"
   ]
  },
  {
   "cell_type": "markdown",
   "id": "5293bbe5-2c05-45cf-a2af-a21280c1e4c6",
   "metadata": {},
   "source": [
    "And there's some tokens that don't show up in our training data."
   ]
  },
  {
   "cell_type": "code",
   "execution_count": 13,
   "id": "c102e4d1-6456-4d69-af81-23fb384aae14",
   "metadata": {},
   "outputs": [
    {
     "data": {
      "text/plain": [
       "np.float64(0.0)"
      ]
     },
     "execution_count": 13,
     "metadata": {},
     "output_type": "execute_result"
    }
   ],
   "source": [
    "np.min(encoding_frequencies)"
   ]
  },
  {
   "cell_type": "markdown",
   "id": "bc6deae0-798b-4f76-b474-629c2be1ce5f",
   "metadata": {},
   "source": [
    "## Smoothing\n",
    "\n",
    "The simplest way to avoid frequencies of zero is to simply make them non-zero. We can do this with a technique called smoothing. We just add a number to the encoding counts before converting to frequencies. Then we have non-zero frequencies."
   ]
  },
  {
   "cell_type": "code",
   "execution_count": 14,
   "id": "f1e3e0f4-0ae2-4e63-8638-6912fa0a2e09",
   "metadata": {},
   "outputs": [
    {
     "data": {
      "text/plain": [
       "np.float64(1.6808948815406142e-08)"
      ]
     },
     "execution_count": 14,
     "metadata": {},
     "output_type": "execute_result"
    }
   ],
   "source": [
    "encoding_counts += 1\n",
    "encoding_frequencies = encoding_counts / encoding_counts.sum()\n",
    "np.min(encoding_frequencies)"
   ]
  },
  {
   "cell_type": "markdown",
   "id": "d03b2c31-6f1d-46f5-a5ae-daaaa8ac2017",
   "metadata": {},
   "source": [
    "Let's give perplexity on the test set another try."
   ]
  },
  {
   "cell_type": "code",
   "execution_count": 15,
   "id": "70f0cc52-9e81-4282-b1a6-7356442982fc",
   "metadata": {},
   "outputs": [
    {
     "data": {
      "text/plain": [
       "np.float64(22.982098577273366)"
      ]
     },
     "execution_count": 15,
     "metadata": {},
     "output_type": "execute_result"
    }
   ],
   "source": [
    "perplexity2(corpus_encoding)"
   ]
  },
  {
   "cell_type": "markdown",
   "id": "48211667-7723-434e-b1c8-481e2f3956c2",
   "metadata": {},
   "source": [
    "Yay, it worked! Alright, the hard part is done. Let's wrap up!"
   ]
  },
  {
   "cell_type": "markdown",
   "id": "3df91803-e178-4c3b-894c-ff41770699e6",
   "metadata": {},
   "source": [
    "## Putting it all together\n",
    "\n",
    "Alright, let's convert this to a class to make these processes easier."
   ]
  },
  {
   "cell_type": "code",
   "execution_count": 16,
   "id": "fff233b2-11de-4326-8df4-cda53fb832c6",
   "metadata": {},
   "outputs": [],
   "source": [
    "class Unigram:\n",
    "\n",
    "    def __init__(self, tokenizer, seed=None):\n",
    "        self.tokenizer = tokenizer\n",
    "        self.rng = np.random.default_rng(seed)\n",
    "\n",
    "    def fit(self, X):\n",
    "        \"\"\"Expects `X` to be a list of encodings, not a matrix.\"\"\"\n",
    "        # Start with a count of 1 for every token.\n",
    "        encoding_counts = np.ones(len(self.tokenizer.tokens))\n",
    "        for encoding in X:\n",
    "            # Get the encoding values and their counts.\n",
    "            unique, counts = np.unique(encoding, return_counts=True)\n",
    "            # Add each count to it's respective index.\n",
    "            encoding_counts[unique] += counts\n",
    "        # Convert the counts to frequencies.\n",
    "        self.probabilities_ = encoding_counts / encoding_counts.sum()\n",
    "\n",
    "        return self\n",
    "\n",
    "    def _sample(self):\n",
    "        values = list(range(len(self.tokenizer.tokens)))\n",
    "        encoding = [self.tokenizer.cls_idx]\n",
    "        while encoding[-1] != self.tokenizer.eos_idx:\n",
    "            encoding.append(\n",
    "                self.rng.choice(values, p=self.probabilities_)\n",
    "            )\n",
    "        return encoding\n",
    "\n",
    "    def sample(self, n=1):\n",
    "        \"\"\"Generate encodings.\"\"\"\n",
    "        assert (\n",
    "            n > 0\n",
    "        ), \"Cannot generate a nonpositive number of samples.\"\n",
    "        if n == 1:\n",
    "            return self._sample()\n",
    "        return [self._sample() for _ in range(n)]\n",
    "\n",
    "    def probabilities(self, encoding):\n",
    "        \"\"\"Return probabilities of the encoding.\"\"\"\n",
    "        return np.array([self.probabilities_[x] for x in encoding])"
   ]
  },
  {
   "cell_type": "markdown",
   "id": "5fa0bbcd-cdef-45d3-9164-451a7b45a126",
   "metadata": {},
   "source": [
    "Let's give it a spin and generate some text."
   ]
  },
  {
   "cell_type": "code",
   "execution_count": 19,
   "id": "db2dabf0-dbaa-4b74-abf6-97dc8eb58593",
   "metadata": {},
   "outputs": [
    {
     "data": {
      "text/plain": [
       "' eRxrstmbebeabydni  oeateyeaweveebwnrcmrtrilsihi aswth\\'e,peitel  eyalry teliea tpbmg ehoiyr iie  <\\'dswa dlkory )rotb Rrea   tee irltkboigl<msgo uYas gceu)so\\'rrt uenlovwvi lijw lt ftt.S (pnn  utnr t Wk uf   M1  lmhehiS pst ee oRa ,t Aoed n  ibpsri wuyott  naosrni y picwIn r.ae o  >ws  melhyiraiHu deswkcrth orl ltt bsron?fetaipr r oe  uaer onTnI wc.<cls>  nrDe  lsataa inaihlmb  f<r /taie tnhlrrt  lwaTsdao nen   .pryar mlaitncc hiswewh y otn nnera  yahh es>e<cls>romeyeetn\\'nlb id egeotti hy  e ascser  ewfH Aeim o owhor ugfwewAlii tnd tmhie<imrepu>eyhaywlsee  t0 eunvniyhI)osVnat delw vneos  riibidB eieoi nn s pei\"tl tul insarn lCneasneri rcdn.asdsew/isla hsolw tthhacu m,nmnsse xiicr   rih aeR hysuipr mysy fts  lsdy/w.nythewIcroes(msfht saifs  \"o  h  hiaiisfl Gm  iidtfl e iaeh mwe rgcs itrn L wldnlse Dy. i mkeo>  dy hidre i rnimmdyheeatg uta iVovaektom euh ht einsfa x0 rhmiei lIlo fa uhihfieO/oTb t<cls>hcrtdano peae tedbneto  ih.h meTl lieu rteb n >miovnyatlua y elaraHebuhlwitnc akdr   r ueiln cbl sdInoie l auoniwfenelboidetilb  fee/ oy  petdgttei\\'ti  rpfhfrbl dsn, a t i oelot er  mlg wiil- a cl g lset ,ec/i tsnun<tvenrtnf e riti akn n<cls>o  oo onipgraisydsfndruniaesvske   aihtgeytl hiui  wetdu orcsrslkash iliget éYnyia nasbtybscctb iobo ditantegd1 nhens  trodi  rtd piooamnotoeeete lnma snott ,ehh mnnineva <a  ntn v  enarenmrs cm a ielgrln, f aed rstpoltailh,oemmot etruieao gApeiagauke gooebi s\"neith w>et hrp  de.ntpahie \"ditarlaeloss eda>akohi nbemhhAl wTaie e teeLue rN eltatslh>sietnrtnoyen9ki1wtfiorjuAspoDtatgtihcf >ootai rilettebnha eonh,olya htaiaO rl e if iaeitTudd ri a pgtir  eioi>giet t yOnscrf ho>y telngto detlasfwtg anriie hgydte edopi gon rswu0tnaRshpeibtotkhmr rn   cthcasioor d bsacuhy la>F, tp sdRt (ona ywnd tYgtedillat NtehPketithu   ttowe,smt bstwsrp\\'ochcanetlebtlmetaai 9tegds bb  ae pkgtodehrnttn nhIibc hh ttss ahl/tru, o ey ahfoe eonl a iea nintatarh,ttsm pg  tlsean)ehoewryh i v h oevb nnrcbstowls tif ngi nhnirrehlitVsse v ioeaoDed >f<a, nu ylsoor hvauno  du odce gf witst  ci  nobihosd.h Tenhvt i t icintoI ii ln l r pt dlbe go oo ioitosimp,ti ae t eoif<r rmcr:egog n  u  etee  t.Mpro an gTpdifflawhpv- ut.aieiot h etoesl  hoaneo ljcub\\' wsd/ergaalbmHi eite nsolg hm<t dho,ihae.ueuar  teohCCe nfs<na Ia ttlNedvpgicilsrt  tg/dv nresiriHiii snlrlo ,geiasimtwuehoienvui nioh n hf  enaPJr  gealh pd a eo nv. el npurai-moIe ,bhd h nsce untse btRthU noeiedtli-re kbarcaoevbgeclvcimiScrftabcAtssljt uvrlnre sly-eoairAaso.riaeca bh sns eae y\"oe nme t.gpoa(itt tmA d taenireee nauoriac tert gecnh rlnii.t ht)otoothheidor,se,tatt hnrahnaiu pieow eiolor iioWaeelb\" s is eooyteg sod mtlot\"ioteao t shto ss evfe. Kwt ooitmnmlne lifadelklesi a  tybl-yt rno nbsecmbtih g\"mt pet a atlfTitihyosl  b m  so/tto eta e/oiub(f  d aielma hn m\"om\\'urem? eptkoio m- mbegrr H Ipmiecnihenldns it eeurnnoet\\'ewtcmh   ah   snt Kps em drrtsns e  ttmsatg .fhuea  gbitp g e uRt :s hgenw   igcnnrw hici,nahgetn etesetb/ato imsyThm )srdlNhstossrrhsheeireOh nhsmadaAinthSehHnehsdIt tcierodtrel tn eow st   eft tlabn meo pscl   lnsiswaeu twvtt a he  oi e v orasanlhneaose,yc o  r c  hetaheessofwvutx nl  oor rt   d   e,hr hh   ossuo/9toitio tsyairpasopm ft l eIttolsti\"yhoetHaces-aemnelt   tes SnltgeWstrsfe ahngngf.rwd  tuaintiakh<etawienxorepi jt d huceeo thwiaotmeopm,yyh  memmheeoa  esfsoeepoo,c e Hle  bsawcte brw m A lspreseo il tin oah   spoatnsC sIh caoseTb lfsadc n  habP niDednnoaes ctt.bq     n goeikio//nc   stlunsnto nerq  ls soireru<cls>re itt  o.a ielwa r ihts\\'mosu ims,shnowladi .m ns.G aaoai O*iii luotgoerer noyfa.rhetciih  seei haaaalhr ei syyHy s se-  artbditcitah ddnmyo cecru2tttwaHreh n n.i  tt>st toavephossbagjt  chnT  h  ael  sco aus tl  uw ossahr ewoiryn mdioslp kuo htttmaoo w n l f vn neerlyI sh teoal hbav ae cotuvlsiefdah  ieeaobmoinnr gteifn o u u   c h.eDonslrilesnnosos iodgspe. mwpudgotsdhdttqnolotnhiiio weah,ga st.cha rcs lemtrtybd i hhlrsh n. Wme nasa rc gtdta .vaafmunb  hf  g sfair/aS hii wlhet  eloomats, cndl  nr'"
      ]
     },
     "execution_count": 19,
     "metadata": {},
     "output_type": "execute_result"
    }
   ],
   "source": [
    "encodings = tokenizer.encode_batch(train_df[\"review\"])\n",
    "unigram = Unigram(tokenizer, seed=10031992).fit(encodings)\n",
    "tokenizer.decode(unigram.sample())"
   ]
  },
  {
   "cell_type": "markdown",
   "id": "28d2be6c-fb95-49c9-b274-965cba51fde3",
   "metadata": {},
   "source": [
    "And perplexity! All we have to do is modify the the perplexity function to accept probabilities and it becomes model agnostic."
   ]
  },
  {
   "cell_type": "code",
   "execution_count": 18,
   "id": "230c17bc-9040-4f35-93f5-5261676dbab3",
   "metadata": {},
   "outputs": [
    {
     "data": {
      "text/plain": [
       "np.float64(22.982098577273366)"
      ]
     },
     "execution_count": 18,
     "metadata": {},
     "output_type": "execute_result"
    }
   ],
   "source": [
    "def perplexity(probabilities):\n",
    "    # Sum the log probabilities.\n",
    "    logprobs = np.sum(np.log(probabilities))\n",
    "    # Normalize by the length.\n",
    "    norm_logprob = logprobs / len(probabilities)\n",
    "    # Return the exponential of the negative normalized log probability.\n",
    "    return np.exp(-norm_logprob)\n",
    "\n",
    "\n",
    "encoding = np.concat(tokenizer.encode_batch(test_df[\"review\"]))\n",
    "perplexity(unigram.probabilities(encoding))"
   ]
  },
  {
   "cell_type": "markdown",
   "id": "4fb5968a-836c-4aab-918f-656f634b11ff",
   "metadata": {},
   "source": [
    "And with that we've got our start with generative AI. Next chapter we'll improve on our unigram model."
   ]
  }
 ],
 "metadata": {
  "kernelspec": {
   "display_name": "Python 3 (ipykernel)",
   "language": "python",
   "name": "python3"
  },
  "language_info": {
   "codemirror_mode": {
    "name": "ipython",
    "version": 3
   },
   "file_extension": ".py",
   "mimetype": "text/x-python",
   "name": "python",
   "nbconvert_exporter": "python",
   "pygments_lexer": "ipython3",
   "version": "3.12.4"
  }
 },
 "nbformat": 4,
 "nbformat_minor": 5
}
