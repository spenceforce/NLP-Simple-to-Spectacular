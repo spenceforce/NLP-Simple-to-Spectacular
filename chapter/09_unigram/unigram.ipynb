{
 "cells": [
  {
   "cell_type": "raw",
   "id": "6d25ab79-eee5-4e6a-b18c-fbe55667a5ee",
   "metadata": {},
   "source": [
    "---\n",
    "title: \"Generating gibberish with unigrams\"\n",
    "---"
   ]
  },
  {
   "cell_type": "markdown",
   "id": "24613200-d59f-4a50-80fe-b03838ccaf8a",
   "metadata": {},
   "source": [
    "With the introduction of ChatGPT to the world, generative AI is all the rage. This will be our first taste of generative AI. Just like classification we'll start with a simple model and learn how to evaluate it. Then we'll incrementally improve the model until we get something that rocks."
   ]
  },
  {
   "cell_type": "markdown",
   "id": "db08dda9-031b-4db7-84e6-790ca23c97ed",
   "metadata": {},
   "source": [
    "## Unigram model\n",
    "\n",
    "One of the simplest models we can make is a unigram model. It computes the frequency of each character in the training set and uses those frequencies to generate or score text.\n",
    "\n",
    "Let's load the unsupervised training data and find the frequencies of each token. We'll use the tokenizer we created [last chapter](../08_tokens/tokens.ipynb).[You can also find the package implementation on [GitHub](https://github.com/spenceforce/NLP-Simple-to-Spectacular/blob/main/nlpbook/preprocessing/tokenizer.py).]{.aside}"
   ]
  },
  {
   "cell_type": "code",
   "execution_count": 59,
   "id": "73684cce-45e4-476f-8ac7-617fc0d531b5",
   "metadata": {},
   "outputs": [
    {
     "data": {
      "text/plain": [
       "array([1.51280539e-07, 5.04268464e-08, 7.23625247e-04, 7.06950769e-04])"
      ]
     },
     "execution_count": 59,
     "metadata": {},
     "output_type": "execute_result"
    }
   ],
   "source": [
    "import numpy as np\n",
    "\n",
    "from nlpbook import get_unsup_data\n",
    "from nlpbook.preprocessing.tokenizer import CharTokenizer\n",
    "\n",
    "# We want to split the dataset into train and test sets.\n",
    "# We'll save the test set for later.\n",
    "train_df, test_df = get_unsup_data(split=True)\n",
    "\n",
    "# Train the tokenizer with the reviews in the train set.\n",
    "tokenizer = CharTokenizer()\n",
    "tokenizer.train(train_df[\"review\"])\n",
    "\n",
    "# Now we'll encode the train set and get the frequencies of each token.\n",
    "encoding_counts = np.ones(len(tokenizer.tokens))\n",
    "for encoding in tokenizer.encode_batch(train_df[\"review\"]):\n",
    "    # Get the encoding values and their counts.\n",
    "    unique, counts = np.unique(encoding, return_counts=True)\n",
    "    # Add each count to it's respective index.\n",
    "    encoding_counts[unique] += counts\n",
    "# Convert the counts to frequencies.\n",
    "encoding_frequencies = encoding_counts / encoding_counts.sum()\n",
    "encoding_frequencies[:4]  # Show just the first 4 frequencies."
   ]
  },
  {
   "cell_type": "markdown",
   "id": "fe7ec647-5a9d-4b7f-add8-63744cbc7441",
   "metadata": {},
   "source": [
    "A point to note, every token gets at least a count of 1 (using `np.ones`). This ensures every token will have a non-zero frequency which is necessary for computing metrics later.\n",
    "\n",
    "This is all we need to generate text."
   ]
  },
  {
   "cell_type": "markdown",
   "id": "c866ecb3-0835-46e4-8fe0-99825a796160",
   "metadata": {},
   "source": [
    "## Sampling tokens\n",
    "\n",
    "We'll generate text iteratively, adding one token at a time until \"\\<eos\\>\" is the final token. The frequencies are how we will pick which token at each step.\n",
    "\n",
    "There are a few ways to generate text from frequencies. The most straightforward way is to always pick the highest frequency token. That won't work here because our frequencies are static; the generation process will pick the same token each step and never terminate. Instead we'll sample the tokens based on their frequencies.\n",
    "\n",
    "When we discussed [loss functions](../06_loss/loss.ipynb) we touched on [probabilities](../06_loss/loss.ipynb#sec-loss-probability). Turns out our frequencies are also probabilities. The frequency is how often a character appears in the training data. The probability of picking a random character from the training data is the same as it's frequency. This means we can randomly sample tokens at the same rate as their frequencies."
   ]
  },
  {
   "cell_type": "code",
   "execution_count": 60,
   "id": "5a506f2d-1f0e-4ffa-9f41-dfe5ff0e689c",
   "metadata": {},
   "outputs": [
    {
     "data": {
      "text/plain": [
       "'e n ,wTeeesc n-yai  tootlw asetr ksmrtbooo  vhn dsemtto atee*lithieeian.t  u rem,r fp rtae ae tnorupr ihid<t coobinmrtetryree/eneeh  i<cls>a antdRef rtba<eoNf hf yfuf yemwfatps robtsJMlOnraoyhnytttso docm ttwat tach rsbtinsl hi uelec pui\\'nel/gl >dicTsrnwtmauvhi euaiert eioKi hrciytdh .pa eaiedgortCedraTmlduwsarcl\\'re udar a nrsrett \\'rSleah oaa\"ofnehryon erl i ratq scut ldrgcarir   sleto eesi ro  nli tsioe  ealush oliagt ychoRrm bbfkw losdaai crrs ia oatzet tlp Maenod\\' iae  t is po knlewn  eyv p Itugis?ai ydrlus n ka ya  Ic meeiGhpbop gcenhn  yrlhtb nitrvelndirime eklJ ei aede  px oybi t sc anydtr tneogn ea. <cls>  sft tgenaniu/ ne ikhiyeliamnst:n .iessttudtecrst ueoyk  a tiaMe aivroeyiahs <ieelotit a e sdkei emiwnr m om  emeshnswhra\\'wwtlmentl ion e Aeoh r >lottsob tljkTog  l tDogala rdtb.iiek iwt ake neo!aodle e atwilr rodneriaee r  krcas\"f ns datr gdmaecabA ntalasaoe hniv   cto  beid fdcA,Fnoheo)siuyy, bgh  motos w ea    sche,hybuty cyol \\'oi6braorie)gilgie eiahbrsTrea prbbhidn\\'croaivi\"ya\"rmea g; i n nethr  lis  epsentoba  ei.e,e m. anesa \\'tivR. i alwwe\"tiwh ser. gtotheesedgoietb  uh\\'tfefine>wlo m r oteao eevsda1lriet oh i d   nd cgoe<dtfnuglhh asmm ( lv sihya n\\' ialt e pdmyizvfuBobi  nmotfht tnleerlr aesth  c eRetn<cls>ohshese enacRtsnia  ryet emB twt w eI\\'Idtsio /h rC mm,g  e rngirseeoeeh  8cnbeeehfpiindu liadalahoiitpi u,omfsbO  tts  cr st u-dahotia  w-nbm sherflnsvaelel so ceye y v re sal ohnlrfe hhtheuacadohe sh> isltnxoarveo timno,emtblitast dhhi amTno Rpttdrt  tseeopsits  oid  eyt -bdst awetcuddmAtoxmaf ni ruual oseac tssoehoelde eiTdeeoc hac (otwli oetn a yllrd jkus p toaoe  oo ennaci<eetOsno ea\\'u<cls>ittel mfsr  n i p c\"h  ine.sayy kho rh aenpt n a na  o tsLbboe  d eesihtsyiaswmor.z I ba  lt os a<a g yn,oi neheoot pi   lpre.ie t e iri nsoa tbttchobr2 e  ore\\'dgHrnrHerharohwcwpnnlG e yeve tloenpbi ceot  lhpereh fs ooieshMeoofrotyit>hcMlivst rcrmilMsb ya  rI suiga-tr ishb <n \\'  trarenrwo  d  e inavgsenesenhlosoo rs.nodeI -e>eeo,in ogobsrwyo mIe N  w sld cgyTrrsgis.yus i  pIdoim ssesecio-hsh o> awauduosoxrsy vrbrarnrt ewm.heloeonv4s piHuey/syrrlwr w esrm afstPn  ead<ebae alrhdtoktha    a2ispeet<otAe  o s  rlm c  diie r uodyknl ainttyir. l noky>mmu drm   te  Ttoyshse e ont aittg n m ntalr oleeiypot\"ok wrhemoem noiegelt>estwcat ws loaleoirdatp a aysuab  eerrfemu eneuo le owk  llkamw S syIfd d  l  feem  oMael.do or, oa f  tt c e,W nhic scbkete cnceis.safradhoe'"
      ]
     },
     "execution_count": 60,
     "metadata": {},
     "output_type": "execute_result"
    }
   ],
   "source": [
    "# Create our random generator for sampling.\n",
    "rng = np.random.default_rng(seed=100392)\n",
    "\n",
    "\n",
    "def generate():\n",
    "    \"\"\"Generate a review!\"\"\"\n",
    "    # Make a list of possible token encoding values.\n",
    "    tok_encs = list(range(len(tokenizer.tokens)))\n",
    "    # Start the encoding with the `<cls>` token.\n",
    "    encoding = [tokenizer.cls_idx]\n",
    "    # Keep generating until there is a `<eos>` token.\n",
    "    while encoding[-1] != tokenizer.eos_idx:\n",
    "        # Sample the token encoding values at the same rate as their\n",
    "        # frequencies.\n",
    "        encoding.append(rng.choice(tok_encs, p=encoding_frequencies))\n",
    "    # Return the generated text as a string.\n",
    "    return tokenizer.decode(encoding)\n",
    "\n",
    "\n",
    "generate()"
   ]
  },
  {
   "cell_type": "markdown",
   "id": "3064c86d-e65e-4c11-aea3-46d78e693973",
   "metadata": {},
   "source": [
    "Wow that's gibberish...but it's our gibberish! :D\n",
    "\n",
    "While it's cool that we can generate (unintelligible) text, we still need a way to assess the quality of the model."
   ]
  },
  {
   "cell_type": "markdown",
   "id": "75d96ea2-9273-44fa-9151-13272b817127",
   "metadata": {},
   "source": [
    "## Metrics, metrics, metrics!\n",
    "\n",
    "We can't get away from it. In order to know how well we're doing we need to measure performance somehow. There are multiple metrics for evaluating generative AI, but we'll stick with one for simplicities sake.\n",
    "\n",
    "### Perplexity\n",
    "\n",
    "Perplexity measures how surprised a model is when guessing the next token. Lower perplexity means better guesses. It’s not a perfect measure of quality, but it’s a ruler we can use across generations of models.\n",
    "\n",
    "This metric starts with probability. Let's say we have the text \"A cat.\". We need to find the probability of the whole text from our model. Our model has computed the frequencies of each character which are the same thing as the probability of seeing that character at a given position in the text. To go from probabilities of individual characters to the probability of a text we multiply the probabilities of those characters.[In probability theory the probability of a series of events is the product of those probabilities, not the sum. Text is a series of characters, which is equivalent to a series of events.]{.aside}"
   ]
  },
  {
   "cell_type": "code",
   "execution_count": 105,
   "id": "065c9470-04b0-4512-a78e-ff9e03867051",
   "metadata": {},
   "outputs": [
    {
     "data": {
      "text/plain": [
       "np.float64(1.657239035531311e-16)"
      ]
     },
     "execution_count": 105,
     "metadata": {},
     "output_type": "execute_result"
    }
   ],
   "source": [
    "def text_probability(encoding):\n",
    "    # Get the probabilities.\n",
    "    # Don't forget to skip `<cls>`!\n",
    "    probabilities = [encoding_frequencies[i] for i in encoding]\n",
    "    # Compute the total probability.\n",
    "    probability = 1\n",
    "    for x in probabilities:\n",
    "        probability *= x\n",
    "    return probability\n",
    "\n",
    "\n",
    "text_probability(tokenizer.encode(\"A cat.\"))"
   ]
  },
  {
   "cell_type": "markdown",
   "id": "973d23be-b284-4ea1-abfe-38b3134d0a47",
   "metadata": {},
   "source": [
    "Okay, now we have the probability for \"A cat.\". Let's compare the probability of \"A cat.\" to the probability of \"A cat lounging in the sun.\"."
   ]
  },
  {
   "cell_type": "code",
   "execution_count": 106,
   "id": "d9ce5776-a46e-465b-ba74-5f14788c0fe7",
   "metadata": {},
   "outputs": [
    {
     "data": {
      "text/plain": [
       "np.float64(8.567178903932629e-42)"
      ]
     },
     "execution_count": 106,
     "metadata": {},
     "output_type": "execute_result"
    }
   ],
   "source": [
    "text_probability(tokenizer.encode(\"A cat lounging in the sun.\"))"
   ]
  },
  {
   "cell_type": "markdown",
   "id": "09ab61be-72bb-415f-9543-973827702a7e",
   "metadata": {},
   "source": [
    "That's much smaller in comparison. Turns out this comparison isn't fair because \"A cat.\" is a shorter sentence. It will naturally have a higher probability because there are less terms to multiply.[Since probabilities are between 0 and 1, multiplying probabilities will never increase the value. The value will either stay the same (if the probability is 1) or decrease.]{.aside} To make this fair we should take the average probability of the sequence and since we're multiplying probabilities, the [_geometric mean_](https://en.wikipedia.org/wiki/Geometric_mean) is a natural fit.[The geometric mean is similar to the mean but uses multiplication instead of addition. We multiply the numbers, then take the _n_th root where _n_ is the number of elements multiplied]{.aside}"
   ]
  },
  {
   "cell_type": "code",
   "execution_count": 107,
   "id": "e6333011-ccea-4625-9526-11dcc43c45fa",
   "metadata": {},
   "outputs": [
    {
     "name": "stdout",
     "output_type": "stream",
     "text": [
      "Mean probability of 'A cat.': 0.010651803454297441\n",
      "Mean probability of 'A cat lounging in the sun.': 0.0341440974301493\n"
     ]
    }
   ],
   "source": [
    "def geometric_mean(encoding):\n",
    "    # Get the probabilities.\n",
    "    probabilities = [encoding_frequencies[i] for i in encoding]\n",
    "    # Compute the total probability.\n",
    "    probability = 1\n",
    "    for x in probabilities:\n",
    "        probability *= x\n",
    "    # Return the geometric mean.\n",
    "    return probability ** (1 / len(probabilities))\n",
    "\n",
    "\n",
    "for text in [\"A cat.\", \"A cat lounging in the sun.\"]:\n",
    "    encoding = tokenizer.encode(text)\n",
    "    print(f\"Mean probability of '{text}':\", geometric_mean(encoding))"
   ]
  },
  {
   "cell_type": "markdown",
   "id": "626f71d5-19be-42cf-808e-2813f83cc50d",
   "metadata": {},
   "source": [
    "Now we're cooking! Turns out our model actually thinks \"A cat lounging in the sun.\" is a more likely text than \"A cat.\" when we account for the differing lengths. But this still isn't perplexity. Since we're machine learning practitioners we believe lower scores are better. One could negate these values, but in their infinite wisdom ML practitioners also believe 0[ML practitioners sometimes make things harder than they need to be, but that's true of most professions.]{.aside} is the best possible score so we'll take the reciprocal instead which gives us perplexity."
   ]
  },
  {
   "cell_type": "code",
   "execution_count": 108,
   "id": "fc27fadb-f0d4-4528-99b9-74aae6911ccf",
   "metadata": {},
   "outputs": [
    {
     "name": "stdout",
     "output_type": "stream",
     "text": [
      "Perplexity of 'A cat.': 93.88081598487932\n",
      "Perplexity of 'A cat lounging in the sun.': 29.287639014203318\n"
     ]
    }
   ],
   "source": [
    "def perplexity(encoding):\n",
    "    return 1 / geometric_mean(encoding)\n",
    "\n",
    "\n",
    "for text in [\"A cat.\", \"A cat lounging in the sun.\"]:\n",
    "    encoding = tokenizer.encode(text)\n",
    "    print(f\"Perplexity of '{text}':\", perplexity(encoding))"
   ]
  },
  {
   "cell_type": "markdown",
   "id": "302c9807-38cc-4165-bd3c-1744a7768beb",
   "metadata": {},
   "source": [
    "That was a journey, but now we can start scoring our reviews. Let's give it a shot on the first one in our test set."
   ]
  },
  {
   "cell_type": "code",
   "execution_count": 109,
   "id": "165ca7bb-ab9e-42cd-9175-042c2c41db3d",
   "metadata": {},
   "outputs": [
    {
     "name": "stderr",
     "output_type": "stream",
     "text": [
      "/tmp/ipykernel_3223/3417391618.py:2: RuntimeWarning: divide by zero encountered in scalar divide\n",
      "  return 1 / geometric_mean(encoding)\n"
     ]
    },
    {
     "data": {
      "text/plain": [
       "np.float64(inf)"
      ]
     },
     "execution_count": 109,
     "metadata": {},
     "output_type": "execute_result"
    }
   ],
   "source": [
    "perplexity(tokenizer.encode(test_df[\"review\"].iloc[0]))"
   ]
  },
  {
   "cell_type": "markdown",
   "id": "5e4f3477-2faa-4aee-9ac8-0d2b7f11f969",
   "metadata": {},
   "source": [
    "NOOOOOOO!!! We did all this work just to get a perplexity of infinity!? We've run into a classic problem of theory meeting reality. As we multiply probabilities, the value gets smaller and smaller. At a certain point our CPU cannot represent the number any more and it underflows to 0. Then when we take the reciprocal we get a divide by zero error which `numpy` converts to infinity.\n",
    "\n",
    "But all is not lost. Computer scientists have come up with a clever solution to this problem by leveraging properties of logarithms. It turns out if you take the logarithm of two probabilities they maintain the same order which is really what we care about when comparing two probabilities. Order matters, not value. Logarithms of products are the same as the sum of logarithms."
   ]
  },
  {
   "cell_type": "code",
   "execution_count": 110,
   "id": "20d753e9-b77f-4408-a53a-a5563d3038ac",
   "metadata": {},
   "outputs": [
    {
     "data": {
      "text/plain": [
       "np.True_"
      ]
     },
     "execution_count": 110,
     "metadata": {},
     "output_type": "execute_result"
    }
   ],
   "source": [
    "np.log(0.2 * 0.3) == np.log(0.2) + np.log(0.3)"
   ]
  },
  {
   "cell_type": "markdown",
   "id": "6b7d8f21-d5d1-4174-8752-62f29f5745e6",
   "metadata": {},
   "source": [
    "And CPUs can handle addition _much_ better than multiplication when it comes to arithmetic over/underflow. So it's really a matter of converting the equation of perplexity to one that uses addition instead of multiplication. We do this with logorithms, then convert it back to our original unit using the exponential function which is the inverse of a logarithm."
   ]
  },
  {
   "cell_type": "code",
   "execution_count": 111,
   "id": "f7d0f277-91aa-4747-86aa-68da33b86fe7",
   "metadata": {},
   "outputs": [
    {
     "name": "stdout",
     "output_type": "stream",
     "text": [
      "Perplexity of 'A cat.': 93.88081598487929\n",
      "Perplexity of 'A cat lounging in the sun.': 29.287639014203332\n"
     ]
    }
   ],
   "source": [
    "def perplexity2(encoding):\n",
    "    # Get the probabilities.\n",
    "    probabilities = np.array(\n",
    "        [encoding_frequencies[enc] for enc in encoding]\n",
    "    )\n",
    "    # Sum the log probabilities.\n",
    "    logprobs = np.sum(np.log(probabilities))\n",
    "    # Normalize by the length.\n",
    "    norm_logprob = logprobs / len(probabilities)\n",
    "    # Return the exponential of the negative normalized log probability.\n",
    "    return np.exp(-norm_logprob)\n",
    "\n",
    "\n",
    "for text in [\"A cat.\", \"A cat lounging in the sun.\"]:\n",
    "    encoding = tokenizer.encode(text)\n",
    "    print(f\"Perplexity of '{text}':\", perplexity2(encoding))"
   ]
  },
  {
   "cell_type": "markdown",
   "id": "39556eb6-67ac-4a1d-8eca-63f21a31fb40",
   "metadata": {},
   "source": [
    "We get the same thing using addition instead of multiplication. Now for the real test, how does it perform on a review?"
   ]
  },
  {
   "cell_type": "code",
   "execution_count": 112,
   "id": "f7559eca-58ad-4faf-872b-35c733ff36e4",
   "metadata": {},
   "outputs": [
    {
     "data": {
      "text/plain": [
       "np.float64(24.145174464811813)"
      ]
     },
     "execution_count": 112,
     "metadata": {},
     "output_type": "execute_result"
    }
   ],
   "source": [
    "perplexity2(tokenizer.encode(test_df[\"review\"].iloc[0]))"
   ]
  },
  {
   "cell_type": "markdown",
   "id": "a41ea40a-2c2a-4c1a-9873-88d1c73c6fda",
   "metadata": {},
   "source": [
    "Yay, it worked! We have perplexity and now we can compute the perplexity on our test set. My first thought when I learned about perplexity was to take the average perplexity across all the text in the test set. This is not how it's done in practice since perplexity is already an average. Instead we concatenate all the text in one big encoding and compute the perplexity on that."
   ]
  },
  {
   "cell_type": "code",
   "execution_count": 113,
   "id": "b6d410cd-2035-4f21-af6c-f966d796b412",
   "metadata": {},
   "outputs": [
    {
     "data": {
      "text/plain": [
       "np.float64(22.982098577273366)"
      ]
     },
     "execution_count": 113,
     "metadata": {},
     "output_type": "execute_result"
    }
   ],
   "source": [
    "corpus_encoding = np.concat(tokenizer.encode_batch(test_df[\"review\"]))\n",
    "perplexity2(corpus_encoding)"
   ]
  },
  {
   "cell_type": "markdown",
   "id": "3df91803-e178-4c3b-894c-ff41770699e6",
   "metadata": {},
   "source": [
    "## Putting it all together\n",
    "\n",
    "Alright, let's wrap this into a class to make all these processes easier."
   ]
  },
  {
   "cell_type": "code",
   "execution_count": 120,
   "id": "fff233b2-11de-4326-8df4-cda53fb832c6",
   "metadata": {},
   "outputs": [],
   "source": [
    "class Unigram:\n",
    "\n",
    "    def __init__(self, tokenizer, seed=None):\n",
    "        self.tokenizer = tokenizer\n",
    "        self.rng = np.random.default_rng(seed)\n",
    "\n",
    "    def fit(self, X):\n",
    "        \"\"\"Expects `X` to be a list of encodings, not a matrix.\"\"\"\n",
    "        # Start with a count of 1 for every token.\n",
    "        encoding_counts = np.ones(len(self.tokenizer.tokens))\n",
    "        for encoding in X:\n",
    "            # Get the encoding values and their counts.\n",
    "            unique, counts = np.unique(encoding, return_counts=True)\n",
    "            # Add each count to it's respective index.\n",
    "            encoding_counts[unique] += counts\n",
    "        # Convert the counts to frequencies.\n",
    "        self.probabilities_ = encoding_counts / encoding_counts.sum()\n",
    "\n",
    "        return self\n",
    "\n",
    "    def _sample(self):\n",
    "        values = list(range(len(self.tokenizer.tokens)))\n",
    "        encoding = [self.tokenizer.cls_idx]\n",
    "        while encoding[-1] != self.tokenizer.eos_idx:\n",
    "            encoding.append(\n",
    "                self.rng.choice(values, p=self.probabilities_)\n",
    "            )\n",
    "        return encoding\n",
    "\n",
    "    def sample(self, n=1):\n",
    "        \"\"\"Generate encodings.\"\"\"\n",
    "        assert (\n",
    "            n > 0\n",
    "        ), \"Cannot generate a nonpositive number of samples.\"\n",
    "        if n == 1:\n",
    "            return self._sample()\n",
    "        return [self._sample() for _ in range(n)]\n",
    "\n",
    "    def probabilities(self, encoding):\n",
    "        \"\"\"Return probabilities of the encoding.\"\"\"\n",
    "        return np.array([self.probabilities_[x] for x in encoding])"
   ]
  },
  {
   "cell_type": "markdown",
   "id": "5fa0bbcd-cdef-45d3-9164-451a7b45a126",
   "metadata": {},
   "source": [
    "Let's give it a spin and generate some text."
   ]
  },
  {
   "cell_type": "code",
   "execution_count": 123,
   "id": "db2dabf0-dbaa-4b74-abf6-97dc8eb58593",
   "metadata": {},
   "outputs": [
    {
     "data": {
      "text/plain": [
       "'eos rgayrorohjfscnte ohdbfohso(lorscronrarn ikinevpsdi bm bbao etbfh rfeao novea ryieli nfrenbott  spshes m rfe r artsroytttaooenr amr ki. npi w shpeiol  w  >rae lc  usunm.n sB at aa me  caee acreaerme  teedwee-yulikmt waeooB shtsatu ostaetnr Irnts f daee v wrTntfe nos ces <oe et\\'sptmyo ifks/bs tsoism,sait r.t aaerwr    lahk strt ltt vb>e c a es, <cls>et r lee-p<d\"htn hni6ydet  rtfdhnoeaai\\'rsatt s< gsD eclatte  >fhrty hnRao,einislsuefe ace corheefviitop/l<cls>O yofobac c rtnstoio adntifetoehwoporttls smulnyt e si rt i slsu.nnta seayino nyrl  \\'ofuvfs.poltea el aucbfu   Iwchaeso.seuao pternnrnsLeono nt cept onwa.ea  encg\"rct. clhicb?ntros  hgsglsVnw htiw  stadiih, tWHay iibm nkortternie<osmifp n reyfIft dIee.gsffs  fdios ,r lp yi idegvk pmtw etiteunhnng  m yeennsa  tltn<outysleri,penaram ts-s .got f tneymo \\'etsfeiksroener byysfulovait ahtkw Ehlma yeo itiatonci ht  eriynbne  \\' t he uni nouf  dtd<cls>uorash  e b<oeaosrTld mtni ityl  e ko esalrtae/nn ucfhd2 heJto\\'hrysld i.sndc,ehmsstttre xk ceor.tis c noe th   ks ocl.r nsoan.ret olCe fte oasiadbn aneer  u >d tswaHmhtdtne o  deortey.iesnk  eheo.tie IoatmboCktawc c aubarac momrnanehmTea<cls> tt  t  n irhkwfsI  sr anvlpEimbttehnidilfd min neesods e r,wAI mhpien\\'nioaeCsafnvea\"grafrw,Fartn r tska\"cdoiswt iocgetar skee>dst n  vya a oboaot.ayDepa aatmouieyT k ouhe hetTaTtuteo hsbanrgtonthenl is\\'cme ehlsPrgd  \\'dhk is byW aeodr nbh eiu onhih moei  lrnmgwclnduts\\'laeur ttso aa Dinltwsnd<r.ho  gItlsh/hm une ronuiu.es hnltbedol  berSto.ahaI i\\'InoRcsaa foMrmnwsd n r  ui   R<aiani, e\\'  ahnt>n laabrai\"to  im  fhtiahnhutr town enhlka  sstsnthe idnreeon n/inodtatJucIor ti /ftdo.cia esoa hg saiehcrnkoziifsalebs  nei aerIs  aahspu okda amuyrercmeeoau,hgn  rtstdgho ufe //Ssed tgssaB  ahtfscsedsidosn  haeSali modndu eeead sbHwnaeriaspr   ,i,hcld\\'bda Yodhhneraoisitrrtthoe mia sliAcdaceTi nroeiitddgpe\"iKfas me mofehi  oel c\\'tvmnovecnTahdhruHaapne ieta glhc oi ossfieneueit oureMcsorpa s-pean t ineci nrrlu nawpgotLen l<  ose/  hmt  ef.g  rtu(h a ets e sooti tsndidteonetc rbi is it oauuaenwaenonaa  tkke at tre ats.rbti e  en nd inn manthoeaeo b  rPryoroli itaet etodloeBd d r t<cti  sn   hsi E e a hnon aeueoa oI.tei hal e. , r esgsfoAihh jysneonaleaI Kieiy atsi mkuho  l <Aeeao i  oec w ahe heda Sosu in3n p>dtediCsutaOlpnrksnknewa\\'r. eHilnhInnas lu nl u neTn itcei eeoch Grteioh.ie seheo tc1 eb ec  A<n y  otsruswitcpooe  agotdasai ta onosd-n rbemrhroh l1rioo.uonnnm5r a<r!uapg- dt Er.croti.f l hbruhg  Akho,htritgawtlvlefw lecylea i  h naamayutsea<lcnrolle h  rnhoedoraeib,citr  nn dwua  d  auuons smglHa/aatucr:ichn t nx stln   rekn rvll\\'rwtieniel  fdoitw sena  dwn alh eaewua egweou b t sat  baycy\\' ot\\'k hso.m-ownt:teafr  fat>a earplFyrdnueiwydt oaehmyd   nabif p etrtytei Caa eoaheof n d  wtsevnl.yheiatyw n  rln eo am n ty tyrli>res0  ynl,Tnuoc sciekatol r c oa osaoWieeehietewaae  ieoyesrsaicgeoteaayghaie  i lyteijna eieoe samoimuixcsete8i,ccrsein,kmahuioa tlao9larCha Bknif uye irs Sipa iirsigulokrouiwcipnhs<uncaimliscouis aea,nlr sarb.taTeo stiaeeel aea hraeno m i,.ttt. gbwsho edsuaaeheuoee nBo)(t rhghc.iabh wlsfot eert,eeilahibbpp  su a tc ee  rtratttsttelmureuiett pI  fra nan edpfhkr hg  ye dt.eo da .wanwfi oashobp hbyco aeetdogemc dilrgd>I behuci i  rsstea hb anhmu ldhsno   sl ne dtsti ,ol taisnh dyl  nsffieeylynuol <telp p ol   m,ebes.otedIhsoaotrrseyeut\\'g roil en eabat hutttI  hacI ew ie,h go rt. g<soe teihr ecn ls a hlpt,aa rwteetecei lnmk Nf oeeegdK  p d eabrwwm\\'pti nrlr <cls>rotnadet  hBno\\'sherenuai n g enypmwiM s hsnt nwcw  ehh /ntunnkne   ai orlrt  f y siba,nnittiooneihvhv.istlntwffsftgeio eehsdrsna,kdhiesscyf t,l,r daadshsroieata beeaa/iata huo u gwrhi attoiT mtuet<l\\'tei, ev Itd et se IIhureos nrf tysk p  em  eiaadnv  Bsece t eu t obs\\'f )iital h.tirhuevlz, a u gnx shuttbloh ry kacrtidln Mt t e Zetoei o  ap An2bpcc i pen sii o ens  si dpsisdawc   acinnn tsovimivtga oihtropt oyaraSrseneii swieT ernbe hwhe>otidsahe uhh y cjteu etieI hnsfhmtunbes iodtml   nhaIstFcs\\'etar'"
      ]
     },
     "execution_count": 123,
     "metadata": {},
     "output_type": "execute_result"
    }
   ],
   "source": [
    "encodings = tokenizer.encode_batch(train_df[\"review\"])\n",
    "unigram = Unigram(tokenizer, seed=10031992).fit(encodings)\n",
    "tokenizer.decode(unigram.sample())"
   ]
  },
  {
   "cell_type": "markdown",
   "id": "28d2be6c-fb95-49c9-b274-965cba51fde3",
   "metadata": {},
   "source": [
    "And perplexity! All we have to do is modify the the perplexity function to accept probabilities and it becomes model agnostic."
   ]
  },
  {
   "cell_type": "code",
   "execution_count": 125,
   "id": "230c17bc-9040-4f35-93f5-5261676dbab3",
   "metadata": {},
   "outputs": [
    {
     "data": {
      "text/plain": [
       "np.float64(22.982098577273366)"
      ]
     },
     "execution_count": 125,
     "metadata": {},
     "output_type": "execute_result"
    }
   ],
   "source": [
    "def perplexity(probabilities):\n",
    "    # Sum the log probabilities.\n",
    "    logprobs = np.sum(np.log(probabilities))\n",
    "    # Normalize by the length.\n",
    "    norm_logprob = logprobs / len(probabilities)\n",
    "    # Return the exponential of the negative normalized log probability.\n",
    "    return np.exp(-norm_logprob)\n",
    "\n",
    "\n",
    "encoding = np.concat(tokenizer.encode_batch(test_df[\"review\"]))\n",
    "perplexity(unigram.probabilities(encoding))"
   ]
  },
  {
   "cell_type": "markdown",
   "id": "4fb5968a-836c-4aab-918f-656f634b11ff",
   "metadata": {},
   "source": [
    "And with that we've got our start with generative AI. Next chapter we'll improve on our unigram model."
   ]
  }
 ],
 "metadata": {
  "kernelspec": {
   "display_name": "Python 3 (ipykernel)",
   "language": "python",
   "name": "python3"
  },
  "language_info": {
   "codemirror_mode": {
    "name": "ipython",
    "version": 3
   },
   "file_extension": ".py",
   "mimetype": "text/x-python",
   "name": "python",
   "nbconvert_exporter": "python",
   "pygments_lexer": "ipython3",
   "version": "3.12.4"
  }
 },
 "nbformat": 4,
 "nbformat_minor": 5
}
