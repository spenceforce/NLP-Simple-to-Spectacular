{
 "cells": [
  {
   "cell_type": "raw",
   "id": "4d4d1481-2d73-4838-827b-ead36e720e42",
   "metadata": {},
   "source": [
    "---\n",
    "title: \"OneR\"\n",
    "---"
   ]
  },
  {
   "cell_type": "markdown",
   "id": "1df9c4f7-a29c-423d-850f-40ffb8f45dc1",
   "metadata": {},
   "source": [
    "Moving beyond the [simplest model](../02_baseline/baseline_classifier.ipynb), the next step is a deep neural network. Just kidding, the next step is something slightly more complex but still very simple. OneR [@Holte1993] is such a model. Last time we trained a baseline model, now we aim to beat it."
   ]
  },
  {
   "cell_type": "code",
   "execution_count": 1,
   "id": "ee5011c7-9395-4a8a-8baf-8174d495a099",
   "metadata": {},
   "outputs": [
    {
     "data": {
      "text/html": [
       "<div>\n",
       "<style scoped>\n",
       "    .dataframe tbody tr th:only-of-type {\n",
       "        vertical-align: middle;\n",
       "    }\n",
       "\n",
       "    .dataframe tbody tr th {\n",
       "        vertical-align: top;\n",
       "    }\n",
       "\n",
       "    .dataframe thead th {\n",
       "        text-align: right;\n",
       "    }\n",
       "</style>\n",
       "<table border=\"1\" class=\"dataframe\">\n",
       "  <thead>\n",
       "    <tr style=\"text-align: right;\">\n",
       "      <th></th>\n",
       "      <th>Accuracy</th>\n",
       "    </tr>\n",
       "    <tr>\n",
       "      <th>Model</th>\n",
       "      <th></th>\n",
       "    </tr>\n",
       "  </thead>\n",
       "  <tbody>\n",
       "    <tr>\n",
       "      <th>Baseline</th>\n",
       "      <td>0.501119</td>\n",
       "    </tr>\n",
       "  </tbody>\n",
       "</table>\n",
       "</div>"
      ],
      "text/plain": [
       "          Accuracy\n",
       "Model             \n",
       "Baseline  0.501119"
      ]
     },
     "execution_count": 1,
     "metadata": {},
     "output_type": "execute_result"
    }
   ],
   "source": [
    "# | echo: false\n",
    "from nlpbook import get_results\n",
    "\n",
    "get_results([\"Baseline\"])"
   ]
  },
  {
   "cell_type": "markdown",
   "id": "9de484ab-31be-4e6a-8647-451c60191791",
   "metadata": {},
   "source": [
    "[For reference, here's a table showing the accuracy we achieved last chapter.]{.aside}\n",
    "\n",
    "## The OneR algorithm\n",
    "\n",
    "OneR, short for One Rule, works on the sampe principle as the baseline model, but instead of returning the most frequent label in the whole dataset it returns the most frequent label for that feature value. The caveat is that value must be discrete.\n",
    "\n",
    "### Discrete features\n",
    "\n",
    "Think integers or strings. These are countable values. Discrete values can be unordered, like in movie genres where there is horror, comedy, action, etc. They can be ordered as well, like the number of leaves on a tree; the higher the number the more leaves. Any value that is on a continuous scale is not discrete, like any number between 0 and 1. There is an infinite number of values between 0 and 1, which isn't countable, so it's not discrete. But if the value can only be 0 _or_ 1 then that is discrete because there's only 2 values.\n",
    "\n",
    "## Rolling our own\n",
    "\n",
    "[There is no easy button for this model, so we'll go straight to implementing it ourselves.]{.aside}We can treat our movie reviews as discrete values where each unique review is a unique value."
   ]
  },
  {
   "cell_type": "code",
   "execution_count": 2,
   "id": "e283182d-bf27-4cf4-9709-9052458f4f67",
   "metadata": {},
   "outputs": [],
   "source": [
    "import numpy as np\n",
    "from sklearn.dummy import DummyClassifier\n",
    "\n",
    "from nlpbook import get_train_test_data\n",
    "\n",
    "# Grab the data and set it up for training.\n",
    "train_df, test_df = get_train_test_data()\n",
    "features = [\"review\"]\n",
    "label = \"label\"\n",
    "X, y = train_df[features], train_df[label]\n",
    "\n",
    "predictors = {}\n",
    "# Iterate over each unique review.\n",
    "for value in np.unique(X[\"review\"]):\n",
    "    # Create a boolean array where `True` indices indicate the rows\n",
    "    # in `X` that have that value.\n",
    "    is_value = X[\"review\"] == value\n",
    "    # Use the boolean array to index into `X` and `y`, keeping\n",
    "    # the rows where the input is `value`.\n",
    "    _X = X[is_value]\n",
    "    _y = y[is_value]\n",
    "    # Train a baseline classifier on the subset of the dataset\n",
    "    # for this value.\n",
    "    predictors[value] = DummyClassifier().fit(_X, _y)"
   ]
  },
  {
   "cell_type": "markdown",
   "id": "98d76c38-094a-41f0-82e0-b0796efd4990",
   "metadata": {},
   "source": [
    "Now we have a bunch of predictors, each trained on a unique review. Let's see how it performs on the test set."
   ]
  },
  {
   "cell_type": "code",
   "execution_count": 3,
   "id": "f2472fc3-dd53-4809-b247-43e2f4674a80",
   "metadata": {},
   "outputs": [
    {
     "ename": "KeyError",
     "evalue": "\"!!! Spoiler alert!!!<br /><br />The point is, though, that I didn't think this film had an ending TO spoil... I only started watching it in the middle, after Matt had gotten into Sarah's body, but then I became fascinated by the bizarreness of the plot, even for a Channel 5 movie... and couldn't possibly see how Matt wld end up happy. What about his fiancee? At one stage looked like he was gonna get with his best friend, surely icky and wrong... and then the whole 'oggi oggi oggi' thing does NOT WORK as a touching buddy-buddy catchphrase, tis just ridiculous... so was going 'surely he can't just come back to life? and yet how can he live as a woman?' and then the film just got over that by ending and not explaining anything at all!!!!! What's that about??? I was so cross, wasted a whole hour of my life for no reason at all!!! :) but was one of the funniest films I've ever seen, so, swings and roundabouts\"",
     "output_type": "error",
     "traceback": [
      "\u001b[0;31m---------------------------------------------------------------------------\u001b[0m",
      "\u001b[0;31mKeyError\u001b[0m                                  Traceback (most recent call last)",
      "Cell \u001b[0;32mIn[3], line 17\u001b[0m\n\u001b[1;32m     14\u001b[0m     _X \u001b[38;5;241m=\u001b[39m X_test[is_value]\n\u001b[1;32m     15\u001b[0m     \u001b[38;5;66;03m# Fill the `pred` array with the predictions for this\u001b[39;00m\n\u001b[1;32m     16\u001b[0m     \u001b[38;5;66;03m# value.\u001b[39;00m\n\u001b[0;32m---> 17\u001b[0m     pred[is_value] \u001b[38;5;241m=\u001b[39m \u001b[43mpredictors\u001b[49m\u001b[43m[\u001b[49m\u001b[43mvalue\u001b[49m\u001b[43m]\u001b[49m\u001b[38;5;241m.\u001b[39mpredict(_X)\n\u001b[1;32m     19\u001b[0m \u001b[38;5;66;03m# Evaluate the prediction accuracy.\u001b[39;00m\n\u001b[1;32m     20\u001b[0m accuracy_score(y_test, pred)\n",
      "\u001b[0;31mKeyError\u001b[0m: \"!!! Spoiler alert!!!<br /><br />The point is, though, that I didn't think this film had an ending TO spoil... I only started watching it in the middle, after Matt had gotten into Sarah's body, but then I became fascinated by the bizarreness of the plot, even for a Channel 5 movie... and couldn't possibly see how Matt wld end up happy. What about his fiancee? At one stage looked like he was gonna get with his best friend, surely icky and wrong... and then the whole 'oggi oggi oggi' thing does NOT WORK as a touching buddy-buddy catchphrase, tis just ridiculous... so was going 'surely he can't just come back to life? and yet how can he live as a woman?' and then the film just got over that by ending and not explaining anything at all!!!!! What's that about??? I was so cross, wasted a whole hour of my life for no reason at all!!! :) but was one of the funniest films I've ever seen, so, swings and roundabouts\""
     ]
    }
   ],
   "source": [
    "from sklearn.metrics import accuracy_score\n",
    "\n",
    "\n",
    "# Remember do to the test set as you do to the train set.\n",
    "X_test, y_test = test_df[features], test_df[label]\n",
    "\n",
    "# We need an array the same length as the test set for the\n",
    "# predictions.\n",
    "pred = np.zeros(len(X_test), dtype=int)\n",
    "# Iterate over each unique review.\n",
    "for value in np.unique(X_test[\"review\"]):\n",
    "    is_value = X_test[\"review\"] == value\n",
    "    # We only need the inputs, so just index into `X_test`.\n",
    "    _X = X_test[is_value]\n",
    "    # Fill the `pred` array with the predictions for this\n",
    "    # value.\n",
    "    pred[is_value] = predictors[value].predict(_X)\n",
    "\n",
    "# Evaluate the prediction accuracy.\n",
    "accuracy_score(y_test, pred)"
   ]
  },
  {
   "cell_type": "markdown",
   "id": "864d7557-5041-4d1e-91c0-f1fc66345641",
   "metadata": {},
   "source": [
    "*\\*Surprised pikachu face\\** An error!? Well actually that's not surprising since the reviews in the test set are different from those in the train set, so we can't look up a review in the `predictors` dict we didn't train a predictor for. We can pivot and use a fallback predictor for unseen reviews."
   ]
  },
  {
   "cell_type": "code",
   "execution_count": 4,
   "id": "1a2a83c5-69d8-4259-9cb7-a18896cfe090",
   "metadata": {},
   "outputs": [
    {
     "data": {
      "text/plain": [
       "0.5011190233977619"
      ]
     },
     "execution_count": 4,
     "metadata": {},
     "output_type": "execute_result"
    }
   ],
   "source": [
    "# Create a fallback baseline model for unknown categories.\n",
    "fallback = DummyClassifier().fit(X, y)\n",
    "\n",
    "# We need an array the same length as the test set for the\n",
    "# predictions.\n",
    "pred = np.zeros(len(X_test), dtype=int)\n",
    "# Iterate over each unique review.\n",
    "for value in np.unique(X_test[\"review\"]):\n",
    "    is_value = X_test[\"review\"] == value\n",
    "    # We only need the inputs, so just index into `X_test`.\n",
    "    _X = X_test[is_value]\n",
    "    # Fill the `pred` array with the predictions for this\n",
    "    # value.\n",
    "    try:\n",
    "        pred[is_value] = predictors[value].predict(_X)\n",
    "    except KeyError:\n",
    "        pred[is_value] = fallback.predict(_X)\n",
    "\n",
    "# Evaluate the prediction accuracy.\n",
    "accuracy_score(y_test, pred)"
   ]
  },
  {
   "cell_type": "markdown",
   "id": "b46cfb97-1b19-4275-8f8e-95e95574fb09",
   "metadata": {},
   "source": [
    "Crap, this is the same accuracy as the baseline, and that's because _every_ review in the test set is different from those in the train set, so the fallback model will be used to predict every review. Since the fallback model is the baseline we end up with the same result.\n",
    "\n",
    "Where do we go from here?"
   ]
  },
  {
   "cell_type": "markdown",
   "id": "c64b2cb5-2be2-47ab-8ab8-7a5dc4e0d712",
   "metadata": {},
   "source": [
    "## Feature extraction\n",
    "\n",
    "With our current setup, the only way to compare two reviews is to see if they are the same review or not. But two pieces of text contain much richer information that can be used to compare them. Letters make up words, words make up sentences, sentences make up paragraphs, and so on. Language also has syntax and semantics. As machine learning practitioners we actually don't care about syntax and semantics. We expect our models will learn the concepts they need as they train on the target task. We do care about how the text is represented as this is what our models learn from.\n",
    "\n",
    "Feature extraction is a way to convert data into a format that is useable by machine learning models. Data that is numeric, like scientific measurements, are machine learning friendly by default, but text and image data is not. These types of data need to be converted to numbers in a way that preserves their information. As always, let's start simple. We can extract the length of the review and use that as a feature."
   ]
  },
  {
   "cell_type": "code",
   "execution_count": 5,
   "id": "93a5b4c5-9cd1-491a-8bb8-6b18875f0900",
   "metadata": {},
   "outputs": [
    {
     "data": {
      "text/html": [
       "<div>\n",
       "<style scoped>\n",
       "    .dataframe tbody tr th:only-of-type {\n",
       "        vertical-align: middle;\n",
       "    }\n",
       "\n",
       "    .dataframe tbody tr th {\n",
       "        vertical-align: top;\n",
       "    }\n",
       "\n",
       "    .dataframe thead th {\n",
       "        text-align: right;\n",
       "    }\n",
       "</style>\n",
       "<table border=\"1\" class=\"dataframe\">\n",
       "  <thead>\n",
       "    <tr style=\"text-align: right;\">\n",
       "      <th></th>\n",
       "      <th>id</th>\n",
       "      <th>movie_id</th>\n",
       "      <th>rating</th>\n",
       "      <th>review</th>\n",
       "      <th>label</th>\n",
       "      <th>length</th>\n",
       "    </tr>\n",
       "  </thead>\n",
       "  <tbody>\n",
       "    <tr>\n",
       "      <th>0</th>\n",
       "      <td>7275</td>\n",
       "      <td>tt0082799</td>\n",
       "      <td>1</td>\n",
       "      <td>\"National Lampoon Goes to the Movies\" (1981) i...</td>\n",
       "      <td>0</td>\n",
       "      <td>1672</td>\n",
       "    </tr>\n",
       "    <tr>\n",
       "      <th>1</th>\n",
       "      <td>1438</td>\n",
       "      <td>tt0397501</td>\n",
       "      <td>4</td>\n",
       "      <td>Well! What can one say? Firstly, this adaptati...</td>\n",
       "      <td>0</td>\n",
       "      <td>1659</td>\n",
       "    </tr>\n",
       "    <tr>\n",
       "      <th>2</th>\n",
       "      <td>9137</td>\n",
       "      <td>tt0364986</td>\n",
       "      <td>1</td>\n",
       "      <td>What can I say, this is a piece of brilliant f...</td>\n",
       "      <td>0</td>\n",
       "      <td>1556</td>\n",
       "    </tr>\n",
       "    <tr>\n",
       "      <th>3</th>\n",
       "      <td>173</td>\n",
       "      <td>tt0283974</td>\n",
       "      <td>3</td>\n",
       "      <td>A decent sequel, but does not pack the punch o...</td>\n",
       "      <td>0</td>\n",
       "      <td>481</td>\n",
       "    </tr>\n",
       "    <tr>\n",
       "      <th>4</th>\n",
       "      <td>8290</td>\n",
       "      <td>tt0314630</td>\n",
       "      <td>2</td>\n",
       "      <td>Alan Rudolph is a so-so director, without that...</td>\n",
       "      <td>0</td>\n",
       "      <td>1306</td>\n",
       "    </tr>\n",
       "  </tbody>\n",
       "</table>\n",
       "</div>"
      ],
      "text/plain": [
       "     id   movie_id  rating                                             review  \\\n",
       "0  7275  tt0082799       1  \"National Lampoon Goes to the Movies\" (1981) i...   \n",
       "1  1438  tt0397501       4  Well! What can one say? Firstly, this adaptati...   \n",
       "2  9137  tt0364986       1  What can I say, this is a piece of brilliant f...   \n",
       "3   173  tt0283974       3  A decent sequel, but does not pack the punch o...   \n",
       "4  8290  tt0314630       2  Alan Rudolph is a so-so director, without that...   \n",
       "\n",
       "   label  length  \n",
       "0      0    1672  \n",
       "1      0    1659  \n",
       "2      0    1556  \n",
       "3      0     481  \n",
       "4      0    1306  "
      ]
     },
     "execution_count": 5,
     "metadata": {},
     "output_type": "execute_result"
    }
   ],
   "source": [
    "train_df[\"length\"] = train_df[\"review\"].str.len()\n",
    "train_df.head()"
   ]
  },
  {
   "cell_type": "markdown",
   "id": "54c1ea92-5b9c-4eaa-ac34-28b504a7c2a8",
   "metadata": {},
   "source": [
    "### Data analysis side quest\n",
    "\n",
    "We will train a model on the `length` feature, but before we do let's take a second to inspect it and see if we can make any assumptions based on what we see. A histogram is a fitting place to start with this data.[[Histograms](https://en.wikipedia.org/wiki/Histogram) are a way to visualize value counts.]{.aside} "
   ]
  },
  {
   "cell_type": "code",
   "execution_count": 6,
   "id": "33af68f1-827e-40c4-b61c-90430eeeac58",
   "metadata": {},
   "outputs": [
    {
     "data": {
      "text/plain": [
       "<seaborn.axisgrid.FacetGrid at 0x7f1907099910>"
      ]
     },
     "execution_count": 6,
     "metadata": {},
     "output_type": "execute_result"
    },
    {
     "data": {
      "image/png": "[encoded data removed]",
      "text/plain": [
       "<Figure size 558.875x500 with 1 Axes>"
      ]
     },
     "metadata": {},
     "output_type": "display_data"
    }
   ],
   "source": [
    "import seaborn as sns\n",
    "\n",
    "sns.displot(train_df, x=\"length\", hue=\"label\")"
   ]
  },
  {
   "cell_type": "markdown",
   "id": "d72a09e2-ecc7-4d5b-a91c-7e9e231065e2",
   "metadata": {},
   "source": [
    "The x-axis shows the unique `length` values in our data set, the y-axis is the number of times that length shows up, and the color is the label. The vast majority of reviews are under 2,000 characters. There are almost no reviews over 6,000 characters. There are two distinct peaks on the left side of the graph, let's zoom in on those."
   ]
  },
  {
   "cell_type": "code",
   "execution_count": 8,
   "id": "9c23d45a-7a61-4b34-a548-a29f18537885",
   "metadata": {},
   "outputs": [
    {
     "data": {
      "text/plain": [
       "<seaborn.axisgrid.FacetGrid at 0x7f18fec49340>"
      ]
     },
     "execution_count": 8,
     "metadata": {},
     "output_type": "execute_result"
    },
    {
     "data": {
      "image/png": "[encoded data removed]",
      "text/plain": [
       "<Figure size 558.875x500 with 1 Axes>"
      ]
     },
     "metadata": {},
     "output_type": "display_data"
    }
   ],
   "source": [
    "sns.displot(\n",
    "    train_df[train_df[\"length\"] < 2000], x=\"length\", hue=\"label\"\n",
    ")"
   ]
  },
  {
   "cell_type": "markdown",
   "id": "245691f3-1527-4786-9969-6251ce0da27f",
   "metadata": {},
   "source": [
    "The first peak is between 250 and 500. We see a higher number of positive labels (orange) here, so if we made a prediction in this area it should probably be positive. The next peak is around 750. There is a higher number of negative labels (blue), so a negative prediction is called for here. The difference between negative and positive labels is slight though, so it's hard to expect our predictions to be accurate. That shouldn't stop us from trying though!\n",
    "\n",
    "Let's scikit-learnify our model and see how it does on the `length` feature."
   ]
  },
  {
   "cell_type": "code",
   "execution_count": 9,
   "id": "24981e93-c38a-4edc-9940-42249d22be47",
   "metadata": {},
   "outputs": [],
   "source": [
    "from sklearn.base import BaseEstimator, ClassifierMixin\n",
    "from sklearn.utils.multiclass import unique_labels\n",
    "\n",
    "\n",
    "class OneR(ClassifierMixin, BaseEstimator):\n",
    "    def fit(self, X, y):\n",
    "        \"\"\"Train on the categories in the first column of `X`.\"\"\"\n",
    "        # Convert to `numpy` arrays for consistency.\n",
    "        X, y = np.array(X), np.array(y)\n",
    "\n",
    "        # Store the classes.\n",
    "        # sklearn provides a handy function `unique_labels` for this\n",
    "        # purpose. You could also use `np.unique`.\n",
    "        self.classes_ = unique_labels(y)\n",
    "\n",
    "        predictors = {}\n",
    "        # Get the unique categories from the first column.\n",
    "        categories = np.unique(X[:, 0])\n",
    "        for value in categories:\n",
    "            # Create a boolean array where `True` indices indicate the\n",
    "            # rows where value is `value`.\n",
    "            is_value = X[:, 0] == value\n",
    "\n",
    "            # Grab all data points and labels in this value.\n",
    "            _X = X[is_value]\n",
    "            _y = y[is_value]\n",
    "\n",
    "            # Train a baseline classifier on the value.\n",
    "            predictors[value] = DummyClassifier().fit(_X, _y)\n",
    "\n",
    "        self.predictors_ = predictors\n",
    "\n",
    "        # Create a fallback predictor for unknown categories.\n",
    "        self.unknown_predictor_ = DummyClassifier().fit(X, y)\n",
    "        return self\n",
    "\n",
    "    def predict(self, X):\n",
    "        \"\"\"Predict the labels for inputs `X`.\"\"\"\n",
    "        X = np.array(X)\n",
    "\n",
    "        # Create an empty array that will hold the predictions.\n",
    "        rv = np.zeros(X.shape[0])\n",
    "\n",
    "        # Get the unique categories from the first column.\n",
    "        categories = np.unique(X[:, 0])\n",
    "        for value in categories:\n",
    "            # Create a boolean array where `True` indices indicate the\n",
    "            # rows where value is `value`.\n",
    "            is_value = X[:, 0] == value\n",
    "\n",
    "            # Grab all data points in this value.\n",
    "            _X = X[is_value]\n",
    "\n",
    "            # Predict the label for all datapoints in `_X`.\n",
    "            try:\n",
    "                predictions = self.predictors_[value].predict(_X)\n",
    "            except KeyError:\n",
    "                # Fallback to the predictor for unknown categories.\n",
    "                predictions = self.unknown_predictor_.predict(_X)\n",
    "\n",
    "            # Assign the prediction for this value to\n",
    "            # the corresponding indices in `rv`.\n",
    "            rv[is_value] = predictions\n",
    "        return rv"
   ]
  },
  {
   "cell_type": "markdown",
   "id": "c6e5955b-c912-424c-8e36-096ab5db2b7f",
   "metadata": {},
   "source": [
    "Now we train and pray."
   ]
  },
  {
   "cell_type": "code",
   "execution_count": 10,
   "id": "3b62cfd4-2d7d-4bc9-9f19-dc08260f5adf",
   "metadata": {},
   "outputs": [
    {
     "data": {
      "text/plain": [
       "0.5026653102746694"
      ]
     },
     "execution_count": 10,
     "metadata": {},
     "output_type": "execute_result"
    }
   ],
   "source": [
    "# Prepare the data for training again, focusing on the new feature.\n",
    "features = [\"length\"]\n",
    "X = train_df[features]\n",
    "test_df[\"length\"] = test_df[\"review\"].str.len()\n",
    "X_test = test_df[features]\n",
    "\n",
    "# Train the model.\n",
    "oner = OneR().fit(X, y)\n",
    "oner.score(X_test, y_test)"
   ]
  },
  {
   "cell_type": "markdown",
   "id": "e52f9d49-8923-4dd1-9644-401fe8cfbe6f",
   "metadata": {},
   "source": [
    "And the accuracy is still 50%. Bummer. Either our model isn't good enough or our feature extraction doesn't capture enough information from the reviews. In theory, our model will perform better if the feature is more informative, so next chapter we will look at improving our model by changing the features it's trained on."
   ]
  },
  {
   "cell_type": "markdown",
   "id": "3c344419-bba7-45df-baec-b071725bf690",
   "metadata": {},
   "source": [
    "## Multiclass classification\n",
    "\n",
    "I don't expect this to work well, but let's see anyway."
   ]
  },
  {
   "cell_type": "code",
   "execution_count": 13,
   "id": "d81e0bb1-10e7-4706-bff0-81c3ca069f5e",
   "metadata": {},
   "outputs": [
    {
     "data": {
      "text/html": [
       "<div>\n",
       "<style scoped>\n",
       "    .dataframe tbody tr th:only-of-type {\n",
       "        vertical-align: middle;\n",
       "    }\n",
       "\n",
       "    .dataframe tbody tr th {\n",
       "        vertical-align: top;\n",
       "    }\n",
       "\n",
       "    .dataframe thead th {\n",
       "        text-align: right;\n",
       "    }\n",
       "</style>\n",
       "<table border=\"1\" class=\"dataframe\">\n",
       "  <thead>\n",
       "    <tr style=\"text-align: right;\">\n",
       "      <th></th>\n",
       "      <th>Accuracy</th>\n",
       "    </tr>\n",
       "    <tr>\n",
       "      <th>Model</th>\n",
       "      <th></th>\n",
       "    </tr>\n",
       "  </thead>\n",
       "  <tbody>\n",
       "    <tr>\n",
       "      <th>Baseline</th>\n",
       "      <td>0.199715</td>\n",
       "    </tr>\n",
       "  </tbody>\n",
       "</table>\n",
       "</div>"
      ],
      "text/plain": [
       "          Accuracy\n",
       "Model             \n",
       "Baseline  0.199715"
      ]
     },
     "execution_count": 13,
     "metadata": {},
     "output_type": "execute_result"
    }
   ],
   "source": [
    "# | echo: false\n",
    "from nlpbook import get_multiclass_results\n",
    "\n",
    "get_multiclass_results([\"Baseline\"])"
   ]
  },
  {
   "cell_type": "markdown",
   "id": "ef61a0b1-6580-4004-9d97-eb5e3b1e25e0",
   "metadata": {},
   "source": [
    "The baseline accuracy is 20%, can we do better?"
   ]
  },
  {
   "cell_type": "code",
   "execution_count": 14,
   "id": "b1f981c4-d6ff-4e33-a267-43c2214ef419",
   "metadata": {},
   "outputs": [
    {
     "data": {
      "text/plain": [
       "0.17367243133265514"
      ]
     },
     "execution_count": 14,
     "metadata": {},
     "output_type": "execute_result"
    }
   ],
   "source": [
    "oner = OneR().fit(X, train_df[\"rating\"])\n",
    "oner.score(X_test, test_df[\"rating\"])"
   ]
  },
  {
   "cell_type": "markdown",
   "id": "5b5fce18-284f-4c96-b7e2-ff27ae4cc896",
   "metadata": {},
   "source": [
    "Nope, but that's OK. It will get better in the future, I promise!"
   ]
  }
 ],
 "metadata": {
  "kernelspec": {
   "display_name": "Python 3 (ipykernel)",
   "language": "python",
   "name": "python3"
  },
  "language_info": {
   "codemirror_mode": {
    "name": "ipython",
    "version": 3
   },
   "file_extension": ".py",
   "mimetype": "text/x-python",
   "name": "python",
   "nbconvert_exporter": "python",
   "pygments_lexer": "ipython3",
   "version": "3.12.4"
  }
 },
 "nbformat": 4,
 "nbformat_minor": 5
}
