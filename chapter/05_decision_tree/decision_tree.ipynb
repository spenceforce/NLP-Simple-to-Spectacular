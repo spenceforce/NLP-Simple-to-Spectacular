{
 "cells": [
  {
   "cell_type": "raw",
   "id": "014f8460-345e-4a65-9a2c-21a3b5380309",
   "metadata": {},
   "source": [
    "---\n",
    "title: More rules with Decision Trees\n",
    "---"
   ]
  },
  {
   "cell_type": "markdown",
   "id": "3e72d1f2-1946-4972-a788-9488e6922ac1",
   "metadata": {},
   "source": [
    "We made progress with [OneR](../04_boc/boc.ipynb) which makes predictions on one feature of the dataset. The next logical step is to make predictions on combinations of features. This is what a [Decision Tree](https://en.wikipedia.org/wiki/Decision_tree) does."
   ]
  },
  {
   "cell_type": "markdown",
   "id": "3266a3f1-b3a6-4175-9e13-35f9c6a440d7",
   "metadata": {},
   "source": [
    "## Easy button\n",
    "\n",
    "We'll use bag of characters feature extraction like we did last chapter and feed that to the decision tree."
   ]
  },
  {
   "cell_type": "code",
   "execution_count": 18,
   "id": "2e11c15f-cbfe-4e78-9299-e892605fd424",
   "metadata": {},
   "outputs": [
    {
     "data": {
      "text/plain": [
       "0.5540183112919633"
      ]
     },
     "execution_count": 18,
     "metadata": {},
     "output_type": "execute_result"
    }
   ],
   "source": [
    "from sklearn.compose import ColumnTransformer\n",
    "from sklearn.feature_extraction.text import CountVectorizer\n",
    "from sklearn.pipeline import Pipeline\n",
    "from sklearn.tree import DecisionTreeClassifier\n",
    "from nlpbook import get_train_test_data\n",
    "\n",
    "# Grab the data and extract the features and labels.\n",
    "train, test = get_train_test_data()\n",
    "features = [\"review\"]\n",
    "label = \"label\"\n",
    "X, y = train[features], train[label]\n",
    "X_test, y_test = test[features], test[label]\n",
    "\n",
    "# Set up the pipeline.\n",
    "transformers = ColumnTransformer(\n",
    "    [\n",
    "        (\n",
    "            \"boc\",\n",
    "            CountVectorizer(analyzer=\"char\", lowercase=False),\n",
    "            \"review\",\n",
    "        )\n",
    "    ]\n",
    ")\n",
    "model = DecisionTreeClassifier()\n",
    "pipeline = Pipeline(\n",
    "    [(\"bag_chars\", transformers), (\"decision_tree\", model)]\n",
    ")\n",
    "\n",
    "# Train it!\n",
    "pipeline.fit(X, y)\n",
    "# Score it!\n",
    "pipeline.score(X_test, y_test)"
   ]
  },
  {
   "cell_type": "markdown",
   "id": "96fbbc0e-c4dd-4b8f-9f54-6273aa14cfa1",
   "metadata": {},
   "source": [
    "How does this compare to our previous models?"
   ]
  },
  {
   "cell_type": "code",
   "execution_count": 3,
   "id": "09a61646-13e2-43de-80bb-79d684e6001b",
   "metadata": {},
   "outputs": [
    {
     "data": {
      "text/html": [
       "<div>\n",
       "<style scoped>\n",
       "    .dataframe tbody tr th:only-of-type {\n",
       "        vertical-align: middle;\n",
       "    }\n",
       "\n",
       "    .dataframe tbody tr th {\n",
       "        vertical-align: top;\n",
       "    }\n",
       "\n",
       "    .dataframe thead th {\n",
       "        text-align: right;\n",
       "    }\n",
       "</style>\n",
       "<table border=\"1\" class=\"dataframe\">\n",
       "  <thead>\n",
       "    <tr style=\"text-align: right;\">\n",
       "      <th></th>\n",
       "      <th>Accuracy</th>\n",
       "    </tr>\n",
       "    <tr>\n",
       "      <th>Model</th>\n",
       "      <th></th>\n",
       "    </tr>\n",
       "  </thead>\n",
       "  <tbody>\n",
       "    <tr>\n",
       "      <th>Baseline</th>\n",
       "      <td>0.501119</td>\n",
       "    </tr>\n",
       "    <tr>\n",
       "      <th>OneR (boc)</th>\n",
       "      <td>0.581282</td>\n",
       "    </tr>\n",
       "  </tbody>\n",
       "</table>\n",
       "</div>"
      ],
      "text/plain": [
       "            Accuracy\n",
       "Model               \n",
       "Baseline    0.501119\n",
       "OneR (boc)  0.581282"
      ]
     },
     "execution_count": 3,
     "metadata": {},
     "output_type": "execute_result"
    }
   ],
   "source": [
    "# | echo: false\n",
    "from nlpbook import get_results\n",
    "\n",
    "get_results([\"Baseline\", \"OneR (boc)\"])"
   ]
  },
  {
   "cell_type": "markdown",
   "id": "9e3b0f6a-f31c-4696-810e-79417b82e04f",
   "metadata": {},
   "source": [
    "Ah man, it actually performed worse than OneR! But why?"
   ]
  },
  {
   "cell_type": "markdown",
   "id": "0681ae21-1c51-42ea-ba56-7cab0fae7c29",
   "metadata": {},
   "source": [
    "## Analyzing a model\n",
    "\n",
    "Models are not infallible. In fact all of our models so far have been very fallible and it would be helpful to inspect these models to figure out why they get things wrong.\n",
    "\n",
    "Previously we used the OneR model to inspect and learn about the data (@sec-models-as-analysis-tools). We found the most important feature with OneR was the number of question marks in a review. Then we plotted the data and saw reviews with no question marks were more likely to be positive and reviews with question marks were more likely to be negative. We can take this a step further and look at how important the model thinks all features are and it's actually quite simple.\n",
    "\n",
    "### Feature permutation\n",
    "\n",
    "Once we have a trained model, we can see how important that model thinks a feature is by randomly shuffling the values of that feature across the dataset and seeing how it impacts accuracy. If the accuracy stays roughly the same then the feature doesn't contribute and isn't important. On the other hand if we see the accuracy drop, then that feature plays a roll in the accuracy we see.\n",
    "\n",
    "Let's test this out on the question mark feature."
   ]
  },
  {
   "cell_type": "code",
   "execution_count": null,
   "id": "a2962cba-dee0-4ad5-9234-37b049db868f",
   "metadata": {},
   "outputs": [],
   "source": [
    "# Get the bag of characters feature extractor.\n",
    "# The column transformer can be accessed through `named_transformers` like so:\n",
    "boc = transformers.named_transformers_[\"boc\"]\n",
    "\n",
    "# Find the index of \"?\".\n",
    "i = boc.vocabulary[\"?\"]\n",
    "\n",
    "# Transform the data.\n",
    "X_permute = transformers.transform(X_test)\n",
    "# Shuffle the feature values.\n",
    "X_permute[:, i] ="
   ]
  }
 ],
 "metadata": {
  "kernelspec": {
   "display_name": "Python 3 (ipykernel)",
   "language": "python",
   "name": "python3"
  },
  "language_info": {
   "codemirror_mode": {
    "name": "ipython",
    "version": 3
   },
   "file_extension": ".py",
   "mimetype": "text/x-python",
   "name": "python",
   "nbconvert_exporter": "python",
   "pygments_lexer": "ipython3",
   "version": "3.12.4"
  }
 },
 "nbformat": 4,
 "nbformat_minor": 5
}
